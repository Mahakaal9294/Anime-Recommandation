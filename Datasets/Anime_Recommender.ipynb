{
  "nbformat": 4,
  "nbformat_minor": 0,
  "metadata": {
    "colab": {
      "provenance": []
    },
    "kernelspec": {
      "name": "python3",
      "display_name": "Python 3"
    },
    "language_info": {
      "name": "python"
    }
  },
  "cells": [
    {
      "cell_type": "markdown",
      "source": [
        "# **ANIME RECOMMENDER**"
      ],
      "metadata": {
        "id": "0mPNFak8edRO"
      }
    },
    {
      "cell_type": "markdown",
      "source": [
        "## Loading the Libraries"
      ],
      "metadata": {
        "id": "GHOS5J6-ezdy"
      }
    },
    {
      "cell_type": "code",
      "execution_count": 22,
      "metadata": {
        "id": "nIaSlTtjeHJN"
      },
      "outputs": [],
      "source": [
        "import pandas as pd\n",
        "import numpy as np\n",
        "from collections import Counter\n",
        "import random\n",
        "import ast\n",
        "from sklearn.feature_extraction.text import CountVectorizer\n",
        "from sklearn.feature_extraction.text import TfidfVectorizer\n",
        "import nltk\n",
        "from nltk.stem.porter import PorterStemmer\n",
        "from sklearn.metrics.pairwise import cosine_similarity"
      ]
    },
    {
      "cell_type": "markdown",
      "source": [
        "## Loading the Dataset"
      ],
      "metadata": {
        "id": "YOeMnC9HfvJc"
      }
    },
    {
      "cell_type": "code",
      "source": [
        "anime = pd.read_csv('Anime_Dataset.csv')"
      ],
      "metadata": {
        "id": "SUxnzrg4ftDj"
      },
      "execution_count": 23,
      "outputs": []
    },
    {
      "cell_type": "code",
      "source": [
        "anime.head()"
      ],
      "metadata": {
        "colab": {
          "base_uri": "https://localhost:8080/",
          "height": 729
        },
        "id": "kmmqMZSIf-PO",
        "outputId": "090a7aa4-947d-4f0c-ffc9-9b3dacfd0b72"
      },
      "execution_count": 24,
      "outputs": [
        {
          "output_type": "execute_result",
          "data": {
            "text/plain": [
              "                                                name  \\\n",
              "0                            Jungle no Ouja Taa-chan   \n",
              "1   Majestic Prince Episode 25 – Wings to the Future   \n",
              "2           My Hero Academia Season 2: Hero Notebook   \n",
              "3  Ghost in the Shell: Stand Alone Complex 2nd GI...   \n",
              "4  Ghost in the Shell: Stand Alone Complex - The ...   \n",
              "\n",
              "                                                  Id  \\\n",
              "0                       jungle-no-ouja-taa-chan-3446   \n",
              "1  majestic-prince-episode-25-wings-to-the-future...   \n",
              "2       my-hero-academia-season-2-hero-notebook-2208   \n",
              "3  ghost-in-the-shell-stand-alone-complex-2nd-gig...   \n",
              "4  ghost-in-the-shell-stand-alone-complex-the-lau...   \n",
              "\n",
              "                                               jname pganime quality  epsub  \\\n",
              "0                            Jungle no Ouja Taa-chan      R+     NaN    1.0   \n",
              "1  Ginga Kikoutai Majestic Prince: Mirai e no Tsu...   PG-13     NaN    1.0   \n",
              "2        Boku no Hero Academia 2nd Season: Hero Note   PG-13     NaN    1.0   \n",
              "3  Koukaku Kidoutai: Stand Alone Complex 2nd GIG ...       R     NaN    1.0   \n",
              "4  Koukaku Kidoutai: Stand Alone Complex - The La...       R      HD    1.0   \n",
              "\n",
              "   epdub totalep  formats duration  \\\n",
              "0  False      50       TV      24m   \n",
              "1      1   False  Special      23m   \n",
              "2      1   False  Special      23m   \n",
              "3      1   False  Special   2h 41m   \n",
              "4      1   False  Special   2h 40m   \n",
              "\n",
              "                                                desc  \\\n",
              "0  Ta-chan is the king of jungle. He was abandone...   \n",
              "1  Team Fawn from Gurantseere Academy dreams of o...   \n",
              "2  Recap of Boku no Hero Academia that aired a we...   \n",
              "3  Compilation movie of the \"Individual Eleven\" s...   \n",
              "4  In 2024, the terrorist incident known as \"The ...   \n",
              "\n",
              "                          aired   premired      statusAnime        malscore  \\\n",
              "0  Oct 14, 1993 to Sep 29, 1994  Fall 1993  Finished Airing            7.02   \n",
              "1                  Sep 29, 2016        NaN  Finished Airing            6.45   \n",
              "2                  Mar 25, 2017        NaN  Finished Airing            7.33   \n",
              "3                  Jan 27, 2006        NaN  Finished Airing            8.02   \n",
              "4                           NaN     2h 40m              8.1  Production I.G   \n",
              "\n",
              "                                               genre          studio  \\\n",
              "0                     ['Action', 'Comedy', 'Parody']       Group TAC   \n",
              "1  ['Action', 'Sci-Fi', 'Space', 'Mecha', 'School...          Orange   \n",
              "2                ['Action', 'Comedy', 'Super Power']           Bones   \n",
              "3                      ['Action', 'Mecha', 'Sci-Fi']  Production I.G   \n",
              "4  ['Action', 'Mystery', 'Mecha', 'Sci-Fi', 'Poli...  Production I.G   \n",
              "\n",
              "                                            producer  \\\n",
              "0                          ['TV Tokyo', 'Group TAC']   \n",
              "1  ['Sotsu', 'Orange', 'Seven Arcs Pictures', 'Se...   \n",
              "2                            ['Bones', 'Funimation']   \n",
              "3  ['Production I.G', 'Bandai Visual', 'Tokuma Sh...   \n",
              "4                                                 []   \n",
              "\n",
              "                                           animechar  \\\n",
              "0  [{'name': 'JaneNarahashi, Miki', 'voice': 'Nar...   \n",
              "1  [{'name': 'Magalanes, YuiAmamiya, Sora', 'voic...   \n",
              "2  [{'name': 'All MightMiyake, Kenta', 'voice': '...   \n",
              "3  [{'name': 'Aramaki, DaisukeRoberts, Russell', ...   \n",
              "4  [{'name': 'Aramaki, DaisukeRoberts, Russell', ...   \n",
              "\n",
              "                                               image  \n",
              "0  https://img.flawlessfiles.com/_r/300x400/100/f...  \n",
              "1  https://img.flawlessfiles.com/_r/300x400/100/b...  \n",
              "2  https://img.flawlessfiles.com/_r/300x400/100/b...  \n",
              "3  https://img.flawlessfiles.com/_r/300x400/100/e...  \n",
              "4  https://img.flawlessfiles.com/_r/300x400/100/4...  "
            ],
            "text/html": [
              "\n",
              "  <div id=\"df-bc8485ed-6cc1-44b2-b264-98a9a77449e2\" class=\"colab-df-container\">\n",
              "    <div>\n",
              "<style scoped>\n",
              "    .dataframe tbody tr th:only-of-type {\n",
              "        vertical-align: middle;\n",
              "    }\n",
              "\n",
              "    .dataframe tbody tr th {\n",
              "        vertical-align: top;\n",
              "    }\n",
              "\n",
              "    .dataframe thead th {\n",
              "        text-align: right;\n",
              "    }\n",
              "</style>\n",
              "<table border=\"1\" class=\"dataframe\">\n",
              "  <thead>\n",
              "    <tr style=\"text-align: right;\">\n",
              "      <th></th>\n",
              "      <th>name</th>\n",
              "      <th>Id</th>\n",
              "      <th>jname</th>\n",
              "      <th>pganime</th>\n",
              "      <th>quality</th>\n",
              "      <th>epsub</th>\n",
              "      <th>epdub</th>\n",
              "      <th>totalep</th>\n",
              "      <th>formats</th>\n",
              "      <th>duration</th>\n",
              "      <th>desc</th>\n",
              "      <th>aired</th>\n",
              "      <th>premired</th>\n",
              "      <th>statusAnime</th>\n",
              "      <th>malscore</th>\n",
              "      <th>genre</th>\n",
              "      <th>studio</th>\n",
              "      <th>producer</th>\n",
              "      <th>animechar</th>\n",
              "      <th>image</th>\n",
              "    </tr>\n",
              "  </thead>\n",
              "  <tbody>\n",
              "    <tr>\n",
              "      <th>0</th>\n",
              "      <td>Jungle no Ouja Taa-chan</td>\n",
              "      <td>jungle-no-ouja-taa-chan-3446</td>\n",
              "      <td>Jungle no Ouja Taa-chan</td>\n",
              "      <td>R+</td>\n",
              "      <td>NaN</td>\n",
              "      <td>1.0</td>\n",
              "      <td>False</td>\n",
              "      <td>50</td>\n",
              "      <td>TV</td>\n",
              "      <td>24m</td>\n",
              "      <td>Ta-chan is the king of jungle. He was abandone...</td>\n",
              "      <td>Oct 14, 1993 to Sep 29, 1994</td>\n",
              "      <td>Fall 1993</td>\n",
              "      <td>Finished Airing</td>\n",
              "      <td>7.02</td>\n",
              "      <td>['Action', 'Comedy', 'Parody']</td>\n",
              "      <td>Group TAC</td>\n",
              "      <td>['TV Tokyo', 'Group TAC']</td>\n",
              "      <td>[{'name': 'JaneNarahashi, Miki', 'voice': 'Nar...</td>\n",
              "      <td>https://img.flawlessfiles.com/_r/300x400/100/f...</td>\n",
              "    </tr>\n",
              "    <tr>\n",
              "      <th>1</th>\n",
              "      <td>Majestic Prince Episode 25 – Wings to the Future</td>\n",
              "      <td>majestic-prince-episode-25-wings-to-the-future...</td>\n",
              "      <td>Ginga Kikoutai Majestic Prince: Mirai e no Tsu...</td>\n",
              "      <td>PG-13</td>\n",
              "      <td>NaN</td>\n",
              "      <td>1.0</td>\n",
              "      <td>1</td>\n",
              "      <td>False</td>\n",
              "      <td>Special</td>\n",
              "      <td>23m</td>\n",
              "      <td>Team Fawn from Gurantseere Academy dreams of o...</td>\n",
              "      <td>Sep 29, 2016</td>\n",
              "      <td>NaN</td>\n",
              "      <td>Finished Airing</td>\n",
              "      <td>6.45</td>\n",
              "      <td>['Action', 'Sci-Fi', 'Space', 'Mecha', 'School...</td>\n",
              "      <td>Orange</td>\n",
              "      <td>['Sotsu', 'Orange', 'Seven Arcs Pictures', 'Se...</td>\n",
              "      <td>[{'name': 'Magalanes, YuiAmamiya, Sora', 'voic...</td>\n",
              "      <td>https://img.flawlessfiles.com/_r/300x400/100/b...</td>\n",
              "    </tr>\n",
              "    <tr>\n",
              "      <th>2</th>\n",
              "      <td>My Hero Academia Season 2: Hero Notebook</td>\n",
              "      <td>my-hero-academia-season-2-hero-notebook-2208</td>\n",
              "      <td>Boku no Hero Academia 2nd Season: Hero Note</td>\n",
              "      <td>PG-13</td>\n",
              "      <td>NaN</td>\n",
              "      <td>1.0</td>\n",
              "      <td>1</td>\n",
              "      <td>False</td>\n",
              "      <td>Special</td>\n",
              "      <td>23m</td>\n",
              "      <td>Recap of Boku no Hero Academia that aired a we...</td>\n",
              "      <td>Mar 25, 2017</td>\n",
              "      <td>NaN</td>\n",
              "      <td>Finished Airing</td>\n",
              "      <td>7.33</td>\n",
              "      <td>['Action', 'Comedy', 'Super Power']</td>\n",
              "      <td>Bones</td>\n",
              "      <td>['Bones', 'Funimation']</td>\n",
              "      <td>[{'name': 'All MightMiyake, Kenta', 'voice': '...</td>\n",
              "      <td>https://img.flawlessfiles.com/_r/300x400/100/b...</td>\n",
              "    </tr>\n",
              "    <tr>\n",
              "      <th>3</th>\n",
              "      <td>Ghost in the Shell: Stand Alone Complex 2nd GI...</td>\n",
              "      <td>ghost-in-the-shell-stand-alone-complex-2nd-gig...</td>\n",
              "      <td>Koukaku Kidoutai: Stand Alone Complex 2nd GIG ...</td>\n",
              "      <td>R</td>\n",
              "      <td>NaN</td>\n",
              "      <td>1.0</td>\n",
              "      <td>1</td>\n",
              "      <td>False</td>\n",
              "      <td>Special</td>\n",
              "      <td>2h 41m</td>\n",
              "      <td>Compilation movie of the \"Individual Eleven\" s...</td>\n",
              "      <td>Jan 27, 2006</td>\n",
              "      <td>NaN</td>\n",
              "      <td>Finished Airing</td>\n",
              "      <td>8.02</td>\n",
              "      <td>['Action', 'Mecha', 'Sci-Fi']</td>\n",
              "      <td>Production I.G</td>\n",
              "      <td>['Production I.G', 'Bandai Visual', 'Tokuma Sh...</td>\n",
              "      <td>[{'name': 'Aramaki, DaisukeRoberts, Russell', ...</td>\n",
              "      <td>https://img.flawlessfiles.com/_r/300x400/100/e...</td>\n",
              "    </tr>\n",
              "    <tr>\n",
              "      <th>4</th>\n",
              "      <td>Ghost in the Shell: Stand Alone Complex - The ...</td>\n",
              "      <td>ghost-in-the-shell-stand-alone-complex-the-lau...</td>\n",
              "      <td>Koukaku Kidoutai: Stand Alone Complex - The La...</td>\n",
              "      <td>R</td>\n",
              "      <td>HD</td>\n",
              "      <td>1.0</td>\n",
              "      <td>1</td>\n",
              "      <td>False</td>\n",
              "      <td>Special</td>\n",
              "      <td>2h 40m</td>\n",
              "      <td>In 2024, the terrorist incident known as \"The ...</td>\n",
              "      <td>NaN</td>\n",
              "      <td>2h 40m</td>\n",
              "      <td>8.1</td>\n",
              "      <td>Production I.G</td>\n",
              "      <td>['Action', 'Mystery', 'Mecha', 'Sci-Fi', 'Poli...</td>\n",
              "      <td>Production I.G</td>\n",
              "      <td>[]</td>\n",
              "      <td>[{'name': 'Aramaki, DaisukeRoberts, Russell', ...</td>\n",
              "      <td>https://img.flawlessfiles.com/_r/300x400/100/4...</td>\n",
              "    </tr>\n",
              "  </tbody>\n",
              "</table>\n",
              "</div>\n",
              "    <div class=\"colab-df-buttons\">\n",
              "\n",
              "  <div class=\"colab-df-container\">\n",
              "    <button class=\"colab-df-convert\" onclick=\"convertToInteractive('df-bc8485ed-6cc1-44b2-b264-98a9a77449e2')\"\n",
              "            title=\"Convert this dataframe to an interactive table.\"\n",
              "            style=\"display:none;\">\n",
              "\n",
              "  <svg xmlns=\"http://www.w3.org/2000/svg\" height=\"24px\" viewBox=\"0 -960 960 960\">\n",
              "    <path d=\"M120-120v-720h720v720H120Zm60-500h600v-160H180v160Zm220 220h160v-160H400v160Zm0 220h160v-160H400v160ZM180-400h160v-160H180v160Zm440 0h160v-160H620v160ZM180-180h160v-160H180v160Zm440 0h160v-160H620v160Z\"/>\n",
              "  </svg>\n",
              "    </button>\n",
              "\n",
              "  <style>\n",
              "    .colab-df-container {\n",
              "      display:flex;\n",
              "      gap: 12px;\n",
              "    }\n",
              "\n",
              "    .colab-df-convert {\n",
              "      background-color: #E8F0FE;\n",
              "      border: none;\n",
              "      border-radius: 50%;\n",
              "      cursor: pointer;\n",
              "      display: none;\n",
              "      fill: #1967D2;\n",
              "      height: 32px;\n",
              "      padding: 0 0 0 0;\n",
              "      width: 32px;\n",
              "    }\n",
              "\n",
              "    .colab-df-convert:hover {\n",
              "      background-color: #E2EBFA;\n",
              "      box-shadow: 0px 1px 2px rgba(60, 64, 67, 0.3), 0px 1px 3px 1px rgba(60, 64, 67, 0.15);\n",
              "      fill: #174EA6;\n",
              "    }\n",
              "\n",
              "    .colab-df-buttons div {\n",
              "      margin-bottom: 4px;\n",
              "    }\n",
              "\n",
              "    [theme=dark] .colab-df-convert {\n",
              "      background-color: #3B4455;\n",
              "      fill: #D2E3FC;\n",
              "    }\n",
              "\n",
              "    [theme=dark] .colab-df-convert:hover {\n",
              "      background-color: #434B5C;\n",
              "      box-shadow: 0px 1px 3px 1px rgba(0, 0, 0, 0.15);\n",
              "      filter: drop-shadow(0px 1px 2px rgba(0, 0, 0, 0.3));\n",
              "      fill: #FFFFFF;\n",
              "    }\n",
              "  </style>\n",
              "\n",
              "    <script>\n",
              "      const buttonEl =\n",
              "        document.querySelector('#df-bc8485ed-6cc1-44b2-b264-98a9a77449e2 button.colab-df-convert');\n",
              "      buttonEl.style.display =\n",
              "        google.colab.kernel.accessAllowed ? 'block' : 'none';\n",
              "\n",
              "      async function convertToInteractive(key) {\n",
              "        const element = document.querySelector('#df-bc8485ed-6cc1-44b2-b264-98a9a77449e2');\n",
              "        const dataTable =\n",
              "          await google.colab.kernel.invokeFunction('convertToInteractive',\n",
              "                                                    [key], {});\n",
              "        if (!dataTable) return;\n",
              "\n",
              "        const docLinkHtml = 'Like what you see? Visit the ' +\n",
              "          '<a target=\"_blank\" href=https://colab.research.google.com/notebooks/data_table.ipynb>data table notebook</a>'\n",
              "          + ' to learn more about interactive tables.';\n",
              "        element.innerHTML = '';\n",
              "        dataTable['output_type'] = 'display_data';\n",
              "        await google.colab.output.renderOutput(dataTable, element);\n",
              "        const docLink = document.createElement('div');\n",
              "        docLink.innerHTML = docLinkHtml;\n",
              "        element.appendChild(docLink);\n",
              "      }\n",
              "    </script>\n",
              "  </div>\n",
              "\n",
              "\n",
              "<div id=\"df-30f5b71e-c4b9-403a-a3e3-e8ebfb77f3d3\">\n",
              "  <button class=\"colab-df-quickchart\" onclick=\"quickchart('df-30f5b71e-c4b9-403a-a3e3-e8ebfb77f3d3')\"\n",
              "            title=\"Suggest charts\"\n",
              "            style=\"display:none;\">\n",
              "\n",
              "<svg xmlns=\"http://www.w3.org/2000/svg\" height=\"24px\"viewBox=\"0 0 24 24\"\n",
              "     width=\"24px\">\n",
              "    <g>\n",
              "        <path d=\"M19 3H5c-1.1 0-2 .9-2 2v14c0 1.1.9 2 2 2h14c1.1 0 2-.9 2-2V5c0-1.1-.9-2-2-2zM9 17H7v-7h2v7zm4 0h-2V7h2v10zm4 0h-2v-4h2v4z\"/>\n",
              "    </g>\n",
              "</svg>\n",
              "  </button>\n",
              "\n",
              "<style>\n",
              "  .colab-df-quickchart {\n",
              "      --bg-color: #E8F0FE;\n",
              "      --fill-color: #1967D2;\n",
              "      --hover-bg-color: #E2EBFA;\n",
              "      --hover-fill-color: #174EA6;\n",
              "      --disabled-fill-color: #AAA;\n",
              "      --disabled-bg-color: #DDD;\n",
              "  }\n",
              "\n",
              "  [theme=dark] .colab-df-quickchart {\n",
              "      --bg-color: #3B4455;\n",
              "      --fill-color: #D2E3FC;\n",
              "      --hover-bg-color: #434B5C;\n",
              "      --hover-fill-color: #FFFFFF;\n",
              "      --disabled-bg-color: #3B4455;\n",
              "      --disabled-fill-color: #666;\n",
              "  }\n",
              "\n",
              "  .colab-df-quickchart {\n",
              "    background-color: var(--bg-color);\n",
              "    border: none;\n",
              "    border-radius: 50%;\n",
              "    cursor: pointer;\n",
              "    display: none;\n",
              "    fill: var(--fill-color);\n",
              "    height: 32px;\n",
              "    padding: 0;\n",
              "    width: 32px;\n",
              "  }\n",
              "\n",
              "  .colab-df-quickchart:hover {\n",
              "    background-color: var(--hover-bg-color);\n",
              "    box-shadow: 0 1px 2px rgba(60, 64, 67, 0.3), 0 1px 3px 1px rgba(60, 64, 67, 0.15);\n",
              "    fill: var(--button-hover-fill-color);\n",
              "  }\n",
              "\n",
              "  .colab-df-quickchart-complete:disabled,\n",
              "  .colab-df-quickchart-complete:disabled:hover {\n",
              "    background-color: var(--disabled-bg-color);\n",
              "    fill: var(--disabled-fill-color);\n",
              "    box-shadow: none;\n",
              "  }\n",
              "\n",
              "  .colab-df-spinner {\n",
              "    border: 2px solid var(--fill-color);\n",
              "    border-color: transparent;\n",
              "    border-bottom-color: var(--fill-color);\n",
              "    animation:\n",
              "      spin 1s steps(1) infinite;\n",
              "  }\n",
              "\n",
              "  @keyframes spin {\n",
              "    0% {\n",
              "      border-color: transparent;\n",
              "      border-bottom-color: var(--fill-color);\n",
              "      border-left-color: var(--fill-color);\n",
              "    }\n",
              "    20% {\n",
              "      border-color: transparent;\n",
              "      border-left-color: var(--fill-color);\n",
              "      border-top-color: var(--fill-color);\n",
              "    }\n",
              "    30% {\n",
              "      border-color: transparent;\n",
              "      border-left-color: var(--fill-color);\n",
              "      border-top-color: var(--fill-color);\n",
              "      border-right-color: var(--fill-color);\n",
              "    }\n",
              "    40% {\n",
              "      border-color: transparent;\n",
              "      border-right-color: var(--fill-color);\n",
              "      border-top-color: var(--fill-color);\n",
              "    }\n",
              "    60% {\n",
              "      border-color: transparent;\n",
              "      border-right-color: var(--fill-color);\n",
              "    }\n",
              "    80% {\n",
              "      border-color: transparent;\n",
              "      border-right-color: var(--fill-color);\n",
              "      border-bottom-color: var(--fill-color);\n",
              "    }\n",
              "    90% {\n",
              "      border-color: transparent;\n",
              "      border-bottom-color: var(--fill-color);\n",
              "    }\n",
              "  }\n",
              "</style>\n",
              "\n",
              "  <script>\n",
              "    async function quickchart(key) {\n",
              "      const quickchartButtonEl =\n",
              "        document.querySelector('#' + key + ' button');\n",
              "      quickchartButtonEl.disabled = true;  // To prevent multiple clicks.\n",
              "      quickchartButtonEl.classList.add('colab-df-spinner');\n",
              "      try {\n",
              "        const charts = await google.colab.kernel.invokeFunction(\n",
              "            'suggestCharts', [key], {});\n",
              "      } catch (error) {\n",
              "        console.error('Error during call to suggestCharts:', error);\n",
              "      }\n",
              "      quickchartButtonEl.classList.remove('colab-df-spinner');\n",
              "      quickchartButtonEl.classList.add('colab-df-quickchart-complete');\n",
              "    }\n",
              "    (() => {\n",
              "      let quickchartButtonEl =\n",
              "        document.querySelector('#df-30f5b71e-c4b9-403a-a3e3-e8ebfb77f3d3 button');\n",
              "      quickchartButtonEl.style.display =\n",
              "        google.colab.kernel.accessAllowed ? 'block' : 'none';\n",
              "    })();\n",
              "  </script>\n",
              "</div>\n",
              "\n",
              "    </div>\n",
              "  </div>\n"
            ],
            "application/vnd.google.colaboratory.intrinsic+json": {
              "type": "dataframe",
              "variable_name": "anime",
              "summary": "{\n  \"name\": \"anime\",\n  \"rows\": 6928,\n  \"fields\": [\n    {\n      \"column\": \"name\",\n      \"properties\": {\n        \"dtype\": \"string\",\n        \"num_unique_values\": 6846,\n        \"samples\": [\n          \"Armitage III: Poly-Matrix\",\n          \"Princess Principal: Crown Handler - Chapter 3\",\n          \"Aria the Scarlet Ammo Special\"\n        ],\n        \"semantic_type\": \"\",\n        \"description\": \"\"\n      }\n    },\n    {\n      \"column\": \"Id\",\n      \"properties\": {\n        \"dtype\": \"string\",\n        \"num_unique_values\": 6928,\n        \"samples\": [\n          \"shingu-secret-of-the-stellar-wars-3347\",\n          \"seitokai-yakuindomo-1248\",\n          \"youkai-watch-movie-5-forever-friends-5644\"\n        ],\n        \"semantic_type\": \"\",\n        \"description\": \"\"\n      }\n    },\n    {\n      \"column\": \"jname\",\n      \"properties\": {\n        \"dtype\": \"string\",\n        \"num_unique_values\": 6921,\n        \"samples\": [\n          \"Super Crooks\",\n          \"Grisaia no Meikyuu: Caprice no Mayu 0 - Takizono Basketball Club no Nama Cream Party!\",\n          \"Code Geass: Hangyaku no Lelouch\"\n        ],\n        \"semantic_type\": \"\",\n        \"description\": \"\"\n      }\n    },\n    {\n      \"column\": \"pganime\",\n      \"properties\": {\n        \"dtype\": \"category\",\n        \"num_unique_values\": 6,\n        \"samples\": [\n          \"R+\",\n          \"PG-13\",\n          \"Rx\"\n        ],\n        \"semantic_type\": \"\",\n        \"description\": \"\"\n      }\n    },\n    {\n      \"column\": \"quality\",\n      \"properties\": {\n        \"dtype\": \"category\",\n        \"num_unique_values\": 3,\n        \"samples\": [\n          \"HD\",\n          \"SD\",\n          \"CAM\"\n        ],\n        \"semantic_type\": \"\",\n        \"description\": \"\"\n      }\n    },\n    {\n      \"column\": \"epsub\",\n      \"properties\": {\n        \"dtype\": \"number\",\n        \"std\": 36.31270464622646,\n        \"min\": 1.0,\n        \"max\": 1315.0,\n        \"num_unique_values\": 166,\n        \"samples\": [\n          191.0,\n          480.0,\n          1126.0\n        ],\n        \"semantic_type\": \"\",\n        \"description\": \"\"\n      }\n    },\n    {\n      \"column\": \"epdub\",\n      \"properties\": {\n        \"dtype\": \"category\",\n        \"num_unique_values\": 98,\n        \"samples\": [\n          \"120\",\n          \"224\",\n          \"145\"\n        ],\n        \"semantic_type\": \"\",\n        \"description\": \"\"\n      }\n    },\n    {\n      \"column\": \"totalep\",\n      \"properties\": {\n        \"dtype\": \"category\",\n        \"num_unique_values\": 160,\n        \"samples\": [\n          \"104\",\n          \"53\",\n          \"195\"\n        ],\n        \"semantic_type\": \"\",\n        \"description\": \"\"\n      }\n    },\n    {\n      \"column\": \"formats\",\n      \"properties\": {\n        \"dtype\": \"category\",\n        \"num_unique_values\": 6,\n        \"samples\": [\n          \"TV\",\n          \"Special\",\n          \"Music\"\n        ],\n        \"semantic_type\": \"\",\n        \"description\": \"\"\n      }\n    },\n    {\n      \"column\": \"duration\",\n      \"properties\": {\n        \"dtype\": \"category\",\n        \"num_unique_values\": 149,\n        \"samples\": [\n          \"1h 41m\",\n          \"1h 15m\",\n          \"18m\"\n        ],\n        \"semantic_type\": \"\",\n        \"description\": \"\"\n      }\n    },\n    {\n      \"column\": \"desc\",\n      \"properties\": {\n        \"dtype\": \"string\",\n        \"num_unique_values\": 6692,\n        \"samples\": [\n          \"Waking up in a new world, 25-year-old Shingo Ichinomiya realizes that he is in the body of a six-year-old. Retaining memories of his stressful life working at a firm company, Shingo learns that the person he is occupying is Wendelin Von Benno Baumeister, the eighth son of a poor noble family living in the countryside. Awoken to his bizarre situation, Wendelin strives to change his financial and social status for the better. His newly discovered great magical aptitude may prove to be just what he needs to achieve that goal.\\n\\n[Written by MAL Rewrite]\\n                                \\n                                        Waking up in a new world, 25-year-old Shingo Ichinomiya realizes that he is in the body of a six-year-old. Retaining memories of his stressful life working at a firm company, Shingo learns that the person he is occupying is Wendelin Von Benno Baumeister, the eighth son of a poor noble family living in the countryside. Awoken to his bizarre situation, Wendelin strives to change his financial and social status for the better. His newly discovered great magical aptitude may prove to be just what he needs to achieve that goal.\\n\\n[Written by MAL Rewrite]\",\n          \"It's the start of a new year for the Genshiken crew, and that means recruiting new members. Always a dreaded task, The Society for the Study of Modern Visual Culture manages to get Chika Ogiue pushed onto them from the Manga Club. With her introduction of \\\"I'm Ogiue and I hate otaku,\\\" this year certainly will be anything but boring.\\n\\n(Source: ANN)\\n                                \\n                                        It's the start of a new year for the Genshiken crew, and that means recruiting new members. Always a dreaded task, The Society for the Study of Modern Visual Culture manages to get Chika Ogiue pushed onto them from the Manga Club. With her introduction of \\\"I'm Ogiue and I hate otaku,\\\" this year certainly will be anything but boring.\\n\\n(Source: ANN)\",\n          \"Graduation looms for the founding members of the Light Music Club. With only a few precious weeks of school left, the girls decide to make the most of it and plan a trip abroad. Hawaii, New York, Dubai\\u2014many destinations are suggested, but after a little help from the club's precious pet turtle, Ton-chan, London is chosen as the host of their next misadventure!\\n\\nYui Hirasawa, Mio Akiyama, Tsumugi Kotobuki, Ritsu Tainaka, and Azusa Nakano will visit famous landmarks, perform live music for Londoners, and eat all sorts of delicious food, all while stumbling clumsily from place to place. But the fun won't last forever, as heartfelt songs and goodbyes will be made as their high school days together come to a close. One thing is for certain though: the undeniable friendships these girls have formed is something that will carry on long after the final scene rolls.\\n                                \\n                                        Graduation looms for the founding members of the Light Music Club. With only a few precious weeks of school left, the girls decide to make the most of it and plan a trip abroad. Hawaii, New York, Dubai\\u2014many destinations are suggested, but after a little help from the club's precious pet turtle, Ton-chan, London is chosen as the host of their next misadventure!\\n\\nYui Hirasawa, Mio Akiyama, Tsumugi Kotobuki, Ritsu Tainaka, and Azusa Nakano will visit famous landmarks, perform live music for Londoners, and eat all sorts of delicious food, all while stumbling clumsily from place to place. But the fun won't last forever, as heartfelt songs and goodbyes will be made as their high school days together come to a close. One thing is for certain though: the undeniable friendships these girls have formed is something that will carry on long after the final scene rolls.\"\n        ],\n        \"semantic_type\": \"\",\n        \"description\": \"\"\n      }\n    },\n    {\n      \"column\": \"aired\",\n      \"properties\": {\n        \"dtype\": \"string\",\n        \"num_unique_values\": 4075,\n        \"samples\": [\n          \"Oct 3, 2016 to Dec 12, 2016\",\n          \"Apr 2, 2017 to Mar 25, 2018\",\n          \"Spring 2014\"\n        ],\n        \"semantic_type\": \"\",\n        \"description\": \"\"\n      }\n    },\n    {\n      \"column\": \"premired\",\n      \"properties\": {\n        \"dtype\": \"category\",\n        \"num_unique_values\": 353,\n        \"samples\": [\n          \"Winter 1997\",\n          \"1h 20m\",\n          \"1m\"\n        ],\n        \"semantic_type\": \"\",\n        \"description\": \"\"\n      }\n    },\n    {\n      \"column\": \"statusAnime\",\n      \"properties\": {\n        \"dtype\": \"category\",\n        \"num_unique_values\": 378,\n        \"samples\": [\n          \"7.97\",\n          \"8.37\",\n          \"5.62\"\n        ],\n        \"semantic_type\": \"\",\n        \"description\": \"\"\n      }\n    },\n    {\n      \"column\": \"malscore\",\n      \"properties\": {\n        \"dtype\": \"category\",\n        \"num_unique_values\": 855,\n        \"samples\": [\n          \"6.82\",\n          \"Tokyo Kids\",\n          \"7.15\"\n        ],\n        \"semantic_type\": \"\",\n        \"description\": \"\"\n      }\n    },\n    {\n      \"column\": \"genre\",\n      \"properties\": {\n        \"dtype\": \"category\",\n        \"num_unique_values\": 2829,\n        \"samples\": [\n          \"['Comedy', 'Mecha', 'Parody']\",\n          \"['Drama', 'Magic']\",\n          \"['Comedy', 'Fantasy', 'Shounen', 'Slice of Life', 'Isekai']\"\n        ],\n        \"semantic_type\": \"\",\n        \"description\": \"\"\n      }\n    },\n    {\n      \"column\": \"studio\",\n      \"properties\": {\n        \"dtype\": \"category\",\n        \"num_unique_values\": 762,\n        \"samples\": [\n          \"Arvo Animation\",\n          \"Studio Colorido\",\n          \"A.C.G.T.\"\n        ],\n        \"semantic_type\": \"\",\n        \"description\": \"\"\n      }\n    },\n    {\n      \"column\": \"producer\",\n      \"properties\": {\n        \"dtype\": \"category\",\n        \"num_unique_values\": 3066,\n        \"samples\": [\n          \"['Lantis', 'Shochiku', 'Heart Company', 'Kyoto Animation', 'Eleven Arts']\",\n          \"['TV Tokyo', 'Ai Addiction', 'Studio Deen']\",\n          \"['Fuji TV', 'Sony Music Entertainment', 'Gallop', 'ADV Films', 'Aniplex of America']\"\n        ],\n        \"semantic_type\": \"\",\n        \"description\": \"\"\n      }\n    },\n    {\n      \"column\": \"animechar\",\n      \"properties\": {\n        \"dtype\": \"string\",\n        \"num_unique_values\": 5296,\n        \"samples\": [\n          \"[{'name': 'Collette, GiselleClark, Leah', 'voice': 'Clark, Leah', 'animeImg': 'https://img.flawlessfiles.com/_r/100x100/100/b5/b0/b5b05da1f458223a50c48f85af5767e7/b5b05da1f458223a50c48f85af5767e7.jpg', 'animedesignation': 'Main', 'voicelang': 'English', 'voiceImageX': 'https://img.flawlessfiles.com/_r/100x100/100/c0/ce/c0ce0846a0f4b9fb304916ec4c641fbb/c0ce0846a0f4b9fb304916ec4c641fbb.jpg'}, {'name': 'Eraclea, DioAyres, Greg', 'voice': 'Ayres, Greg', 'animeImg': 'https://img.flawlessfiles.com/_r/100x100/100/11/b3/11b3912b2c18cce89855549803096ba9/11b3912b2c18cce89855549803096ba9.jpg', 'animedesignation': 'Main', 'voicelang': 'English', 'voiceImageX': 'https://img.flawlessfiles.com/_r/100x100/100/01/28/0128b11504cbad679999959887eb154b/0128b11504cbad679999959887eb154b.jpg'}, {'name': 'Fan Fan, FamToyosaki, Aki', 'voice': 'Toyosaki, Aki', 'animeImg': 'https://img.flawlessfiles.com/_r/100x100/100/b1/39/b139be53f3d768b1483cb0a8eba27b0c/b139be53f3d768b1483cb0a8eba27b0c.jpg', 'animedesignation': 'Main', 'voicelang': 'Japanese', 'voiceImageX': 'https://img.flawlessfiles.com/_r/100x100/100/48/54/4854184378d2c54e1d939a56abb862fe/4854184378d2c54e1d939a56abb862fe.jpg'}, {'name': 'Hamilton, Alvis E.Hanazawa, Kana', 'voice': 'Hanazawa, Kana', 'animeImg': 'https://img.flawlessfiles.com/_r/100x100/100/2e/2f/2e2f7df015f32cce41a86e3ad1ae69a9/2e2f7df015f32cce41a86e3ad1ae69a9.jpg', 'animedesignation': 'Main', 'voicelang': 'Japanese', 'voiceImageX': 'https://img.flawlessfiles.com/_r/100x100/100/62/af/62af5e41fec00ab73933f9a474c241c6/62af5e41fec00ab73933f9a474c241c6.jpg'}, {'name': 'Turan, Millia il Velch CutrettolaSavage, Carrie', 'voice': 'Savage, Carrie', 'animeImg': 'https://img.flawlessfiles.com/_r/100x100/100/41/a0/41a08bb4fb40a85aeda16c32f3d38a81/41a08bb4fb40a85aeda16c32f3d38a81.jpg', 'animedesignation': 'Main', 'voicelang': 'English', 'voiceImageX': 'https://img.flawlessfiles.com/_r/100x100/100/83/c2/83c2fe0ea2450426407c4e3c37a12cce/83c2fe0ea2450426407c4e3c37a12cce.jpg'}, {'name': 'Agrew, AlisterKuwatani, Natsuko', 'voice': 'Kuwatani, Natsuko', 'animeImg': 'https://img.flawlessfiles.com/_r/100x100/100/90/d9/90d9df540c6b5d00786f3a15f70824b2/90d9df540c6b5d00786f3a15f70824b2.jpg', 'animedesignation': 'Supporting', 'voicelang': 'Japanese', 'voiceImageX': 'https://img.flawlessfiles.com/_r/100x100/100/27/20/2720ef3fe2b727b3ee4530938e9c66ed/2720ef3fe2b727b3ee4530938e9c66ed.jpg'}]\",\n          \"[{'name': 'Mizutani, ShizukuTomatsu, Haruka', 'voice': 'Tomatsu, Haruka', 'animeImg': 'https://img.flawlessfiles.com/_r/100x100/100/e5/86/e58620b93888a5fb32811133a187a3a4/e58620b93888a5fb32811133a187a3a4.jpg', 'animedesignation': 'Main', 'voicelang': 'Japanese', 'voiceImageX': 'https://img.flawlessfiles.com/_r/100x100/100/47/42/4742d0f9506930c605738ed0189d2d5a/4742d0f9506930c605738ed0189d2d5a.jpg'}, {'name': 'Yoshida, HaruSuzuki, Tatsuhisa', 'voice': 'Suzuki, Tatsuhisa', 'animeImg': 'https://img.flawlessfiles.com/_r/100x100/100/f1/01/f10177f8127cdc45d54a14fdd3efc089/f10177f8127cdc45d54a14fdd3efc089.jpg', 'animedesignation': 'Main', 'voicelang': 'Japanese', 'voiceImageX': 'https://img.flawlessfiles.com/_r/100x100/100/ba/ba/baba2b34cab7c362d371ff21f6dc9f69/baba2b34cab7c362d371ff21f6dc9f69.jpg'}, {'name': 'Ayanokouji, MasahiroAbe, Atsushi', 'voice': 'Abe, Atsushi', 'animeImg': 'https://img.flawlessfiles.com/_r/100x100/100/77/3a/773a01a7dd8e0f746ab96f6b0b083240/773a01a7dd8e0f746ab96f6b0b083240.jpg', 'animedesignation': 'Supporting', 'voicelang': 'Japanese', 'voiceImageX': 'https://img.flawlessfiles.com/_r/100x100/100/d9/c8/d9c841b6bc8d60482fc580549070561d/d9c841b6bc8d60482fc580549070561d.jpg'}, {'name': 'Joujima, Issei', 'voice': None, 'animeImg': 'https://img.flawlessfiles.com/_r/100x100/100/46/8a/468ad4f9814ad71dd00d475f125a7c71/468ad4f9814ad71dd00d475f125a7c71.jpg', 'animedesignation': 'Supporting', 'voicelang': None, 'voiceImageX': None}, {'name': 'Misawa, KyoukoOrikasa, Ai', 'voice': 'Orikasa, Ai', 'animeImg': 'https://img.flawlessfiles.com/_r/100x100/100/bc/9f/bc9f6d0a60fa25f6facb210fac1ee9c1/bc9f6d0a60fa25f6facb210fac1ee9c1.jpg', 'animedesignation': 'Supporting', 'voicelang': 'Japanese', 'voiceImageX': 'https://img.flawlessfiles.com/_r/100x100/100/86/9d/869df115489f6d7ce84eaf961ad25a65/869df115489f6d7ce84eaf961ad25a65.jpg'}, {'name': 'Misawa, MitsuyoshiHiguchi, Tomoyuki', 'voice': 'Higuchi, Tomoyuki', 'animeImg': 'https://img.flawlessfiles.com/_r/100x100/100/f8/75/f8759288eddce7d28ee4ac763932bdd5/f8759288eddce7d28ee4ac763932bdd5.jpg', 'animedesignation': 'Supporting', 'voicelang': 'Japanese', 'voiceImageX': 'https://img.flawlessfiles.com/_r/100x100/100/0b/2b/0b2b8209254075d4e0f51d50d19d917e/0b2b8209254075d4e0f51d50d19d917e.jpg'}]\",\n          \"[{'name': 'Morikawa, KokoneTakahata, Mitsuki', 'voice': 'Takahata, Mitsuki', 'animeImg': 'https://img.flawlessfiles.com/_r/100x100/100/dc/bc/dcbc06f073f59f11904e67453fa21e0f/dcbc06f073f59f11904e67453fa21e0f.jpg', 'animedesignation': 'Main', 'voicelang': 'Japanese', 'voiceImageX': 'https://img.flawlessfiles.com/_r/100x100/100/81/ff/81ffa29b668a62e3c7ec0704e11806fe/81ffa29b668a62e3c7ec0704e11806fe.jpg'}, {'name': 'JoyKugimiya, Rie', 'voice': 'Kugimiya, Rie', 'animeImg': 'https://img.flawlessfiles.com/_r/100x100/100/60/bf/60bfcb68a82af4f8cb2760756eb71455/60bfcb68a82af4f8cb2760756eb71455.jpg', 'animedesignation': 'Supporting', 'voicelang': 'Japanese', 'voiceImageX': 'https://img.flawlessfiles.com/_r/100x100/100/c8/f9/c8f9066a64842bde3a42ae60ff007b3c/c8f9066a64842bde3a42ae60ff007b3c.jpg'}, {'name': 'KijitaMaeno, Tomoya', 'voice': 'Maeno, Tomoya', 'animeImg': 'https://img.flawlessfiles.com/_r/100x100/100/e2/5a/e25afd442b01c473dc7b9028a3711f98/e25afd442b01c473dc7b9028a3711f98.jpg', 'animedesignation': 'Supporting', 'voicelang': 'Japanese', 'voiceImageX': '/images/no-avatar.jpeg'}, {'name': 'Morikawa, IkumiShimizu, Risa', 'voice': 'Shimizu, Risa', 'animeImg': 'https://img.flawlessfiles.com/_r/100x100/100/5b/57/5b571921c4fa526d7f9196af556b7c87/5b571921c4fa526d7f9196af556b7c87.jpg', 'animedesignation': 'Supporting', 'voicelang': 'Japanese', 'voiceImageX': 'https://img.flawlessfiles.com/_r/100x100/100/e0/4d/e04de5ab8ff06051c02a2ddb1c2e5f89/e04de5ab8ff06051c02a2ddb1c2e5f89.jpg'}, {'name': 'Morikawa, MomotarouEguchi, Yousuke', 'voice': 'Eguchi, Yousuke', 'animeImg': 'https://img.flawlessfiles.com/_r/100x100/100/f8/ce/f8ceca95bd7daa8f9ded5e5328a6677d/f8ceca95bd7daa8f9ded5e5328a6677d.jpg', 'animedesignation': 'Supporting', 'voicelang': 'Japanese', 'voiceImageX': '/images/no-avatar.jpeg'}, {'name': 'SawatariTakagi, Wataru', 'voice': 'Takagi, Wataru', 'animeImg': 'https://img.flawlessfiles.com/_r/100x100/100/41/50/4150191d07bfa59d848f6b223b689cf5/4150191d07bfa59d848f6b223b689cf5.jpg', 'animedesignation': 'Supporting', 'voicelang': 'Japanese', 'voiceImageX': 'https://img.flawlessfiles.com/_r/100x100/100/f1/c3/f1c3639545b6434933a4919583734745/f1c3639545b6434933a4919583734745.jpg'}]\"\n        ],\n        \"semantic_type\": \"\",\n        \"description\": \"\"\n      }\n    },\n    {\n      \"column\": \"image\",\n      \"properties\": {\n        \"dtype\": \"string\",\n        \"num_unique_values\": 6928,\n        \"samples\": [\n          \"https://img.flawlessfiles.com/_r/300x400/100/52/7a/527a3d9159e563573d3b4a3616aece58/527a3d9159e563573d3b4a3616aece58.jpg\",\n          \"https://img.flawlessfiles.com/_r/300x400/100/6e/0a/6e0a3e84e7ca36be61b43f40afe51358/6e0a3e84e7ca36be61b43f40afe51358.jpg\",\n          \"https://img.flawlessfiles.com/_r/300x400/100/f1/11/f111f681f277de0acd41136661829aad/f111f681f277de0acd41136661829aad.jpg\"\n        ],\n        \"semantic_type\": \"\",\n        \"description\": \"\"\n      }\n    }\n  ]\n}"
            }
          },
          "metadata": {},
          "execution_count": 24
        }
      ]
    },
    {
      "cell_type": "code",
      "source": [
        "anime.info()"
      ],
      "metadata": {
        "colab": {
          "base_uri": "https://localhost:8080/"
        },
        "id": "CgESATHDgAXV",
        "outputId": "d7690930-43cf-4b1a-c702-92c78e3a51d8"
      },
      "execution_count": 25,
      "outputs": [
        {
          "output_type": "stream",
          "name": "stdout",
          "text": [
            "<class 'pandas.core.frame.DataFrame'>\n",
            "RangeIndex: 6928 entries, 0 to 6927\n",
            "Data columns (total 20 columns):\n",
            " #   Column       Non-Null Count  Dtype  \n",
            "---  ------       --------------  -----  \n",
            " 0   name         6928 non-null   object \n",
            " 1   Id           6928 non-null   object \n",
            " 2   jname        6927 non-null   object \n",
            " 3   pganime      6899 non-null   object \n",
            " 4   quality      6879 non-null   object \n",
            " 5   epsub        6906 non-null   float64\n",
            " 6   epdub        6928 non-null   object \n",
            " 7   totalep      6928 non-null   object \n",
            " 8   formats      6928 non-null   object \n",
            " 9   duration     6928 non-null   object \n",
            " 10  desc         6811 non-null   object \n",
            " 11  aired        6749 non-null   object \n",
            " 12  premired     6301 non-null   object \n",
            " 13  statusAnime  6928 non-null   object \n",
            " 14  malscore     6865 non-null   object \n",
            " 15  genre        6928 non-null   object \n",
            " 16  studio       6677 non-null   object \n",
            " 17  producer     6928 non-null   object \n",
            " 18  animechar    5564 non-null   object \n",
            " 19  image        6928 non-null   object \n",
            "dtypes: float64(1), object(19)\n",
            "memory usage: 1.1+ MB\n"
          ]
        }
      ]
    },
    {
      "cell_type": "code",
      "source": [
        "anime.shape"
      ],
      "metadata": {
        "colab": {
          "base_uri": "https://localhost:8080/"
        },
        "id": "eHo2Wqc4gGHj",
        "outputId": "947e58e4-e5ed-45d2-8e74-f24bed31039a"
      },
      "execution_count": 26,
      "outputs": [
        {
          "output_type": "execute_result",
          "data": {
            "text/plain": [
              "(6928, 20)"
            ]
          },
          "metadata": {},
          "execution_count": 26
        }
      ]
    },
    {
      "cell_type": "markdown",
      "source": [
        "## Data Preprocessing"
      ],
      "metadata": {
        "id": "aFcegdU7gQu0"
      }
    },
    {
      "cell_type": "markdown",
      "source": [
        "### Eliminating null values and duplicate entries from the dataset."
      ],
      "metadata": {
        "id": "ymZh2igLgVsn"
      }
    },
    {
      "cell_type": "code",
      "source": [
        "# checking for duplicated entries\n",
        "\n",
        "anime.duplicated().sum()"
      ],
      "metadata": {
        "colab": {
          "base_uri": "https://localhost:8080/"
        },
        "id": "X1fUQdAUgPWJ",
        "outputId": "176b1522-a50c-4066-a337-909a7d349add"
      },
      "execution_count": 27,
      "outputs": [
        {
          "output_type": "execute_result",
          "data": {
            "text/plain": [
              "0"
            ]
          },
          "metadata": {},
          "execution_count": 27
        }
      ]
    },
    {
      "cell_type": "code",
      "source": [
        "# checking for null values in the dataset\n",
        "\n",
        "anime.isnull().sum()"
      ],
      "metadata": {
        "colab": {
          "base_uri": "https://localhost:8080/",
          "height": 711
        },
        "id": "b1xAEQEAhDWZ",
        "outputId": "123bb293-cc8d-4db2-94a2-b8945464e7b7"
      },
      "execution_count": 28,
      "outputs": [
        {
          "output_type": "execute_result",
          "data": {
            "text/plain": [
              "name              0\n",
              "Id                0\n",
              "jname             1\n",
              "pganime          29\n",
              "quality          49\n",
              "epsub            22\n",
              "epdub             0\n",
              "totalep           0\n",
              "formats           0\n",
              "duration          0\n",
              "desc            117\n",
              "aired           179\n",
              "premired        627\n",
              "statusAnime       0\n",
              "malscore         63\n",
              "genre             0\n",
              "studio          251\n",
              "producer          0\n",
              "animechar      1364\n",
              "image             0\n",
              "dtype: int64"
            ],
            "text/html": [
              "<div>\n",
              "<style scoped>\n",
              "    .dataframe tbody tr th:only-of-type {\n",
              "        vertical-align: middle;\n",
              "    }\n",
              "\n",
              "    .dataframe tbody tr th {\n",
              "        vertical-align: top;\n",
              "    }\n",
              "\n",
              "    .dataframe thead th {\n",
              "        text-align: right;\n",
              "    }\n",
              "</style>\n",
              "<table border=\"1\" class=\"dataframe\">\n",
              "  <thead>\n",
              "    <tr style=\"text-align: right;\">\n",
              "      <th></th>\n",
              "      <th>0</th>\n",
              "    </tr>\n",
              "  </thead>\n",
              "  <tbody>\n",
              "    <tr>\n",
              "      <th>name</th>\n",
              "      <td>0</td>\n",
              "    </tr>\n",
              "    <tr>\n",
              "      <th>Id</th>\n",
              "      <td>0</td>\n",
              "    </tr>\n",
              "    <tr>\n",
              "      <th>jname</th>\n",
              "      <td>1</td>\n",
              "    </tr>\n",
              "    <tr>\n",
              "      <th>pganime</th>\n",
              "      <td>29</td>\n",
              "    </tr>\n",
              "    <tr>\n",
              "      <th>quality</th>\n",
              "      <td>49</td>\n",
              "    </tr>\n",
              "    <tr>\n",
              "      <th>epsub</th>\n",
              "      <td>22</td>\n",
              "    </tr>\n",
              "    <tr>\n",
              "      <th>epdub</th>\n",
              "      <td>0</td>\n",
              "    </tr>\n",
              "    <tr>\n",
              "      <th>totalep</th>\n",
              "      <td>0</td>\n",
              "    </tr>\n",
              "    <tr>\n",
              "      <th>formats</th>\n",
              "      <td>0</td>\n",
              "    </tr>\n",
              "    <tr>\n",
              "      <th>duration</th>\n",
              "      <td>0</td>\n",
              "    </tr>\n",
              "    <tr>\n",
              "      <th>desc</th>\n",
              "      <td>117</td>\n",
              "    </tr>\n",
              "    <tr>\n",
              "      <th>aired</th>\n",
              "      <td>179</td>\n",
              "    </tr>\n",
              "    <tr>\n",
              "      <th>premired</th>\n",
              "      <td>627</td>\n",
              "    </tr>\n",
              "    <tr>\n",
              "      <th>statusAnime</th>\n",
              "      <td>0</td>\n",
              "    </tr>\n",
              "    <tr>\n",
              "      <th>malscore</th>\n",
              "      <td>63</td>\n",
              "    </tr>\n",
              "    <tr>\n",
              "      <th>genre</th>\n",
              "      <td>0</td>\n",
              "    </tr>\n",
              "    <tr>\n",
              "      <th>studio</th>\n",
              "      <td>251</td>\n",
              "    </tr>\n",
              "    <tr>\n",
              "      <th>producer</th>\n",
              "      <td>0</td>\n",
              "    </tr>\n",
              "    <tr>\n",
              "      <th>animechar</th>\n",
              "      <td>1364</td>\n",
              "    </tr>\n",
              "    <tr>\n",
              "      <th>image</th>\n",
              "      <td>0</td>\n",
              "    </tr>\n",
              "  </tbody>\n",
              "</table>\n",
              "</div><br><label><b>dtype:</b> int64</label>"
            ]
          },
          "metadata": {},
          "execution_count": 28
        }
      ]
    },
    {
      "cell_type": "markdown",
      "source": [
        "Since we are unable to retrieve the descriptions for certain anime, we will drop any rows that contain null values in the 'description' column."
      ],
      "metadata": {
        "id": "W_IiPtUEhRKh"
      }
    },
    {
      "cell_type": "code",
      "source": [
        "# Dropping the rows which doesn't have description\n",
        "\n",
        "anime.dropna(subset=['desc'], inplace = True)"
      ],
      "metadata": {
        "id": "vubZQeW8hLNK"
      },
      "execution_count": 29,
      "outputs": []
    },
    {
      "cell_type": "code",
      "source": [
        "anime.shape"
      ],
      "metadata": {
        "colab": {
          "base_uri": "https://localhost:8080/"
        },
        "id": "_vX5uFOMiAa5",
        "outputId": "428dae59-f64d-4ede-db89-14f8515d5f19"
      },
      "execution_count": 30,
      "outputs": [
        {
          "output_type": "execute_result",
          "data": {
            "text/plain": [
              "(6811, 20)"
            ]
          },
          "metadata": {},
          "execution_count": 30
        }
      ]
    },
    {
      "cell_type": "code",
      "source": [
        "# checking for null values in the dataset\n",
        "\n",
        "anime.isnull().sum()"
      ],
      "metadata": {
        "colab": {
          "base_uri": "https://localhost:8080/",
          "height": 711
        },
        "id": "iagFawjGiCrd",
        "outputId": "cd7cd836-e40f-4500-feba-df137e3ae741"
      },
      "execution_count": 31,
      "outputs": [
        {
          "output_type": "execute_result",
          "data": {
            "text/plain": [
              "name              0\n",
              "Id                0\n",
              "jname             1\n",
              "pganime          29\n",
              "quality          49\n",
              "epsub            21\n",
              "epdub             0\n",
              "totalep           0\n",
              "formats           0\n",
              "duration          0\n",
              "desc              0\n",
              "aired           174\n",
              "premired        621\n",
              "statusAnime       0\n",
              "malscore         52\n",
              "genre             0\n",
              "studio          225\n",
              "producer          0\n",
              "animechar      1281\n",
              "image             0\n",
              "dtype: int64"
            ],
            "text/html": [
              "<div>\n",
              "<style scoped>\n",
              "    .dataframe tbody tr th:only-of-type {\n",
              "        vertical-align: middle;\n",
              "    }\n",
              "\n",
              "    .dataframe tbody tr th {\n",
              "        vertical-align: top;\n",
              "    }\n",
              "\n",
              "    .dataframe thead th {\n",
              "        text-align: right;\n",
              "    }\n",
              "</style>\n",
              "<table border=\"1\" class=\"dataframe\">\n",
              "  <thead>\n",
              "    <tr style=\"text-align: right;\">\n",
              "      <th></th>\n",
              "      <th>0</th>\n",
              "    </tr>\n",
              "  </thead>\n",
              "  <tbody>\n",
              "    <tr>\n",
              "      <th>name</th>\n",
              "      <td>0</td>\n",
              "    </tr>\n",
              "    <tr>\n",
              "      <th>Id</th>\n",
              "      <td>0</td>\n",
              "    </tr>\n",
              "    <tr>\n",
              "      <th>jname</th>\n",
              "      <td>1</td>\n",
              "    </tr>\n",
              "    <tr>\n",
              "      <th>pganime</th>\n",
              "      <td>29</td>\n",
              "    </tr>\n",
              "    <tr>\n",
              "      <th>quality</th>\n",
              "      <td>49</td>\n",
              "    </tr>\n",
              "    <tr>\n",
              "      <th>epsub</th>\n",
              "      <td>21</td>\n",
              "    </tr>\n",
              "    <tr>\n",
              "      <th>epdub</th>\n",
              "      <td>0</td>\n",
              "    </tr>\n",
              "    <tr>\n",
              "      <th>totalep</th>\n",
              "      <td>0</td>\n",
              "    </tr>\n",
              "    <tr>\n",
              "      <th>formats</th>\n",
              "      <td>0</td>\n",
              "    </tr>\n",
              "    <tr>\n",
              "      <th>duration</th>\n",
              "      <td>0</td>\n",
              "    </tr>\n",
              "    <tr>\n",
              "      <th>desc</th>\n",
              "      <td>0</td>\n",
              "    </tr>\n",
              "    <tr>\n",
              "      <th>aired</th>\n",
              "      <td>174</td>\n",
              "    </tr>\n",
              "    <tr>\n",
              "      <th>premired</th>\n",
              "      <td>621</td>\n",
              "    </tr>\n",
              "    <tr>\n",
              "      <th>statusAnime</th>\n",
              "      <td>0</td>\n",
              "    </tr>\n",
              "    <tr>\n",
              "      <th>malscore</th>\n",
              "      <td>52</td>\n",
              "    </tr>\n",
              "    <tr>\n",
              "      <th>genre</th>\n",
              "      <td>0</td>\n",
              "    </tr>\n",
              "    <tr>\n",
              "      <th>studio</th>\n",
              "      <td>225</td>\n",
              "    </tr>\n",
              "    <tr>\n",
              "      <th>producer</th>\n",
              "      <td>0</td>\n",
              "    </tr>\n",
              "    <tr>\n",
              "      <th>animechar</th>\n",
              "      <td>1281</td>\n",
              "    </tr>\n",
              "    <tr>\n",
              "      <th>image</th>\n",
              "      <td>0</td>\n",
              "    </tr>\n",
              "  </tbody>\n",
              "</table>\n",
              "</div><br><label><b>dtype:</b> int64</label>"
            ]
          },
          "metadata": {},
          "execution_count": 31
        }
      ]
    },
    {
      "cell_type": "markdown",
      "source": [
        "---"
      ],
      "metadata": {
        "id": "Jtg8o2Waneaf"
      }
    },
    {
      "cell_type": "markdown",
      "source": [
        "**Eliminating unnecessary columns.**"
      ],
      "metadata": {
        "id": "s8Ii1ft-inta"
      }
    },
    {
      "cell_type": "code",
      "source": [
        "irr_cols = ['Id','premired','malscore','animechar']\n",
        "\n",
        "anime.drop(columns=irr_cols, axis=1, inplace=True)"
      ],
      "metadata": {
        "id": "tyMbze3iiP9r"
      },
      "execution_count": 32,
      "outputs": []
    },
    {
      "cell_type": "code",
      "source": [
        "anime.shape"
      ],
      "metadata": {
        "colab": {
          "base_uri": "https://localhost:8080/"
        },
        "id": "OQmkztiIiZa5",
        "outputId": "17a26a1f-0390-48df-c125-4966d5708b22"
      },
      "execution_count": 33,
      "outputs": [
        {
          "output_type": "execute_result",
          "data": {
            "text/plain": [
              "(6811, 16)"
            ]
          },
          "metadata": {},
          "execution_count": 33
        }
      ]
    },
    {
      "cell_type": "markdown",
      "source": [
        "---"
      ],
      "metadata": {
        "id": "tgMXwNMdngcY"
      }
    },
    {
      "cell_type": "markdown",
      "source": [
        "**Totalep Column imputation**"
      ],
      "metadata": {
        "id": "0ArwKzVhj4mP"
      }
    },
    {
      "cell_type": "code",
      "source": [
        "anime['totalep'].value_counts()"
      ],
      "metadata": {
        "colab": {
          "base_uri": "https://localhost:8080/",
          "height": 489
        },
        "id": "qcMEKmG0k4vz",
        "outputId": "216065fe-1c67-4302-86d3-752005daf16d"
      },
      "execution_count": 34,
      "outputs": [
        {
          "output_type": "execute_result",
          "data": {
            "text/plain": [
              "totalep\n",
              "False    1936\n",
              "12       1607\n",
              "13        637\n",
              "26        308\n",
              "2         227\n",
              "         ... \n",
              "115         1\n",
              "373         1\n",
              "214         1\n",
              "358         1\n",
              "291         1\n",
              "Name: count, Length: 159, dtype: int64"
            ],
            "text/html": [
              "<div>\n",
              "<style scoped>\n",
              "    .dataframe tbody tr th:only-of-type {\n",
              "        vertical-align: middle;\n",
              "    }\n",
              "\n",
              "    .dataframe tbody tr th {\n",
              "        vertical-align: top;\n",
              "    }\n",
              "\n",
              "    .dataframe thead th {\n",
              "        text-align: right;\n",
              "    }\n",
              "</style>\n",
              "<table border=\"1\" class=\"dataframe\">\n",
              "  <thead>\n",
              "    <tr style=\"text-align: right;\">\n",
              "      <th></th>\n",
              "      <th>count</th>\n",
              "    </tr>\n",
              "    <tr>\n",
              "      <th>totalep</th>\n",
              "      <th></th>\n",
              "    </tr>\n",
              "  </thead>\n",
              "  <tbody>\n",
              "    <tr>\n",
              "      <th>False</th>\n",
              "      <td>1936</td>\n",
              "    </tr>\n",
              "    <tr>\n",
              "      <th>12</th>\n",
              "      <td>1607</td>\n",
              "    </tr>\n",
              "    <tr>\n",
              "      <th>13</th>\n",
              "      <td>637</td>\n",
              "    </tr>\n",
              "    <tr>\n",
              "      <th>26</th>\n",
              "      <td>308</td>\n",
              "    </tr>\n",
              "    <tr>\n",
              "      <th>2</th>\n",
              "      <td>227</td>\n",
              "    </tr>\n",
              "    <tr>\n",
              "      <th>...</th>\n",
              "      <td>...</td>\n",
              "    </tr>\n",
              "    <tr>\n",
              "      <th>115</th>\n",
              "      <td>1</td>\n",
              "    </tr>\n",
              "    <tr>\n",
              "      <th>373</th>\n",
              "      <td>1</td>\n",
              "    </tr>\n",
              "    <tr>\n",
              "      <th>214</th>\n",
              "      <td>1</td>\n",
              "    </tr>\n",
              "    <tr>\n",
              "      <th>358</th>\n",
              "      <td>1</td>\n",
              "    </tr>\n",
              "    <tr>\n",
              "      <th>291</th>\n",
              "      <td>1</td>\n",
              "    </tr>\n",
              "  </tbody>\n",
              "</table>\n",
              "<p>159 rows × 1 columns</p>\n",
              "</div><br><label><b>dtype:</b> int64</label>"
            ]
          },
          "metadata": {},
          "execution_count": 34
        }
      ]
    },
    {
      "cell_type": "markdown",
      "source": [
        "totalep column has 1936 entries as False,\\\n",
        "we will replace it with the epsub values"
      ],
      "metadata": {
        "id": "ZDLfnU7lk4EH"
      }
    },
    {
      "cell_type": "code",
      "source": [
        "anime['epsub'].isnull().sum()"
      ],
      "metadata": {
        "colab": {
          "base_uri": "https://localhost:8080/"
        },
        "id": "K8PAlYswkGvz",
        "outputId": "3b90715b-3b87-4448-ef97-c3714a71a514"
      },
      "execution_count": 35,
      "outputs": [
        {
          "output_type": "execute_result",
          "data": {
            "text/plain": [
              "21"
            ]
          },
          "metadata": {},
          "execution_count": 35
        }
      ]
    },
    {
      "cell_type": "markdown",
      "source": [
        "but epsub has 21 null entries,\\\n",
        "we will replace it with corresponding epdub values"
      ],
      "metadata": {
        "id": "7ikPH4UPlcF4"
      }
    },
    {
      "cell_type": "code",
      "source": [
        "anime.loc[anime['epsub'].isnull(), 'epsub'] = anime.loc[anime['epsub'].isnull(), 'epdub']"
      ],
      "metadata": {
        "colab": {
          "base_uri": "https://localhost:8080/"
        },
        "id": "IRwpDtOzkgf7",
        "outputId": "6057330e-6854-4f37-d222-bf8bcd336c0f"
      },
      "execution_count": 36,
      "outputs": [
        {
          "output_type": "stream",
          "name": "stderr",
          "text": [
            "<ipython-input-36-c6ac2f174402>:1: FutureWarning: Setting an item of incompatible dtype is deprecated and will raise in a future error of pandas. Value '['1' '1' '1' '52' '1' '1' '1' '1' '1' '1' '1' '1' '8' '51' '13' '13' '1'\n",
            " '1' '1' '104' '26']' has dtype incompatible with float64, please explicitly cast to a compatible dtype first.\n",
            "  anime.loc[anime['epsub'].isnull(), 'epsub'] = anime.loc[anime['epsub'].isnull(), 'epdub']\n"
          ]
        }
      ]
    },
    {
      "cell_type": "code",
      "source": [
        "anime['epsub'].isnull().sum()"
      ],
      "metadata": {
        "colab": {
          "base_uri": "https://localhost:8080/"
        },
        "id": "NCmMbq4tl2XZ",
        "outputId": "4466b4fb-47d7-49c8-8312-3c7a8221a1e4"
      },
      "execution_count": 37,
      "outputs": [
        {
          "output_type": "execute_result",
          "data": {
            "text/plain": [
              "0"
            ]
          },
          "metadata": {},
          "execution_count": 37
        }
      ]
    },
    {
      "cell_type": "code",
      "source": [
        "# replacing False entries of totalep with corresponding epsub values\n",
        "\n",
        "anime.loc[anime['totalep']=='False', 'totalep'] = anime.loc[anime['totalep']=='False', 'epsub']"
      ],
      "metadata": {
        "id": "BoGIs1pAmC27"
      },
      "execution_count": 38,
      "outputs": []
    },
    {
      "cell_type": "markdown",
      "source": [
        "---\n",
        "\\\\\n",
        "**pganime colummn imputation**"
      ],
      "metadata": {
        "id": "gUHOXWuxnZnC"
      }
    },
    {
      "cell_type": "code",
      "source": [
        "anime['pganime'].isnull().sum()"
      ],
      "metadata": {
        "colab": {
          "base_uri": "https://localhost:8080/"
        },
        "id": "HjW_WTZpm6o9",
        "outputId": "e73e4fda-f450-437a-d5ac-cb2094e2aad2"
      },
      "execution_count": 39,
      "outputs": [
        {
          "output_type": "execute_result",
          "data": {
            "text/plain": [
              "29"
            ]
          },
          "metadata": {},
          "execution_count": 39
        }
      ]
    },
    {
      "cell_type": "code",
      "source": [
        "anime['pganime'].value_counts()"
      ],
      "metadata": {
        "colab": {
          "base_uri": "https://localhost:8080/",
          "height": 303
        },
        "id": "IULo2GQtoABO",
        "outputId": "308cab44-d2df-44a2-ffe1-8401573b0048"
      },
      "execution_count": 40,
      "outputs": [
        {
          "output_type": "execute_result",
          "data": {
            "text/plain": [
              "pganime\n",
              "PG-13    4251\n",
              "R         936\n",
              "G         621\n",
              "R+        587\n",
              "PG        381\n",
              "Rx          6\n",
              "Name: count, dtype: int64"
            ],
            "text/html": [
              "<div>\n",
              "<style scoped>\n",
              "    .dataframe tbody tr th:only-of-type {\n",
              "        vertical-align: middle;\n",
              "    }\n",
              "\n",
              "    .dataframe tbody tr th {\n",
              "        vertical-align: top;\n",
              "    }\n",
              "\n",
              "    .dataframe thead th {\n",
              "        text-align: right;\n",
              "    }\n",
              "</style>\n",
              "<table border=\"1\" class=\"dataframe\">\n",
              "  <thead>\n",
              "    <tr style=\"text-align: right;\">\n",
              "      <th></th>\n",
              "      <th>count</th>\n",
              "    </tr>\n",
              "    <tr>\n",
              "      <th>pganime</th>\n",
              "      <th></th>\n",
              "    </tr>\n",
              "  </thead>\n",
              "  <tbody>\n",
              "    <tr>\n",
              "      <th>PG-13</th>\n",
              "      <td>4251</td>\n",
              "    </tr>\n",
              "    <tr>\n",
              "      <th>R</th>\n",
              "      <td>936</td>\n",
              "    </tr>\n",
              "    <tr>\n",
              "      <th>G</th>\n",
              "      <td>621</td>\n",
              "    </tr>\n",
              "    <tr>\n",
              "      <th>R+</th>\n",
              "      <td>587</td>\n",
              "    </tr>\n",
              "    <tr>\n",
              "      <th>PG</th>\n",
              "      <td>381</td>\n",
              "    </tr>\n",
              "    <tr>\n",
              "      <th>Rx</th>\n",
              "      <td>6</td>\n",
              "    </tr>\n",
              "  </tbody>\n",
              "</table>\n",
              "</div><br><label><b>dtype:</b> int64</label>"
            ]
          },
          "metadata": {},
          "execution_count": 40
        }
      ]
    },
    {
      "cell_type": "markdown",
      "source": [
        "PG-13 is been used the most, so we will replace NaN entries with PG-13"
      ],
      "metadata": {
        "id": "wcubPXmaoFsU"
      }
    },
    {
      "cell_type": "code",
      "source": [
        "anime['pganime'].fillna('PG-13', inplace = True)"
      ],
      "metadata": {
        "id": "EUujB9lQoEhG"
      },
      "execution_count": 41,
      "outputs": []
    },
    {
      "cell_type": "markdown",
      "source": [
        "---\n",
        "\\\\\n",
        "**quality colummn imputation**"
      ],
      "metadata": {
        "id": "-bZzPyqMpEd7"
      }
    },
    {
      "cell_type": "code",
      "source": [
        "anime['quality'].isnull().sum()"
      ],
      "metadata": {
        "colab": {
          "base_uri": "https://localhost:8080/"
        },
        "id": "yk0vqdwjo9tz",
        "outputId": "e2b5faef-0bd2-4d7f-ed66-f4c2cdde3332"
      },
      "execution_count": 42,
      "outputs": [
        {
          "output_type": "execute_result",
          "data": {
            "text/plain": [
              "49"
            ]
          },
          "metadata": {},
          "execution_count": 42
        }
      ]
    },
    {
      "cell_type": "code",
      "source": [
        "anime['quality'].value_counts()"
      ],
      "metadata": {
        "colab": {
          "base_uri": "https://localhost:8080/",
          "height": 209
        },
        "id": "Zb7mlIeLpfYz",
        "outputId": "caf57932-2ff0-41a0-98c8-99d216dc6538"
      },
      "execution_count": 43,
      "outputs": [
        {
          "output_type": "execute_result",
          "data": {
            "text/plain": [
              "quality\n",
              "HD     5991\n",
              "SD      769\n",
              "CAM       2\n",
              "Name: count, dtype: int64"
            ],
            "text/html": [
              "<div>\n",
              "<style scoped>\n",
              "    .dataframe tbody tr th:only-of-type {\n",
              "        vertical-align: middle;\n",
              "    }\n",
              "\n",
              "    .dataframe tbody tr th {\n",
              "        vertical-align: top;\n",
              "    }\n",
              "\n",
              "    .dataframe thead th {\n",
              "        text-align: right;\n",
              "    }\n",
              "</style>\n",
              "<table border=\"1\" class=\"dataframe\">\n",
              "  <thead>\n",
              "    <tr style=\"text-align: right;\">\n",
              "      <th></th>\n",
              "      <th>count</th>\n",
              "    </tr>\n",
              "    <tr>\n",
              "      <th>quality</th>\n",
              "      <th></th>\n",
              "    </tr>\n",
              "  </thead>\n",
              "  <tbody>\n",
              "    <tr>\n",
              "      <th>HD</th>\n",
              "      <td>5991</td>\n",
              "    </tr>\n",
              "    <tr>\n",
              "      <th>SD</th>\n",
              "      <td>769</td>\n",
              "    </tr>\n",
              "    <tr>\n",
              "      <th>CAM</th>\n",
              "      <td>2</td>\n",
              "    </tr>\n",
              "  </tbody>\n",
              "</table>\n",
              "</div><br><label><b>dtype:</b> int64</label>"
            ]
          },
          "metadata": {},
          "execution_count": 43
        }
      ]
    },
    {
      "cell_type": "markdown",
      "source": [
        "HD is been used the most, so we will replace NaN entries with HD"
      ],
      "metadata": {
        "id": "pozVpVthprGj"
      }
    },
    {
      "cell_type": "code",
      "source": [
        "anime['quality'].fillna('HD', inplace = True)"
      ],
      "metadata": {
        "id": "4qZzBPlJpnxA"
      },
      "execution_count": 44,
      "outputs": []
    },
    {
      "cell_type": "markdown",
      "source": [
        "c"
      ],
      "metadata": {
        "id": "Ivs69ZRnqoZj"
      }
    },
    {
      "cell_type": "code",
      "source": [
        "anime['aired'][600:620]"
      ],
      "metadata": {
        "colab": {
          "base_uri": "https://localhost:8080/",
          "height": 711
        },
        "id": "7CBhAPNiqOES",
        "outputId": "7d825d8b-cf10-4785-a050-ad5c823f06a4"
      },
      "execution_count": 45,
      "outputs": [
        {
          "output_type": "execute_result",
          "data": {
            "text/plain": [
              "609                     Spring 2015\n",
              "610     Jul 6, 2016 to Sep 21, 2016\n",
              "611                       Fall 2019\n",
              "612                Jul 5, 2021 to ?\n",
              "613                    Jul 22, 2009\n",
              "614                     Winter 1988\n",
              "615                     Summer 2006\n",
              "616                       Fall 2021\n",
              "617                    Sep 30, 2021\n",
              "618                             NaN\n",
              "619     Apr 7, 2009 to Sep 22, 2009\n",
              "620     Oct 7, 2009 to Dec 23, 2009\n",
              "621    Aug 21, 1993 to Nov 22, 1993\n",
              "622                     Summer 2016\n",
              "623               Apr 11, 2021 to ?\n",
              "624    Oct 21, 1994 to Aug 21, 1996\n",
              "625    Jul 25, 1991 to Mar 19, 1992\n",
              "626    Jul 25, 1995 to Jun 25, 1996\n",
              "627     Oct 6, 2006 to Dec 22, 2006\n",
              "628                     Spring 2011\n",
              "Name: aired, dtype: object"
            ],
            "text/html": [
              "<div>\n",
              "<style scoped>\n",
              "    .dataframe tbody tr th:only-of-type {\n",
              "        vertical-align: middle;\n",
              "    }\n",
              "\n",
              "    .dataframe tbody tr th {\n",
              "        vertical-align: top;\n",
              "    }\n",
              "\n",
              "    .dataframe thead th {\n",
              "        text-align: right;\n",
              "    }\n",
              "</style>\n",
              "<table border=\"1\" class=\"dataframe\">\n",
              "  <thead>\n",
              "    <tr style=\"text-align: right;\">\n",
              "      <th></th>\n",
              "      <th>aired</th>\n",
              "    </tr>\n",
              "  </thead>\n",
              "  <tbody>\n",
              "    <tr>\n",
              "      <th>609</th>\n",
              "      <td>Spring 2015</td>\n",
              "    </tr>\n",
              "    <tr>\n",
              "      <th>610</th>\n",
              "      <td>Jul 6, 2016 to Sep 21, 2016</td>\n",
              "    </tr>\n",
              "    <tr>\n",
              "      <th>611</th>\n",
              "      <td>Fall 2019</td>\n",
              "    </tr>\n",
              "    <tr>\n",
              "      <th>612</th>\n",
              "      <td>Jul 5, 2021 to ?</td>\n",
              "    </tr>\n",
              "    <tr>\n",
              "      <th>613</th>\n",
              "      <td>Jul 22, 2009</td>\n",
              "    </tr>\n",
              "    <tr>\n",
              "      <th>614</th>\n",
              "      <td>Winter 1988</td>\n",
              "    </tr>\n",
              "    <tr>\n",
              "      <th>615</th>\n",
              "      <td>Summer 2006</td>\n",
              "    </tr>\n",
              "    <tr>\n",
              "      <th>616</th>\n",
              "      <td>Fall 2021</td>\n",
              "    </tr>\n",
              "    <tr>\n",
              "      <th>617</th>\n",
              "      <td>Sep 30, 2021</td>\n",
              "    </tr>\n",
              "    <tr>\n",
              "      <th>618</th>\n",
              "      <td>NaN</td>\n",
              "    </tr>\n",
              "    <tr>\n",
              "      <th>619</th>\n",
              "      <td>Apr 7, 2009 to Sep 22, 2009</td>\n",
              "    </tr>\n",
              "    <tr>\n",
              "      <th>620</th>\n",
              "      <td>Oct 7, 2009 to Dec 23, 2009</td>\n",
              "    </tr>\n",
              "    <tr>\n",
              "      <th>621</th>\n",
              "      <td>Aug 21, 1993 to Nov 22, 1993</td>\n",
              "    </tr>\n",
              "    <tr>\n",
              "      <th>622</th>\n",
              "      <td>Summer 2016</td>\n",
              "    </tr>\n",
              "    <tr>\n",
              "      <th>623</th>\n",
              "      <td>Apr 11, 2021 to ?</td>\n",
              "    </tr>\n",
              "    <tr>\n",
              "      <th>624</th>\n",
              "      <td>Oct 21, 1994 to Aug 21, 1996</td>\n",
              "    </tr>\n",
              "    <tr>\n",
              "      <th>625</th>\n",
              "      <td>Jul 25, 1991 to Mar 19, 1992</td>\n",
              "    </tr>\n",
              "    <tr>\n",
              "      <th>626</th>\n",
              "      <td>Jul 25, 1995 to Jun 25, 1996</td>\n",
              "    </tr>\n",
              "    <tr>\n",
              "      <th>627</th>\n",
              "      <td>Oct 6, 2006 to Dec 22, 2006</td>\n",
              "    </tr>\n",
              "    <tr>\n",
              "      <th>628</th>\n",
              "      <td>Spring 2011</td>\n",
              "    </tr>\n",
              "  </tbody>\n",
              "</table>\n",
              "</div><br><label><b>dtype:</b> object</label>"
            ]
          },
          "metadata": {},
          "execution_count": 45
        }
      ]
    },
    {
      "cell_type": "markdown",
      "source": [
        "There are 4 types or format entries in the aired column \\\\\n",
        "- Spring 2015\n",
        "- Apr 11, 2021 to ?\n",
        "- Oct 21, 1994 to Aug 21, 1996\n",
        "- Sep 30, 2021"
      ],
      "metadata": {
        "id": "KVlNVuu4q3_D"
      }
    },
    {
      "cell_type": "markdown",
      "source": [
        "we will convert all entries in the format of Spring 2015"
      ],
      "metadata": {
        "id": "kF6Gs4Ixr9bN"
      }
    },
    {
      "cell_type": "code",
      "source": [
        "# list to store monts, seasons, year\n",
        "\n",
        "month = []\n",
        "season = []\n",
        "year = []\n"
      ],
      "metadata": {
        "id": "7_rBhJHIqzGv"
      },
      "execution_count": 46,
      "outputs": []
    },
    {
      "cell_type": "code",
      "source": [
        "# function to get season on months\n",
        "\n",
        "def get_season(month):\n",
        "\n",
        "    month = month.lower()\n",
        "\n",
        "    if month in ['dec', 'jan', 'feb']:\n",
        "        return \"Winter\"\n",
        "    elif month in ['mar', 'apr', 'may']:\n",
        "        return \"Spring\"\n",
        "    elif month in ['jun', 'jul', 'aug']:\n",
        "        return \"Summer\"\n",
        "    else:\n",
        "        return \"Fall\""
      ],
      "metadata": {
        "id": "_vsiuSCFsSsv"
      },
      "execution_count": 47,
      "outputs": []
    },
    {
      "cell_type": "code",
      "source": [
        "# function to get season and year\n",
        "\n",
        "def get_aired(aired):\n",
        "\n",
        "    ele = aired.split(',')\n",
        "\n",
        "    if len(ele) == 1:       # Spring 2015\n",
        "        return ele\n",
        "\n",
        "    if len(ele) == 2:       # Apr 11, 2021 to ?  or  Sep 30, 2021\n",
        "\n",
        "        if len(ele[-1]) == 4:       # Sep 30, 2021\n",
        "            month.append(ele[0][:3])  # append Sep\n",
        "            m = ele[0][:3]\n",
        "\n",
        "            year.append(ele[-1])        # append 2021\n",
        "            y = ele[-1]\n",
        "\n",
        "            s = get_season(m)\n",
        "            season.append(s)            # append season(Sep) = Fall\n",
        "\n",
        "        else:               # Apr 11, 2021 to ?\n",
        "            month.append(ele[0][:3])  # append Apr\n",
        "            m = ele[0][:3]\n",
        "\n",
        "            year.append(ele[-1][1:5])        # append 2021\n",
        "            y = ele[-1][1:5]\n",
        "\n",
        "            s = get_season(m)\n",
        "            season.append(s)            # append season(Apr) = Spring\n",
        "\n",
        "    else:           # Oct 21, 1994 to Aug 21, 1996\n",
        "        month.append(ele[0][:3])  # append Oct\n",
        "        m = ele[0][:3]\n",
        "\n",
        "        year.append(ele[1][1:5])        # append 1994\n",
        "        y = ele[1][1:5]\n",
        "\n",
        "        s = get_season(m)\n",
        "        season.append(s)                # append season(Oct) = Fall\n",
        "\n",
        "\n",
        "    return [s]+[y]\n"
      ],
      "metadata": {
        "id": "d6SLv02CvXx7"
      },
      "execution_count": 48,
      "outputs": []
    },
    {
      "cell_type": "code",
      "source": [
        "get_aired('Spring 2015')"
      ],
      "metadata": {
        "colab": {
          "base_uri": "https://localhost:8080/"
        },
        "id": "U9G8jE-TzD7v",
        "outputId": "03d6f888-cd58-46a9-9a09-1c9594062143"
      },
      "execution_count": 49,
      "outputs": [
        {
          "output_type": "execute_result",
          "data": {
            "text/plain": [
              "['Spring 2015']"
            ]
          },
          "metadata": {},
          "execution_count": 49
        }
      ]
    },
    {
      "cell_type": "code",
      "source": [
        "get_aired('Apr 11, 2021 to ?')"
      ],
      "metadata": {
        "colab": {
          "base_uri": "https://localhost:8080/"
        },
        "id": "uludwdmR0s4I",
        "outputId": "fe96b87c-4a61-429f-e36a-db3833172536"
      },
      "execution_count": 50,
      "outputs": [
        {
          "output_type": "execute_result",
          "data": {
            "text/plain": [
              "['Spring', '2021']"
            ]
          },
          "metadata": {},
          "execution_count": 50
        }
      ]
    },
    {
      "cell_type": "code",
      "source": [
        "get_aired('Oct 21, 1994 to Aug 21, 1996')"
      ],
      "metadata": {
        "colab": {
          "base_uri": "https://localhost:8080/"
        },
        "id": "886zggU-06DF",
        "outputId": "a1056d75-6db5-4aad-e88c-084207d195c5"
      },
      "execution_count": 51,
      "outputs": [
        {
          "output_type": "execute_result",
          "data": {
            "text/plain": [
              "['Fall', '1994']"
            ]
          },
          "metadata": {},
          "execution_count": 51
        }
      ]
    },
    {
      "cell_type": "code",
      "source": [
        "get_aired('Sep 30, 2021')"
      ],
      "metadata": {
        "colab": {
          "base_uri": "https://localhost:8080/"
        },
        "id": "IaMuUxrr1_lb",
        "outputId": "380637b8-0a17-4a47-aa8e-2dca81b133b0"
      },
      "execution_count": 52,
      "outputs": [
        {
          "output_type": "execute_result",
          "data": {
            "text/plain": [
              "['Fall', '2021']"
            ]
          },
          "metadata": {},
          "execution_count": 52
        }
      ]
    },
    {
      "cell_type": "markdown",
      "source": [
        "Now we can replace all the non NaN entries with [season, year] entries"
      ],
      "metadata": {
        "id": "kUCm_weP2gE6"
      }
    },
    {
      "cell_type": "code",
      "source": [
        "anime['aired'] = anime['aired'].dropna().apply(get_aired)"
      ],
      "metadata": {
        "id": "7Hd5qaPW2T-a"
      },
      "execution_count": 53,
      "outputs": []
    },
    {
      "cell_type": "code",
      "source": [
        "anime['aired']"
      ],
      "metadata": {
        "colab": {
          "base_uri": "https://localhost:8080/",
          "height": 458
        },
        "id": "HN3C5tjY2_dp",
        "outputId": "d0fc1e3b-d33f-4108-b40b-442141b54e67"
      },
      "execution_count": 54,
      "outputs": [
        {
          "output_type": "execute_result",
          "data": {
            "text/plain": [
              "0         [Fall, 1993]\n",
              "1         [Fall, 2016]\n",
              "2       [Spring, 2017]\n",
              "3       [Winter, 2006]\n",
              "4                  NaN\n",
              "             ...      \n",
              "6923    [Summer, 2011]\n",
              "6924    [Spring, 2020]\n",
              "6925    [Summer, 2007]\n",
              "6926    [Winter, 1998]\n",
              "6927      [Fall, 2018]\n",
              "Name: aired, Length: 6811, dtype: object"
            ],
            "text/html": [
              "<div>\n",
              "<style scoped>\n",
              "    .dataframe tbody tr th:only-of-type {\n",
              "        vertical-align: middle;\n",
              "    }\n",
              "\n",
              "    .dataframe tbody tr th {\n",
              "        vertical-align: top;\n",
              "    }\n",
              "\n",
              "    .dataframe thead th {\n",
              "        text-align: right;\n",
              "    }\n",
              "</style>\n",
              "<table border=\"1\" class=\"dataframe\">\n",
              "  <thead>\n",
              "    <tr style=\"text-align: right;\">\n",
              "      <th></th>\n",
              "      <th>aired</th>\n",
              "    </tr>\n",
              "  </thead>\n",
              "  <tbody>\n",
              "    <tr>\n",
              "      <th>0</th>\n",
              "      <td>[Fall, 1993]</td>\n",
              "    </tr>\n",
              "    <tr>\n",
              "      <th>1</th>\n",
              "      <td>[Fall, 2016]</td>\n",
              "    </tr>\n",
              "    <tr>\n",
              "      <th>2</th>\n",
              "      <td>[Spring, 2017]</td>\n",
              "    </tr>\n",
              "    <tr>\n",
              "      <th>3</th>\n",
              "      <td>[Winter, 2006]</td>\n",
              "    </tr>\n",
              "    <tr>\n",
              "      <th>4</th>\n",
              "      <td>NaN</td>\n",
              "    </tr>\n",
              "    <tr>\n",
              "      <th>...</th>\n",
              "      <td>...</td>\n",
              "    </tr>\n",
              "    <tr>\n",
              "      <th>6923</th>\n",
              "      <td>[Summer, 2011]</td>\n",
              "    </tr>\n",
              "    <tr>\n",
              "      <th>6924</th>\n",
              "      <td>[Spring, 2020]</td>\n",
              "    </tr>\n",
              "    <tr>\n",
              "      <th>6925</th>\n",
              "      <td>[Summer, 2007]</td>\n",
              "    </tr>\n",
              "    <tr>\n",
              "      <th>6926</th>\n",
              "      <td>[Winter, 1998]</td>\n",
              "    </tr>\n",
              "    <tr>\n",
              "      <th>6927</th>\n",
              "      <td>[Fall, 2018]</td>\n",
              "    </tr>\n",
              "  </tbody>\n",
              "</table>\n",
              "<p>6811 rows × 1 columns</p>\n",
              "</div><br><label><b>dtype:</b> object</label>"
            ]
          },
          "metadata": {},
          "execution_count": 54
        }
      ]
    },
    {
      "cell_type": "code",
      "source": [
        "# getting mode of month ,season and year\n",
        "\n",
        "c_year =Counter(year)\n",
        "c_season = Counter(season)"
      ],
      "metadata": {
        "id": "qvb3yOvg3Krv"
      },
      "execution_count": 57,
      "outputs": []
    },
    {
      "cell_type": "code",
      "source": [
        "c_year.most_common(3)"
      ],
      "metadata": {
        "colab": {
          "base_uri": "https://localhost:8080/"
        },
        "id": "JkKq_EC86YCH",
        "outputId": "112ced6e-84dc-4f13-8a1c-47f7957c6101"
      },
      "execution_count": 56,
      "outputs": [
        {
          "output_type": "execute_result",
          "data": {
            "text/plain": [
              "[('2020', 218), ('2014', 216), ('2015', 214)]"
            ]
          },
          "metadata": {},
          "execution_count": 56
        }
      ]
    },
    {
      "cell_type": "code",
      "source": [
        "c_season.most_common(3)"
      ],
      "metadata": {
        "id": "U-T53n_k6bbt",
        "colab": {
          "base_uri": "https://localhost:8080/"
        },
        "outputId": "ab56ef0d-6263-40ae-9d33-6568ab7ab8da"
      },
      "execution_count": 58,
      "outputs": [
        {
          "output_type": "execute_result",
          "data": {
            "text/plain": [
              "[('Spring', 1302), ('Fall', 1163), ('Winter', 1027)]"
            ]
          },
          "metadata": {},
          "execution_count": 58
        }
      ]
    },
    {
      "cell_type": "markdown",
      "source": [
        "we will randomly take most common year and season and replace it in place of NaN"
      ],
      "metadata": {
        "id": "nSN8LRsXXAn_"
      }
    },
    {
      "cell_type": "code",
      "source": [
        "ls_year = ['2020','2014','2015']\n",
        "ls_season = ['Spring','Fall','Winter']"
      ],
      "metadata": {
        "id": "tT8xX_MRW8Au"
      },
      "execution_count": 59,
      "outputs": []
    },
    {
      "cell_type": "code",
      "source": [
        "anime['aired'] = anime['aired'].isnull().apply(lambda x: [random.choice(ls_season)] + [random.choice(ls_year)])"
      ],
      "metadata": {
        "id": "q6tLr6ahXbWy"
      },
      "execution_count": 61,
      "outputs": []
    },
    {
      "cell_type": "code",
      "source": [
        "anime.isnull().sum()"
      ],
      "metadata": {
        "colab": {
          "base_uri": "https://localhost:8080/",
          "height": 585
        },
        "id": "o0PUkN3zX0wo",
        "outputId": "5567cc40-618b-427c-fc80-993055f63e80"
      },
      "execution_count": 62,
      "outputs": [
        {
          "output_type": "execute_result",
          "data": {
            "text/plain": [
              "name             0\n",
              "jname            1\n",
              "pganime          0\n",
              "quality          0\n",
              "epsub            0\n",
              "epdub            0\n",
              "totalep          0\n",
              "formats          0\n",
              "duration         0\n",
              "desc             0\n",
              "aired            0\n",
              "statusAnime      0\n",
              "genre            0\n",
              "studio         225\n",
              "producer         0\n",
              "image            0\n",
              "dtype: int64"
            ],
            "text/html": [
              "<div>\n",
              "<style scoped>\n",
              "    .dataframe tbody tr th:only-of-type {\n",
              "        vertical-align: middle;\n",
              "    }\n",
              "\n",
              "    .dataframe tbody tr th {\n",
              "        vertical-align: top;\n",
              "    }\n",
              "\n",
              "    .dataframe thead th {\n",
              "        text-align: right;\n",
              "    }\n",
              "</style>\n",
              "<table border=\"1\" class=\"dataframe\">\n",
              "  <thead>\n",
              "    <tr style=\"text-align: right;\">\n",
              "      <th></th>\n",
              "      <th>0</th>\n",
              "    </tr>\n",
              "  </thead>\n",
              "  <tbody>\n",
              "    <tr>\n",
              "      <th>name</th>\n",
              "      <td>0</td>\n",
              "    </tr>\n",
              "    <tr>\n",
              "      <th>jname</th>\n",
              "      <td>1</td>\n",
              "    </tr>\n",
              "    <tr>\n",
              "      <th>pganime</th>\n",
              "      <td>0</td>\n",
              "    </tr>\n",
              "    <tr>\n",
              "      <th>quality</th>\n",
              "      <td>0</td>\n",
              "    </tr>\n",
              "    <tr>\n",
              "      <th>epsub</th>\n",
              "      <td>0</td>\n",
              "    </tr>\n",
              "    <tr>\n",
              "      <th>epdub</th>\n",
              "      <td>0</td>\n",
              "    </tr>\n",
              "    <tr>\n",
              "      <th>totalep</th>\n",
              "      <td>0</td>\n",
              "    </tr>\n",
              "    <tr>\n",
              "      <th>formats</th>\n",
              "      <td>0</td>\n",
              "    </tr>\n",
              "    <tr>\n",
              "      <th>duration</th>\n",
              "      <td>0</td>\n",
              "    </tr>\n",
              "    <tr>\n",
              "      <th>desc</th>\n",
              "      <td>0</td>\n",
              "    </tr>\n",
              "    <tr>\n",
              "      <th>aired</th>\n",
              "      <td>0</td>\n",
              "    </tr>\n",
              "    <tr>\n",
              "      <th>statusAnime</th>\n",
              "      <td>0</td>\n",
              "    </tr>\n",
              "    <tr>\n",
              "      <th>genre</th>\n",
              "      <td>0</td>\n",
              "    </tr>\n",
              "    <tr>\n",
              "      <th>studio</th>\n",
              "      <td>225</td>\n",
              "    </tr>\n",
              "    <tr>\n",
              "      <th>producer</th>\n",
              "      <td>0</td>\n",
              "    </tr>\n",
              "    <tr>\n",
              "      <th>image</th>\n",
              "      <td>0</td>\n",
              "    </tr>\n",
              "  </tbody>\n",
              "</table>\n",
              "</div><br><label><b>dtype:</b> int64</label>"
            ]
          },
          "metadata": {},
          "execution_count": 62
        }
      ]
    },
    {
      "cell_type": "markdown",
      "source": [
        "---\n",
        "\\\\\n",
        "**Studios column imputation**"
      ],
      "metadata": {
        "id": "h7UFCz77YFK8"
      }
    },
    {
      "cell_type": "code",
      "source": [
        "anime['studio']"
      ],
      "metadata": {
        "colab": {
          "base_uri": "https://localhost:8080/",
          "height": 458
        },
        "id": "DWn2MSv6X9ko",
        "outputId": "c9069f12-f87e-4eef-87be-533452fc9c58"
      },
      "execution_count": 66,
      "outputs": [
        {
          "output_type": "execute_result",
          "data": {
            "text/plain": [
              "0                                   Group TAC\n",
              "1                                      Orange\n",
              "2                                       Bones\n",
              "3                              Production I.G\n",
              "4                              Production I.G\n",
              "                        ...                  \n",
              "6923                                  Sunrise\n",
              "6924                                  Connect\n",
              "6925                                 Madhouse\n",
              "6926                                    Radix\n",
              "6927    Shanghai Foch Film Culture Investment\n",
              "Name: studio, Length: 6811, dtype: object"
            ],
            "text/html": [
              "<div>\n",
              "<style scoped>\n",
              "    .dataframe tbody tr th:only-of-type {\n",
              "        vertical-align: middle;\n",
              "    }\n",
              "\n",
              "    .dataframe tbody tr th {\n",
              "        vertical-align: top;\n",
              "    }\n",
              "\n",
              "    .dataframe thead th {\n",
              "        text-align: right;\n",
              "    }\n",
              "</style>\n",
              "<table border=\"1\" class=\"dataframe\">\n",
              "  <thead>\n",
              "    <tr style=\"text-align: right;\">\n",
              "      <th></th>\n",
              "      <th>studio</th>\n",
              "    </tr>\n",
              "  </thead>\n",
              "  <tbody>\n",
              "    <tr>\n",
              "      <th>0</th>\n",
              "      <td>Group TAC</td>\n",
              "    </tr>\n",
              "    <tr>\n",
              "      <th>1</th>\n",
              "      <td>Orange</td>\n",
              "    </tr>\n",
              "    <tr>\n",
              "      <th>2</th>\n",
              "      <td>Bones</td>\n",
              "    </tr>\n",
              "    <tr>\n",
              "      <th>3</th>\n",
              "      <td>Production I.G</td>\n",
              "    </tr>\n",
              "    <tr>\n",
              "      <th>4</th>\n",
              "      <td>Production I.G</td>\n",
              "    </tr>\n",
              "    <tr>\n",
              "      <th>...</th>\n",
              "      <td>...</td>\n",
              "    </tr>\n",
              "    <tr>\n",
              "      <th>6923</th>\n",
              "      <td>Sunrise</td>\n",
              "    </tr>\n",
              "    <tr>\n",
              "      <th>6924</th>\n",
              "      <td>Connect</td>\n",
              "    </tr>\n",
              "    <tr>\n",
              "      <th>6925</th>\n",
              "      <td>Madhouse</td>\n",
              "    </tr>\n",
              "    <tr>\n",
              "      <th>6926</th>\n",
              "      <td>Radix</td>\n",
              "    </tr>\n",
              "    <tr>\n",
              "      <th>6927</th>\n",
              "      <td>Shanghai Foch Film Culture Investment</td>\n",
              "    </tr>\n",
              "  </tbody>\n",
              "</table>\n",
              "<p>6811 rows × 1 columns</p>\n",
              "</div><br><label><b>dtype:</b> object</label>"
            ]
          },
          "metadata": {},
          "execution_count": 66
        }
      ]
    },
    {
      "cell_type": "code",
      "source": [
        "# getting the most common studios\n",
        "\n",
        "anime['studio'].mode()"
      ],
      "metadata": {
        "colab": {
          "base_uri": "https://localhost:8080/",
          "height": 115
        },
        "id": "G9_nUkWfYRVI",
        "outputId": "b8dcdadc-c394-49f2-abe5-12b35392a871"
      },
      "execution_count": 67,
      "outputs": [
        {
          "output_type": "execute_result",
          "data": {
            "text/plain": [
              "0    Toei Animation\n",
              "Name: studio, dtype: object"
            ],
            "text/html": [
              "<div>\n",
              "<style scoped>\n",
              "    .dataframe tbody tr th:only-of-type {\n",
              "        vertical-align: middle;\n",
              "    }\n",
              "\n",
              "    .dataframe tbody tr th {\n",
              "        vertical-align: top;\n",
              "    }\n",
              "\n",
              "    .dataframe thead th {\n",
              "        text-align: right;\n",
              "    }\n",
              "</style>\n",
              "<table border=\"1\" class=\"dataframe\">\n",
              "  <thead>\n",
              "    <tr style=\"text-align: right;\">\n",
              "      <th></th>\n",
              "      <th>studio</th>\n",
              "    </tr>\n",
              "  </thead>\n",
              "  <tbody>\n",
              "    <tr>\n",
              "      <th>0</th>\n",
              "      <td>Toei Animation</td>\n",
              "    </tr>\n",
              "  </tbody>\n",
              "</table>\n",
              "</div><br><label><b>dtype:</b> object</label>"
            ]
          },
          "metadata": {},
          "execution_count": 67
        }
      ]
    },
    {
      "cell_type": "markdown",
      "source": [
        "we will replace NaN entries with 'Toei Animation'"
      ],
      "metadata": {
        "id": "RdaFU56yYl4w"
      }
    },
    {
      "cell_type": "code",
      "source": [
        "anime['studio'].fillna('Toei Animation', inplace=True)"
      ],
      "metadata": {
        "id": "Wx2fqf9UYjoW"
      },
      "execution_count": 68,
      "outputs": []
    },
    {
      "cell_type": "markdown",
      "source": [
        "---\n",
        "\\\\\n",
        "**Desc column imputation**"
      ],
      "metadata": {
        "id": "u5Hp0mU6ZAq2"
      }
    },
    {
      "cell_type": "code",
      "source": [
        "anime['desc'][0]"
      ],
      "metadata": {
        "colab": {
          "base_uri": "https://localhost:8080/",
          "height": 192
        },
        "id": "9obN_HunY6cY",
        "outputId": "3c61a04d-a7dc-45d3-d262-abadf63e9ad6"
      },
      "execution_count": 69,
      "outputs": [
        {
          "output_type": "execute_result",
          "data": {
            "text/plain": [
              "'Ta-chan is the king of jungle. He was abandoned in savanna, and has been raised by a chimpanzee, Etekichi. He has a dearest wife, Jane who used to be a top model in New York, but now she looks... Anyway, to protect animals from poachers, Ta-chan is fighting against them with his disciple, Pedro, and a master of Chinese martial arts, Ryo.\\n\\nThis anime is based on the manga with the same title; it begins as a comical parody of Tarzan. The first several episodes are comedies, but the rest of the series consists of (rather) serious episodes.\\n\\n(Source: AnimeNfo)\\n                                \\n                                        Ta-chan is the king of jungle. He was abandoned in savanna, and has been raised by a chimpanzee, Etekichi. He has a dearest wife, Jane who used to be a top model in New York, but now she looks... Anyway, to protect animals from poachers, Ta-chan is fighting against them with his disciple, Pedro, and a master of Chinese martial arts, Ryo.\\n\\nThis anime is based on the manga with the same title; it begins as a comical parody of Tarzan. The first several episodes are comedies, but the rest of the series consists of (rather) serious episodes.\\n\\n(Source: AnimeNfo)'"
            ],
            "application/vnd.google.colaboratory.intrinsic+json": {
              "type": "string"
            }
          },
          "metadata": {},
          "execution_count": 69
        }
      ]
    },
    {
      "cell_type": "code",
      "source": [
        "anime['desc'][1]"
      ],
      "metadata": {
        "colab": {
          "base_uri": "https://localhost:8080/",
          "height": 88
        },
        "id": "O6u6ihWaZGSN",
        "outputId": "3d8b26f3-1a11-4ea9-927b-904b8bf4c14c"
      },
      "execution_count": 70,
      "outputs": [
        {
          "output_type": "execute_result",
          "data": {
            "text/plain": [
              "'Team Fawn from Gurantseere Academy dreams of one day fighting beside the heroes of Team Rabbit. One day, they finally get their chance as the GDF launches another attack.\\n\\n(Source: Crunchyroll)\\n                                \\n                                        Team Fawn from Gurantseere Academy dreams of one day fighting beside the heroes of Team Rabbit. One day, they finally get their chance as the GDF launches another attack.\\n\\n(Source: Crunchyroll)'"
            ],
            "application/vnd.google.colaboratory.intrinsic+json": {
              "type": "string"
            }
          },
          "metadata": {},
          "execution_count": 70
        }
      ]
    },
    {
      "cell_type": "markdown",
      "source": [
        "As we can see the anime description is repeated twice, \\\\\n",
        "we have to remove the second one \\\\\n",
        "we we look closely we can see that the paragraphs are seperated by \\n\\n"
      ],
      "metadata": {
        "id": "jfD6xcdnZc_C"
      }
    },
    {
      "cell_type": "code",
      "source": [
        "anime['desc'][1].split('\\n\\n')[0]"
      ],
      "metadata": {
        "colab": {
          "base_uri": "https://localhost:8080/",
          "height": 53
        },
        "id": "_VYSiJkSZZBs",
        "outputId": "343786d9-0015-456d-8a58-0d5521c492cf"
      },
      "execution_count": 72,
      "outputs": [
        {
          "output_type": "execute_result",
          "data": {
            "text/plain": [
              "'Team Fawn from Gurantseere Academy dreams of one day fighting beside the heroes of Team Rabbit. One day, they finally get their chance as the GDF launches another attack.'"
            ],
            "application/vnd.google.colaboratory.intrinsic+json": {
              "type": "string"
            }
          },
          "metadata": {},
          "execution_count": 72
        }
      ]
    },
    {
      "cell_type": "code",
      "source": [
        "anime['desc'][55]"
      ],
      "metadata": {
        "colab": {
          "base_uri": "https://localhost:8080/",
          "height": 53
        },
        "id": "ENKUy487Z930",
        "outputId": "7f70abb9-1b6e-4f54-a1fa-0a5cae25fba4"
      },
      "execution_count": 77,
      "outputs": [
        {
          "output_type": "execute_result",
          "data": {
            "text/plain": [
              "'A squadron of robots defends the planet against alien invaders. \\n\\n(Source: AniDB)\\n                                \\n                                        A squadron of robots defends the planet against alien invaders. \\n\\n(Source: AniDB)'"
            ],
            "application/vnd.google.colaboratory.intrinsic+json": {
              "type": "string"
            }
          },
          "metadata": {},
          "execution_count": 77
        }
      ]
    },
    {
      "cell_type": "code",
      "source": [
        "anime['desc'] = anime['desc'].apply(lambda x: x.split('\\n\\n')[0])"
      ],
      "metadata": {
        "id": "3wv9LG9NaFpx"
      },
      "execution_count": 78,
      "outputs": []
    },
    {
      "cell_type": "markdown",
      "source": [
        "---\n",
        "\\\\\n",
        "**statusAnime column elimination**"
      ],
      "metadata": {
        "id": "Pu2Q_tZLavTg"
      }
    },
    {
      "cell_type": "code",
      "source": [
        "anime['statusAnime'].value_counts()"
      ],
      "metadata": {
        "colab": {
          "base_uri": "https://localhost:8080/",
          "height": 489
        },
        "id": "2-BMT1bPaZmE",
        "outputId": "3033dbff-0aae-4bae-c3d8-577120ca7d44"
      },
      "execution_count": 84,
      "outputs": [
        {
          "output_type": "execute_result",
          "data": {
            "text/plain": [
              "statusAnime\n",
              "Finished Airing     4463\n",
              "?                    405\n",
              "Currently Airing      65\n",
              "7.36                  19\n",
              "7.39                  18\n",
              "                    ... \n",
              "4.82                   1\n",
              "6.03                   1\n",
              "9.09                   1\n",
              "5.88                   1\n",
              "7.78                   1\n",
              "Name: count, Length: 377, dtype: int64"
            ],
            "text/html": [
              "<div>\n",
              "<style scoped>\n",
              "    .dataframe tbody tr th:only-of-type {\n",
              "        vertical-align: middle;\n",
              "    }\n",
              "\n",
              "    .dataframe tbody tr th {\n",
              "        vertical-align: top;\n",
              "    }\n",
              "\n",
              "    .dataframe thead th {\n",
              "        text-align: right;\n",
              "    }\n",
              "</style>\n",
              "<table border=\"1\" class=\"dataframe\">\n",
              "  <thead>\n",
              "    <tr style=\"text-align: right;\">\n",
              "      <th></th>\n",
              "      <th>count</th>\n",
              "    </tr>\n",
              "    <tr>\n",
              "      <th>statusAnime</th>\n",
              "      <th></th>\n",
              "    </tr>\n",
              "  </thead>\n",
              "  <tbody>\n",
              "    <tr>\n",
              "      <th>Finished Airing</th>\n",
              "      <td>4463</td>\n",
              "    </tr>\n",
              "    <tr>\n",
              "      <th>?</th>\n",
              "      <td>405</td>\n",
              "    </tr>\n",
              "    <tr>\n",
              "      <th>Currently Airing</th>\n",
              "      <td>65</td>\n",
              "    </tr>\n",
              "    <tr>\n",
              "      <th>7.36</th>\n",
              "      <td>19</td>\n",
              "    </tr>\n",
              "    <tr>\n",
              "      <th>7.39</th>\n",
              "      <td>18</td>\n",
              "    </tr>\n",
              "    <tr>\n",
              "      <th>...</th>\n",
              "      <td>...</td>\n",
              "    </tr>\n",
              "    <tr>\n",
              "      <th>4.82</th>\n",
              "      <td>1</td>\n",
              "    </tr>\n",
              "    <tr>\n",
              "      <th>6.03</th>\n",
              "      <td>1</td>\n",
              "    </tr>\n",
              "    <tr>\n",
              "      <th>9.09</th>\n",
              "      <td>1</td>\n",
              "    </tr>\n",
              "    <tr>\n",
              "      <th>5.88</th>\n",
              "      <td>1</td>\n",
              "    </tr>\n",
              "    <tr>\n",
              "      <th>7.78</th>\n",
              "      <td>1</td>\n",
              "    </tr>\n",
              "  </tbody>\n",
              "</table>\n",
              "<p>377 rows × 1 columns</p>\n",
              "</div><br><label><b>dtype:</b> int64</label>"
            ]
          },
          "metadata": {},
          "execution_count": 84
        }
      ]
    },
    {
      "cell_type": "markdown",
      "source": [
        "as we can see the most of the entries are numeric, but 4 entries are textual\n",
        " \\\\\n",
        "we will replace them to a numeric values as follows \\\n",
        "- Finished Airing = 10.0\n",
        "- ? = mean value\n",
        "- Currently Airing = 4.5\n",
        "- Not yet Aired = 0"
      ],
      "metadata": {
        "id": "e5g-v8g5bDmW"
      }
    },
    {
      "cell_type": "code",
      "source": [
        "anime['statusAnime'][222]"
      ],
      "metadata": {
        "colab": {
          "base_uri": "https://localhost:8080/",
          "height": 36
        },
        "id": "gE9Z2Uw4arag",
        "outputId": "d52ddaf7-f7c7-4999-dc5d-2e1b943e1477"
      },
      "execution_count": 88,
      "outputs": [
        {
          "output_type": "execute_result",
          "data": {
            "text/plain": [
              "'Finished Airing'"
            ],
            "application/vnd.google.colaboratory.intrinsic+json": {
              "type": "string"
            }
          },
          "metadata": {},
          "execution_count": 88
        }
      ]
    },
    {
      "cell_type": "code",
      "source": [
        "# getting the rows which contains numeric values\n",
        "\n",
        "num = anime['statusAnime'].loc[(anime['statusAnime'] != 'Finished Airing') & (anime['statusAnime'] != '?') & (anime['statusAnime'] != 'Currently Airing') & (anime['statusAnime'] != 'Not yet aired')]"
      ],
      "metadata": {
        "id": "_mxzuz8ocGJx"
      },
      "execution_count": 89,
      "outputs": []
    },
    {
      "cell_type": "code",
      "source": [
        "# calulating mean\n",
        "\n",
        "mean = num.apply(lambda x: eval(x)).mean()\n",
        "mean"
      ],
      "metadata": {
        "colab": {
          "base_uri": "https://localhost:8080/"
        },
        "id": "Xom85RY0dYyC",
        "outputId": "a65964e5-7022-43eb-f5fd-64b99c44df91"
      },
      "execution_count": 92,
      "outputs": [
        {
          "output_type": "execute_result",
          "data": {
            "text/plain": [
              "6.867890250399574"
            ]
          },
          "metadata": {},
          "execution_count": 92
        }
      ]
    },
    {
      "cell_type": "markdown",
      "source": [
        "the mean = 6.87"
      ],
      "metadata": {
        "id": "8aWUnI5Rdtje"
      }
    },
    {
      "cell_type": "code",
      "source": [
        "# replacing the entries\n",
        "\n",
        "anime['statusAnime'] = anime['statusAnime'].replace({'Finished Airing':'10.0',\n",
        "                              '?':'6.87',\n",
        "                              'Currently Airing':'4.5',\n",
        "                              'Not yet aired':'0'})"
      ],
      "metadata": {
        "id": "PLguofSxdrnC"
      },
      "execution_count": 94,
      "outputs": []
    },
    {
      "cell_type": "markdown",
      "source": [
        "---\n",
        "\\\\\n",
        "**Genre column imputation**"
      ],
      "metadata": {
        "id": "DhfJMBaDec6E"
      }
    },
    {
      "cell_type": "code",
      "source": [
        "type(anime['genre'][0])"
      ],
      "metadata": {
        "colab": {
          "base_uri": "https://localhost:8080/"
        },
        "id": "na0IUJKqeS7d",
        "outputId": "d44d603a-6734-4cc1-b342-d1c9af56387e"
      },
      "execution_count": 99,
      "outputs": [
        {
          "output_type": "execute_result",
          "data": {
            "text/plain": [
              "str"
            ]
          },
          "metadata": {},
          "execution_count": 99
        }
      ]
    },
    {
      "cell_type": "markdown",
      "source": [
        "There are no NaN values present in genre column but it is of sting type\n",
        "\n",
        "we have to convert it into list"
      ],
      "metadata": {
        "id": "SXt6cdUlfNT8"
      }
    },
    {
      "cell_type": "code",
      "source": [
        "# funtiion to remove spaces and convert it into list\n",
        "\n",
        "def get_genre(ele):\n",
        "    ls = []\n",
        "    for i in ast.literal_eval(ele):\n",
        "        i = i.replace(' ','')\n",
        "        ls.append(i)\n",
        "    return ls"
      ],
      "metadata": {
        "id": "ylIuN_KpeuM-"
      },
      "execution_count": 101,
      "outputs": []
    },
    {
      "cell_type": "code",
      "source": [
        "anime['genre'] = anime['genre'].apply(get_genre)"
      ],
      "metadata": {
        "id": "vyLMukUUfvCp"
      },
      "execution_count": 102,
      "outputs": []
    },
    {
      "cell_type": "markdown",
      "source": [
        "---\n",
        "\\\\\n",
        "**Producer column imputation**"
      ],
      "metadata": {
        "id": "o1OZgyckgV1s"
      }
    },
    {
      "cell_type": "code",
      "source": [
        "anime['producer'].value_counts()"
      ],
      "metadata": {
        "colab": {
          "base_uri": "https://localhost:8080/",
          "height": 489
        },
        "id": "sXhh88lzgQZU",
        "outputId": "ebe7a823-6a3f-41af-f11f-45b3b579b405"
      },
      "execution_count": 103,
      "outputs": [
        {
          "output_type": "execute_result",
          "data": {
            "text/plain": [
              "producer\n",
              "[]                                                                                  2707\n",
              "['Toei Animation']                                                                   107\n",
              "['Nippon Animation']                                                                  35\n",
              "['Sunrise']                                                                           34\n",
              "['TMS Entertainment']                                                                 26\n",
              "                                                                                    ... \n",
              "['Fuji TV', 'Tokyo Movie Shinsha']                                                     1\n",
              "['Fuji TV', 'Toho', 'Sony Music Entertainment', 'Doga Kobo', 'Sentai Filmworks']       1\n",
              "['Sotsu Music Publishing', 'Gonzo', 'Discotek Media']                                  1\n",
              "['VAP', 'Arms', 'Sentai Filmworks']                                                    1\n",
              "['Sotsu', 'Radix', 'Bandai Entertainment']                                             1\n",
              "Name: count, Length: 3059, dtype: int64"
            ],
            "text/html": [
              "<div>\n",
              "<style scoped>\n",
              "    .dataframe tbody tr th:only-of-type {\n",
              "        vertical-align: middle;\n",
              "    }\n",
              "\n",
              "    .dataframe tbody tr th {\n",
              "        vertical-align: top;\n",
              "    }\n",
              "\n",
              "    .dataframe thead th {\n",
              "        text-align: right;\n",
              "    }\n",
              "</style>\n",
              "<table border=\"1\" class=\"dataframe\">\n",
              "  <thead>\n",
              "    <tr style=\"text-align: right;\">\n",
              "      <th></th>\n",
              "      <th>count</th>\n",
              "    </tr>\n",
              "    <tr>\n",
              "      <th>producer</th>\n",
              "      <th></th>\n",
              "    </tr>\n",
              "  </thead>\n",
              "  <tbody>\n",
              "    <tr>\n",
              "      <th>[]</th>\n",
              "      <td>2707</td>\n",
              "    </tr>\n",
              "    <tr>\n",
              "      <th>['Toei Animation']</th>\n",
              "      <td>107</td>\n",
              "    </tr>\n",
              "    <tr>\n",
              "      <th>['Nippon Animation']</th>\n",
              "      <td>35</td>\n",
              "    </tr>\n",
              "    <tr>\n",
              "      <th>['Sunrise']</th>\n",
              "      <td>34</td>\n",
              "    </tr>\n",
              "    <tr>\n",
              "      <th>['TMS Entertainment']</th>\n",
              "      <td>26</td>\n",
              "    </tr>\n",
              "    <tr>\n",
              "      <th>...</th>\n",
              "      <td>...</td>\n",
              "    </tr>\n",
              "    <tr>\n",
              "      <th>['Fuji TV', 'Tokyo Movie Shinsha']</th>\n",
              "      <td>1</td>\n",
              "    </tr>\n",
              "    <tr>\n",
              "      <th>['Fuji TV', 'Toho', 'Sony Music Entertainment', 'Doga Kobo', 'Sentai Filmworks']</th>\n",
              "      <td>1</td>\n",
              "    </tr>\n",
              "    <tr>\n",
              "      <th>['Sotsu Music Publishing', 'Gonzo', 'Discotek Media']</th>\n",
              "      <td>1</td>\n",
              "    </tr>\n",
              "    <tr>\n",
              "      <th>['VAP', 'Arms', 'Sentai Filmworks']</th>\n",
              "      <td>1</td>\n",
              "    </tr>\n",
              "    <tr>\n",
              "      <th>['Sotsu', 'Radix', 'Bandai Entertainment']</th>\n",
              "      <td>1</td>\n",
              "    </tr>\n",
              "  </tbody>\n",
              "</table>\n",
              "<p>3059 rows × 1 columns</p>\n",
              "</div><br><label><b>dtype:</b> int64</label>"
            ]
          },
          "metadata": {},
          "execution_count": 103
        }
      ]
    },
    {
      "cell_type": "markdown",
      "source": [
        "most of the entries are empty list [] ,which is 39% of the data , so we will remove it"
      ],
      "metadata": {
        "id": "gMZY6r3igncv"
      }
    },
    {
      "cell_type": "code",
      "source": [
        "anime.drop(columns = ['producer'], axis = 1, inplace = True)"
      ],
      "metadata": {
        "id": "yuqJ6dv_geFe"
      },
      "execution_count": 105,
      "outputs": []
    },
    {
      "cell_type": "code",
      "source": [
        "anime.info()"
      ],
      "metadata": {
        "colab": {
          "base_uri": "https://localhost:8080/"
        },
        "id": "MZaRez1Xg9Uq",
        "outputId": "fd6432c0-accd-4be8-d65a-80e63f3bf715"
      },
      "execution_count": 107,
      "outputs": [
        {
          "output_type": "stream",
          "name": "stdout",
          "text": [
            "<class 'pandas.core.frame.DataFrame'>\n",
            "Index: 6811 entries, 0 to 6927\n",
            "Data columns (total 15 columns):\n",
            " #   Column       Non-Null Count  Dtype \n",
            "---  ------       --------------  ----- \n",
            " 0   name         6811 non-null   object\n",
            " 1   jname        6810 non-null   object\n",
            " 2   pganime      6811 non-null   object\n",
            " 3   quality      6811 non-null   object\n",
            " 4   epsub        6811 non-null   object\n",
            " 5   epdub        6811 non-null   object\n",
            " 6   totalep      6811 non-null   object\n",
            " 7   formats      6811 non-null   object\n",
            " 8   duration     6811 non-null   object\n",
            " 9   desc         6811 non-null   object\n",
            " 10  aired        6811 non-null   object\n",
            " 11  statusAnime  6811 non-null   object\n",
            " 12  genre        6811 non-null   object\n",
            " 13  studio       6811 non-null   object\n",
            " 14  image        6811 non-null   object\n",
            "dtypes: object(15)\n",
            "memory usage: 1.1+ MB\n"
          ]
        }
      ]
    },
    {
      "cell_type": "markdown",
      "source": [
        "---\n",
        "---"
      ],
      "metadata": {
        "id": "tdsgCpi-hdqm"
      }
    },
    {
      "cell_type": "markdown",
      "source": [
        "### Sving the dataset"
      ],
      "metadata": {
        "id": "EvFaWqPBhhv2"
      }
    },
    {
      "cell_type": "code",
      "source": [
        "anime.drop(columns = ['epsub','epdub'], axis =1, inplace = True)"
      ],
      "metadata": {
        "id": "ZvZlVcOwh1Y-"
      },
      "execution_count": 116,
      "outputs": []
    },
    {
      "cell_type": "code",
      "source": [
        "anime.head()"
      ],
      "metadata": {
        "colab": {
          "base_uri": "https://localhost:8080/",
          "height": 712
        },
        "id": "hFZ_GMJshSOx",
        "outputId": "33e749c6-e1d6-4b0a-8fb4-b4a268761d01"
      },
      "execution_count": 117,
      "outputs": [
        {
          "output_type": "execute_result",
          "data": {
            "text/plain": [
              "                                                name  \\\n",
              "0                            Jungle no Ouja Taa-chan   \n",
              "1   Majestic Prince Episode 25 – Wings to the Future   \n",
              "2           My Hero Academia Season 2: Hero Notebook   \n",
              "3  Ghost in the Shell: Stand Alone Complex 2nd GI...   \n",
              "4  Ghost in the Shell: Stand Alone Complex - The ...   \n",
              "\n",
              "                                               jname pganime quality totalep  \\\n",
              "0                            Jungle no Ouja Taa-chan      R+      HD      50   \n",
              "1  Ginga Kikoutai Majestic Prince: Mirai e no Tsu...   PG-13      HD     1.0   \n",
              "2        Boku no Hero Academia 2nd Season: Hero Note   PG-13      HD     1.0   \n",
              "3  Koukaku Kidoutai: Stand Alone Complex 2nd GIG ...       R      HD     1.0   \n",
              "4  Koukaku Kidoutai: Stand Alone Complex - The La...       R      HD     1.0   \n",
              "\n",
              "   formats duration                                               desc  \\\n",
              "0       TV      24m  Ta-chan is the king of jungle. He was abandone...   \n",
              "1  Special      23m  Team Fawn from Gurantseere Academy dreams of o...   \n",
              "2  Special      23m  Recap of Boku no Hero Academia that aired a we...   \n",
              "3  Special   2h 41m  Compilation movie of the \"Individual Eleven\" s...   \n",
              "4  Special   2h 40m  In 2024, the terrorist incident known as \"The ...   \n",
              "\n",
              "            aired statusAnime  \\\n",
              "0  [Winter, 2014]        10.0   \n",
              "1    [Fall, 2014]        10.0   \n",
              "2    [Fall, 2015]        10.0   \n",
              "3  [Winter, 2015]        10.0   \n",
              "4  [Winter, 2020]         8.1   \n",
              "\n",
              "                                               genre          studio  \\\n",
              "0                           [Action, Comedy, Parody]       Group TAC   \n",
              "1     [Action, Sci-Fi, Space, Mecha, School, Seinen]          Orange   \n",
              "2                       [Action, Comedy, SuperPower]           Bones   \n",
              "3                            [Action, Mecha, Sci-Fi]  Production I.G   \n",
              "4  [Action, Mystery, Mecha, Sci-Fi, Police, Psych...  Production I.G   \n",
              "\n",
              "                                               image  \n",
              "0  https://img.flawlessfiles.com/_r/300x400/100/f...  \n",
              "1  https://img.flawlessfiles.com/_r/300x400/100/b...  \n",
              "2  https://img.flawlessfiles.com/_r/300x400/100/b...  \n",
              "3  https://img.flawlessfiles.com/_r/300x400/100/e...  \n",
              "4  https://img.flawlessfiles.com/_r/300x400/100/4...  "
            ],
            "text/html": [
              "\n",
              "  <div id=\"df-95fabd46-0ec4-4189-ab6b-632d89d9db2a\" class=\"colab-df-container\">\n",
              "    <div>\n",
              "<style scoped>\n",
              "    .dataframe tbody tr th:only-of-type {\n",
              "        vertical-align: middle;\n",
              "    }\n",
              "\n",
              "    .dataframe tbody tr th {\n",
              "        vertical-align: top;\n",
              "    }\n",
              "\n",
              "    .dataframe thead th {\n",
              "        text-align: right;\n",
              "    }\n",
              "</style>\n",
              "<table border=\"1\" class=\"dataframe\">\n",
              "  <thead>\n",
              "    <tr style=\"text-align: right;\">\n",
              "      <th></th>\n",
              "      <th>name</th>\n",
              "      <th>jname</th>\n",
              "      <th>pganime</th>\n",
              "      <th>quality</th>\n",
              "      <th>totalep</th>\n",
              "      <th>formats</th>\n",
              "      <th>duration</th>\n",
              "      <th>desc</th>\n",
              "      <th>aired</th>\n",
              "      <th>statusAnime</th>\n",
              "      <th>genre</th>\n",
              "      <th>studio</th>\n",
              "      <th>image</th>\n",
              "    </tr>\n",
              "  </thead>\n",
              "  <tbody>\n",
              "    <tr>\n",
              "      <th>0</th>\n",
              "      <td>Jungle no Ouja Taa-chan</td>\n",
              "      <td>Jungle no Ouja Taa-chan</td>\n",
              "      <td>R+</td>\n",
              "      <td>HD</td>\n",
              "      <td>50</td>\n",
              "      <td>TV</td>\n",
              "      <td>24m</td>\n",
              "      <td>Ta-chan is the king of jungle. He was abandone...</td>\n",
              "      <td>[Winter, 2014]</td>\n",
              "      <td>10.0</td>\n",
              "      <td>[Action, Comedy, Parody]</td>\n",
              "      <td>Group TAC</td>\n",
              "      <td>https://img.flawlessfiles.com/_r/300x400/100/f...</td>\n",
              "    </tr>\n",
              "    <tr>\n",
              "      <th>1</th>\n",
              "      <td>Majestic Prince Episode 25 – Wings to the Future</td>\n",
              "      <td>Ginga Kikoutai Majestic Prince: Mirai e no Tsu...</td>\n",
              "      <td>PG-13</td>\n",
              "      <td>HD</td>\n",
              "      <td>1.0</td>\n",
              "      <td>Special</td>\n",
              "      <td>23m</td>\n",
              "      <td>Team Fawn from Gurantseere Academy dreams of o...</td>\n",
              "      <td>[Fall, 2014]</td>\n",
              "      <td>10.0</td>\n",
              "      <td>[Action, Sci-Fi, Space, Mecha, School, Seinen]</td>\n",
              "      <td>Orange</td>\n",
              "      <td>https://img.flawlessfiles.com/_r/300x400/100/b...</td>\n",
              "    </tr>\n",
              "    <tr>\n",
              "      <th>2</th>\n",
              "      <td>My Hero Academia Season 2: Hero Notebook</td>\n",
              "      <td>Boku no Hero Academia 2nd Season: Hero Note</td>\n",
              "      <td>PG-13</td>\n",
              "      <td>HD</td>\n",
              "      <td>1.0</td>\n",
              "      <td>Special</td>\n",
              "      <td>23m</td>\n",
              "      <td>Recap of Boku no Hero Academia that aired a we...</td>\n",
              "      <td>[Fall, 2015]</td>\n",
              "      <td>10.0</td>\n",
              "      <td>[Action, Comedy, SuperPower]</td>\n",
              "      <td>Bones</td>\n",
              "      <td>https://img.flawlessfiles.com/_r/300x400/100/b...</td>\n",
              "    </tr>\n",
              "    <tr>\n",
              "      <th>3</th>\n",
              "      <td>Ghost in the Shell: Stand Alone Complex 2nd GI...</td>\n",
              "      <td>Koukaku Kidoutai: Stand Alone Complex 2nd GIG ...</td>\n",
              "      <td>R</td>\n",
              "      <td>HD</td>\n",
              "      <td>1.0</td>\n",
              "      <td>Special</td>\n",
              "      <td>2h 41m</td>\n",
              "      <td>Compilation movie of the \"Individual Eleven\" s...</td>\n",
              "      <td>[Winter, 2015]</td>\n",
              "      <td>10.0</td>\n",
              "      <td>[Action, Mecha, Sci-Fi]</td>\n",
              "      <td>Production I.G</td>\n",
              "      <td>https://img.flawlessfiles.com/_r/300x400/100/e...</td>\n",
              "    </tr>\n",
              "    <tr>\n",
              "      <th>4</th>\n",
              "      <td>Ghost in the Shell: Stand Alone Complex - The ...</td>\n",
              "      <td>Koukaku Kidoutai: Stand Alone Complex - The La...</td>\n",
              "      <td>R</td>\n",
              "      <td>HD</td>\n",
              "      <td>1.0</td>\n",
              "      <td>Special</td>\n",
              "      <td>2h 40m</td>\n",
              "      <td>In 2024, the terrorist incident known as \"The ...</td>\n",
              "      <td>[Winter, 2020]</td>\n",
              "      <td>8.1</td>\n",
              "      <td>[Action, Mystery, Mecha, Sci-Fi, Police, Psych...</td>\n",
              "      <td>Production I.G</td>\n",
              "      <td>https://img.flawlessfiles.com/_r/300x400/100/4...</td>\n",
              "    </tr>\n",
              "  </tbody>\n",
              "</table>\n",
              "</div>\n",
              "    <div class=\"colab-df-buttons\">\n",
              "\n",
              "  <div class=\"colab-df-container\">\n",
              "    <button class=\"colab-df-convert\" onclick=\"convertToInteractive('df-95fabd46-0ec4-4189-ab6b-632d89d9db2a')\"\n",
              "            title=\"Convert this dataframe to an interactive table.\"\n",
              "            style=\"display:none;\">\n",
              "\n",
              "  <svg xmlns=\"http://www.w3.org/2000/svg\" height=\"24px\" viewBox=\"0 -960 960 960\">\n",
              "    <path d=\"M120-120v-720h720v720H120Zm60-500h600v-160H180v160Zm220 220h160v-160H400v160Zm0 220h160v-160H400v160ZM180-400h160v-160H180v160Zm440 0h160v-160H620v160ZM180-180h160v-160H180v160Zm440 0h160v-160H620v160Z\"/>\n",
              "  </svg>\n",
              "    </button>\n",
              "\n",
              "  <style>\n",
              "    .colab-df-container {\n",
              "      display:flex;\n",
              "      gap: 12px;\n",
              "    }\n",
              "\n",
              "    .colab-df-convert {\n",
              "      background-color: #E8F0FE;\n",
              "      border: none;\n",
              "      border-radius: 50%;\n",
              "      cursor: pointer;\n",
              "      display: none;\n",
              "      fill: #1967D2;\n",
              "      height: 32px;\n",
              "      padding: 0 0 0 0;\n",
              "      width: 32px;\n",
              "    }\n",
              "\n",
              "    .colab-df-convert:hover {\n",
              "      background-color: #E2EBFA;\n",
              "      box-shadow: 0px 1px 2px rgba(60, 64, 67, 0.3), 0px 1px 3px 1px rgba(60, 64, 67, 0.15);\n",
              "      fill: #174EA6;\n",
              "    }\n",
              "\n",
              "    .colab-df-buttons div {\n",
              "      margin-bottom: 4px;\n",
              "    }\n",
              "\n",
              "    [theme=dark] .colab-df-convert {\n",
              "      background-color: #3B4455;\n",
              "      fill: #D2E3FC;\n",
              "    }\n",
              "\n",
              "    [theme=dark] .colab-df-convert:hover {\n",
              "      background-color: #434B5C;\n",
              "      box-shadow: 0px 1px 3px 1px rgba(0, 0, 0, 0.15);\n",
              "      filter: drop-shadow(0px 1px 2px rgba(0, 0, 0, 0.3));\n",
              "      fill: #FFFFFF;\n",
              "    }\n",
              "  </style>\n",
              "\n",
              "    <script>\n",
              "      const buttonEl =\n",
              "        document.querySelector('#df-95fabd46-0ec4-4189-ab6b-632d89d9db2a button.colab-df-convert');\n",
              "      buttonEl.style.display =\n",
              "        google.colab.kernel.accessAllowed ? 'block' : 'none';\n",
              "\n",
              "      async function convertToInteractive(key) {\n",
              "        const element = document.querySelector('#df-95fabd46-0ec4-4189-ab6b-632d89d9db2a');\n",
              "        const dataTable =\n",
              "          await google.colab.kernel.invokeFunction('convertToInteractive',\n",
              "                                                    [key], {});\n",
              "        if (!dataTable) return;\n",
              "\n",
              "        const docLinkHtml = 'Like what you see? Visit the ' +\n",
              "          '<a target=\"_blank\" href=https://colab.research.google.com/notebooks/data_table.ipynb>data table notebook</a>'\n",
              "          + ' to learn more about interactive tables.';\n",
              "        element.innerHTML = '';\n",
              "        dataTable['output_type'] = 'display_data';\n",
              "        await google.colab.output.renderOutput(dataTable, element);\n",
              "        const docLink = document.createElement('div');\n",
              "        docLink.innerHTML = docLinkHtml;\n",
              "        element.appendChild(docLink);\n",
              "      }\n",
              "    </script>\n",
              "  </div>\n",
              "\n",
              "\n",
              "<div id=\"df-4a7ea460-7ef3-42b7-86fd-4bc5f5af8bef\">\n",
              "  <button class=\"colab-df-quickchart\" onclick=\"quickchart('df-4a7ea460-7ef3-42b7-86fd-4bc5f5af8bef')\"\n",
              "            title=\"Suggest charts\"\n",
              "            style=\"display:none;\">\n",
              "\n",
              "<svg xmlns=\"http://www.w3.org/2000/svg\" height=\"24px\"viewBox=\"0 0 24 24\"\n",
              "     width=\"24px\">\n",
              "    <g>\n",
              "        <path d=\"M19 3H5c-1.1 0-2 .9-2 2v14c0 1.1.9 2 2 2h14c1.1 0 2-.9 2-2V5c0-1.1-.9-2-2-2zM9 17H7v-7h2v7zm4 0h-2V7h2v10zm4 0h-2v-4h2v4z\"/>\n",
              "    </g>\n",
              "</svg>\n",
              "  </button>\n",
              "\n",
              "<style>\n",
              "  .colab-df-quickchart {\n",
              "      --bg-color: #E8F0FE;\n",
              "      --fill-color: #1967D2;\n",
              "      --hover-bg-color: #E2EBFA;\n",
              "      --hover-fill-color: #174EA6;\n",
              "      --disabled-fill-color: #AAA;\n",
              "      --disabled-bg-color: #DDD;\n",
              "  }\n",
              "\n",
              "  [theme=dark] .colab-df-quickchart {\n",
              "      --bg-color: #3B4455;\n",
              "      --fill-color: #D2E3FC;\n",
              "      --hover-bg-color: #434B5C;\n",
              "      --hover-fill-color: #FFFFFF;\n",
              "      --disabled-bg-color: #3B4455;\n",
              "      --disabled-fill-color: #666;\n",
              "  }\n",
              "\n",
              "  .colab-df-quickchart {\n",
              "    background-color: var(--bg-color);\n",
              "    border: none;\n",
              "    border-radius: 50%;\n",
              "    cursor: pointer;\n",
              "    display: none;\n",
              "    fill: var(--fill-color);\n",
              "    height: 32px;\n",
              "    padding: 0;\n",
              "    width: 32px;\n",
              "  }\n",
              "\n",
              "  .colab-df-quickchart:hover {\n",
              "    background-color: var(--hover-bg-color);\n",
              "    box-shadow: 0 1px 2px rgba(60, 64, 67, 0.3), 0 1px 3px 1px rgba(60, 64, 67, 0.15);\n",
              "    fill: var(--button-hover-fill-color);\n",
              "  }\n",
              "\n",
              "  .colab-df-quickchart-complete:disabled,\n",
              "  .colab-df-quickchart-complete:disabled:hover {\n",
              "    background-color: var(--disabled-bg-color);\n",
              "    fill: var(--disabled-fill-color);\n",
              "    box-shadow: none;\n",
              "  }\n",
              "\n",
              "  .colab-df-spinner {\n",
              "    border: 2px solid var(--fill-color);\n",
              "    border-color: transparent;\n",
              "    border-bottom-color: var(--fill-color);\n",
              "    animation:\n",
              "      spin 1s steps(1) infinite;\n",
              "  }\n",
              "\n",
              "  @keyframes spin {\n",
              "    0% {\n",
              "      border-color: transparent;\n",
              "      border-bottom-color: var(--fill-color);\n",
              "      border-left-color: var(--fill-color);\n",
              "    }\n",
              "    20% {\n",
              "      border-color: transparent;\n",
              "      border-left-color: var(--fill-color);\n",
              "      border-top-color: var(--fill-color);\n",
              "    }\n",
              "    30% {\n",
              "      border-color: transparent;\n",
              "      border-left-color: var(--fill-color);\n",
              "      border-top-color: var(--fill-color);\n",
              "      border-right-color: var(--fill-color);\n",
              "    }\n",
              "    40% {\n",
              "      border-color: transparent;\n",
              "      border-right-color: var(--fill-color);\n",
              "      border-top-color: var(--fill-color);\n",
              "    }\n",
              "    60% {\n",
              "      border-color: transparent;\n",
              "      border-right-color: var(--fill-color);\n",
              "    }\n",
              "    80% {\n",
              "      border-color: transparent;\n",
              "      border-right-color: var(--fill-color);\n",
              "      border-bottom-color: var(--fill-color);\n",
              "    }\n",
              "    90% {\n",
              "      border-color: transparent;\n",
              "      border-bottom-color: var(--fill-color);\n",
              "    }\n",
              "  }\n",
              "</style>\n",
              "\n",
              "  <script>\n",
              "    async function quickchart(key) {\n",
              "      const quickchartButtonEl =\n",
              "        document.querySelector('#' + key + ' button');\n",
              "      quickchartButtonEl.disabled = true;  // To prevent multiple clicks.\n",
              "      quickchartButtonEl.classList.add('colab-df-spinner');\n",
              "      try {\n",
              "        const charts = await google.colab.kernel.invokeFunction(\n",
              "            'suggestCharts', [key], {});\n",
              "      } catch (error) {\n",
              "        console.error('Error during call to suggestCharts:', error);\n",
              "      }\n",
              "      quickchartButtonEl.classList.remove('colab-df-spinner');\n",
              "      quickchartButtonEl.classList.add('colab-df-quickchart-complete');\n",
              "    }\n",
              "    (() => {\n",
              "      let quickchartButtonEl =\n",
              "        document.querySelector('#df-4a7ea460-7ef3-42b7-86fd-4bc5f5af8bef button');\n",
              "      quickchartButtonEl.style.display =\n",
              "        google.colab.kernel.accessAllowed ? 'block' : 'none';\n",
              "    })();\n",
              "  </script>\n",
              "</div>\n",
              "\n",
              "    </div>\n",
              "  </div>\n"
            ],
            "application/vnd.google.colaboratory.intrinsic+json": {
              "type": "dataframe",
              "variable_name": "anime",
              "summary": "{\n  \"name\": \"anime\",\n  \"rows\": 6811,\n  \"fields\": [\n    {\n      \"column\": \"name\",\n      \"properties\": {\n        \"dtype\": \"string\",\n        \"num_unique_values\": 6731,\n        \"samples\": [\n          \"Crayon Shin-chan Movie 28: Crash! Rakuga Kingdom and Almost Four Heroes\",\n          \"InuYasha: The Final Act\",\n          \"Burn Up! W\"\n        ],\n        \"semantic_type\": \"\",\n        \"description\": \"\"\n      }\n    },\n    {\n      \"column\": \"jname\",\n      \"properties\": {\n        \"dtype\": \"string\",\n        \"num_unique_values\": 6804,\n        \"samples\": [\n          \"Kimi ga Nozomu Eien: Next Season\",\n          \"Mobile Suit Gundam: Hathaway's Flash\",\n          \"Re:Zero kara Hajimeru Isekai Seikatsu\"\n        ],\n        \"semantic_type\": \"\",\n        \"description\": \"\"\n      }\n    },\n    {\n      \"column\": \"pganime\",\n      \"properties\": {\n        \"dtype\": \"category\",\n        \"num_unique_values\": 6,\n        \"samples\": [\n          \"R+\",\n          \"PG-13\",\n          \"Rx\"\n        ],\n        \"semantic_type\": \"\",\n        \"description\": \"\"\n      }\n    },\n    {\n      \"column\": \"quality\",\n      \"properties\": {\n        \"dtype\": \"category\",\n        \"num_unique_values\": 3,\n        \"samples\": [\n          \"HD\",\n          \"SD\",\n          \"CAM\"\n        ],\n        \"semantic_type\": \"\",\n        \"description\": \"\"\n      }\n    },\n    {\n      \"column\": \"totalep\",\n      \"properties\": {\n        \"dtype\": \"category\",\n        \"num_unique_values\": 200,\n        \"samples\": [\n          \"88\",\n          \"49\",\n          3.0\n        ],\n        \"semantic_type\": \"\",\n        \"description\": \"\"\n      }\n    },\n    {\n      \"column\": \"formats\",\n      \"properties\": {\n        \"dtype\": \"category\",\n        \"num_unique_values\": 6,\n        \"samples\": [\n          \"TV\",\n          \"Special\",\n          \"Music\"\n        ],\n        \"semantic_type\": \"\",\n        \"description\": \"\"\n      }\n    },\n    {\n      \"column\": \"duration\",\n      \"properties\": {\n        \"dtype\": \"category\",\n        \"num_unique_values\": 149,\n        \"samples\": [\n          \"1h 41m\",\n          \"1h 15m\",\n          \"1h 57m\"\n        ],\n        \"semantic_type\": \"\",\n        \"description\": \"\"\n      }\n    },\n    {\n      \"column\": \"desc\",\n      \"properties\": {\n        \"dtype\": \"string\",\n        \"num_unique_values\": 6679,\n        \"samples\": [\n          \"Second season of the Starmyu.\\n                                \\n                                        Second season of the Starmyu.\",\n          \"When the sorcerer Zagan decides to participate in an auction selling the goods of the now dead Archdemon Marchosias, he expects to find items of untold power. What he finds instead is a rare white-haired slave elf named Nephilia, and he immediately spends all his money to purchase her, much to the bewilderment of those around him. However, the secret reason behind Zagan's investment was that he had actually fallen in love with her at first sight.  Unfortunately, Zagan has a problem: he is socially inept and has no idea how to express his true feelings, leading to many misunderstandings between him and his new companion. But slowly, the two begin to understand each other, and love begins to bloom.\\n                                \\n                                        When the sorcerer Zagan decides to participate in an auction selling the goods of the now dead Archdemon Marchosias, he expects to find items of untold power. What he finds instead is a rare white-haired slave elf named Nephilia, and he immediately spends all his money to purchase her, much to the bewilderment of those around him. However, the secret reason behind Zagan's investment was that he had actually fallen in love with her at first sight.  Unfortunately, Zagan has a problem: he is socially inept and has no idea how to express his true feelings, leading to many misunderstandings between him and his new companion. But slowly, the two begin to understand each other, and love begins to bloom.\",\n          \"Kou Kitamura and Aoba Tsukishima are often at odds\\u2014even though their families happen to be close friends and business partners. Although the only child of a sports shop owner, Kou has never been interested in playing baseball. Despite this, he possesses an impressive batting ability honed by frequent visits to the local baseball batting center run by the Tsukushima family. On the other hand, Aoba loves to play baseball and is a star player with exceptional pitching form.\"\n        ],\n        \"semantic_type\": \"\",\n        \"description\": \"\"\n      }\n    },\n    {\n      \"column\": \"aired\",\n      \"properties\": {\n        \"dtype\": \"object\",\n        \"semantic_type\": \"\",\n        \"description\": \"\"\n      }\n    },\n    {\n      \"column\": \"statusAnime\",\n      \"properties\": {\n        \"dtype\": \"category\",\n        \"num_unique_values\": 376,\n        \"samples\": [\n          \"5.68\",\n          \"8.32\",\n          \"6.07\"\n        ],\n        \"semantic_type\": \"\",\n        \"description\": \"\"\n      }\n    },\n    {\n      \"column\": \"genre\",\n      \"properties\": {\n        \"dtype\": \"object\",\n        \"semantic_type\": \"\",\n        \"description\": \"\"\n      }\n    },\n    {\n      \"column\": \"studio\",\n      \"properties\": {\n        \"dtype\": \"category\",\n        \"num_unique_values\": 752,\n        \"samples\": [\n          \"Shanghai Animation Film Studio\",\n          \"Tsuburaya Productions\",\n          \"Studio Mausu\"\n        ],\n        \"semantic_type\": \"\",\n        \"description\": \"\"\n      }\n    },\n    {\n      \"column\": \"image\",\n      \"properties\": {\n        \"dtype\": \"string\",\n        \"num_unique_values\": 6811,\n        \"samples\": [\n          \"https://img.flawlessfiles.com/_r/300x400/100/0e/ea/0eea1dae4acda57e8a8cfb4f7ec17e20/0eea1dae4acda57e8a8cfb4f7ec17e20.jpg\",\n          \"https://img.flawlessfiles.com/_r/300x400/100/4a/9b/4a9b63e3a77b29647276ec00945ed8a8/4a9b63e3a77b29647276ec00945ed8a8.jpg\",\n          \"https://img.flawlessfiles.com/_r/300x400/100/02/5a/025a273cfd3645091b122fef604e47e7/025a273cfd3645091b122fef604e47e7.jpg\"\n        ],\n        \"semantic_type\": \"\",\n        \"description\": \"\"\n      }\n    }\n  ]\n}"
            }
          },
          "metadata": {},
          "execution_count": 117
        }
      ]
    },
    {
      "cell_type": "code",
      "source": [
        "anime.to_csv('anime_df.csv', index=False)"
      ],
      "metadata": {
        "id": "_zuGJ4wgkLI7"
      },
      "execution_count": 121,
      "outputs": []
    },
    {
      "cell_type": "markdown",
      "source": [
        "---\n",
        "---"
      ],
      "metadata": {
        "id": "p6Kk6FFUktTb"
      }
    },
    {
      "cell_type": "code",
      "source": [
        "anime = pd.read_csv('anime_df.csv')"
      ],
      "metadata": {
        "id": "g39F_Bhrkbo4"
      },
      "execution_count": 213,
      "outputs": []
    },
    {
      "cell_type": "code",
      "source": [
        "anime.head()"
      ],
      "metadata": {
        "colab": {
          "base_uri": "https://localhost:8080/",
          "height": 712
        },
        "id": "DKR_poeQk2v5",
        "outputId": "d2b48ae1-890f-472c-af66-a625eafed097"
      },
      "execution_count": 214,
      "outputs": [
        {
          "output_type": "execute_result",
          "data": {
            "text/plain": [
              "                                                name  \\\n",
              "0                            Jungle no Ouja Taa-chan   \n",
              "1   Majestic Prince Episode 25 – Wings to the Future   \n",
              "2           My Hero Academia Season 2: Hero Notebook   \n",
              "3  Ghost in the Shell: Stand Alone Complex 2nd GI...   \n",
              "4  Ghost in the Shell: Stand Alone Complex - The ...   \n",
              "\n",
              "                                               jname pganime quality  totalep  \\\n",
              "0                            Jungle no Ouja Taa-chan      R+      HD     50.0   \n",
              "1  Ginga Kikoutai Majestic Prince: Mirai e no Tsu...   PG-13      HD      1.0   \n",
              "2        Boku no Hero Academia 2nd Season: Hero Note   PG-13      HD      1.0   \n",
              "3  Koukaku Kidoutai: Stand Alone Complex 2nd GIG ...       R      HD      1.0   \n",
              "4  Koukaku Kidoutai: Stand Alone Complex - The La...       R      HD      1.0   \n",
              "\n",
              "   formats duration                                               desc  \\\n",
              "0       TV      24m  Ta-chan is the king of jungle. He was abandone...   \n",
              "1  Special      23m  Team Fawn from Gurantseere Academy dreams of o...   \n",
              "2  Special      23m  Recap of Boku no Hero Academia that aired a we...   \n",
              "3  Special   2h 41m  Compilation movie of the \"Individual Eleven\" s...   \n",
              "4  Special   2h 40m  In 2024, the terrorist incident known as \"The ...   \n",
              "\n",
              "                aired  statusAnime  \\\n",
              "0  ['Winter', '2014']         10.0   \n",
              "1    ['Fall', '2014']         10.0   \n",
              "2    ['Fall', '2015']         10.0   \n",
              "3  ['Winter', '2015']         10.0   \n",
              "4  ['Winter', '2020']          8.1   \n",
              "\n",
              "                                               genre          studio  \\\n",
              "0                     ['Action', 'Comedy', 'Parody']       Group TAC   \n",
              "1  ['Action', 'Sci-Fi', 'Space', 'Mecha', 'School...          Orange   \n",
              "2                 ['Action', 'Comedy', 'SuperPower']           Bones   \n",
              "3                      ['Action', 'Mecha', 'Sci-Fi']  Production I.G   \n",
              "4  ['Action', 'Mystery', 'Mecha', 'Sci-Fi', 'Poli...  Production I.G   \n",
              "\n",
              "                                               image  \n",
              "0  https://img.flawlessfiles.com/_r/300x400/100/f...  \n",
              "1  https://img.flawlessfiles.com/_r/300x400/100/b...  \n",
              "2  https://img.flawlessfiles.com/_r/300x400/100/b...  \n",
              "3  https://img.flawlessfiles.com/_r/300x400/100/e...  \n",
              "4  https://img.flawlessfiles.com/_r/300x400/100/4...  "
            ],
            "text/html": [
              "\n",
              "  <div id=\"df-c8a4ebbc-d9e3-4a70-85ce-59a3d9e458fa\" class=\"colab-df-container\">\n",
              "    <div>\n",
              "<style scoped>\n",
              "    .dataframe tbody tr th:only-of-type {\n",
              "        vertical-align: middle;\n",
              "    }\n",
              "\n",
              "    .dataframe tbody tr th {\n",
              "        vertical-align: top;\n",
              "    }\n",
              "\n",
              "    .dataframe thead th {\n",
              "        text-align: right;\n",
              "    }\n",
              "</style>\n",
              "<table border=\"1\" class=\"dataframe\">\n",
              "  <thead>\n",
              "    <tr style=\"text-align: right;\">\n",
              "      <th></th>\n",
              "      <th>name</th>\n",
              "      <th>jname</th>\n",
              "      <th>pganime</th>\n",
              "      <th>quality</th>\n",
              "      <th>totalep</th>\n",
              "      <th>formats</th>\n",
              "      <th>duration</th>\n",
              "      <th>desc</th>\n",
              "      <th>aired</th>\n",
              "      <th>statusAnime</th>\n",
              "      <th>genre</th>\n",
              "      <th>studio</th>\n",
              "      <th>image</th>\n",
              "    </tr>\n",
              "  </thead>\n",
              "  <tbody>\n",
              "    <tr>\n",
              "      <th>0</th>\n",
              "      <td>Jungle no Ouja Taa-chan</td>\n",
              "      <td>Jungle no Ouja Taa-chan</td>\n",
              "      <td>R+</td>\n",
              "      <td>HD</td>\n",
              "      <td>50.0</td>\n",
              "      <td>TV</td>\n",
              "      <td>24m</td>\n",
              "      <td>Ta-chan is the king of jungle. He was abandone...</td>\n",
              "      <td>['Winter', '2014']</td>\n",
              "      <td>10.0</td>\n",
              "      <td>['Action', 'Comedy', 'Parody']</td>\n",
              "      <td>Group TAC</td>\n",
              "      <td>https://img.flawlessfiles.com/_r/300x400/100/f...</td>\n",
              "    </tr>\n",
              "    <tr>\n",
              "      <th>1</th>\n",
              "      <td>Majestic Prince Episode 25 – Wings to the Future</td>\n",
              "      <td>Ginga Kikoutai Majestic Prince: Mirai e no Tsu...</td>\n",
              "      <td>PG-13</td>\n",
              "      <td>HD</td>\n",
              "      <td>1.0</td>\n",
              "      <td>Special</td>\n",
              "      <td>23m</td>\n",
              "      <td>Team Fawn from Gurantseere Academy dreams of o...</td>\n",
              "      <td>['Fall', '2014']</td>\n",
              "      <td>10.0</td>\n",
              "      <td>['Action', 'Sci-Fi', 'Space', 'Mecha', 'School...</td>\n",
              "      <td>Orange</td>\n",
              "      <td>https://img.flawlessfiles.com/_r/300x400/100/b...</td>\n",
              "    </tr>\n",
              "    <tr>\n",
              "      <th>2</th>\n",
              "      <td>My Hero Academia Season 2: Hero Notebook</td>\n",
              "      <td>Boku no Hero Academia 2nd Season: Hero Note</td>\n",
              "      <td>PG-13</td>\n",
              "      <td>HD</td>\n",
              "      <td>1.0</td>\n",
              "      <td>Special</td>\n",
              "      <td>23m</td>\n",
              "      <td>Recap of Boku no Hero Academia that aired a we...</td>\n",
              "      <td>['Fall', '2015']</td>\n",
              "      <td>10.0</td>\n",
              "      <td>['Action', 'Comedy', 'SuperPower']</td>\n",
              "      <td>Bones</td>\n",
              "      <td>https://img.flawlessfiles.com/_r/300x400/100/b...</td>\n",
              "    </tr>\n",
              "    <tr>\n",
              "      <th>3</th>\n",
              "      <td>Ghost in the Shell: Stand Alone Complex 2nd GI...</td>\n",
              "      <td>Koukaku Kidoutai: Stand Alone Complex 2nd GIG ...</td>\n",
              "      <td>R</td>\n",
              "      <td>HD</td>\n",
              "      <td>1.0</td>\n",
              "      <td>Special</td>\n",
              "      <td>2h 41m</td>\n",
              "      <td>Compilation movie of the \"Individual Eleven\" s...</td>\n",
              "      <td>['Winter', '2015']</td>\n",
              "      <td>10.0</td>\n",
              "      <td>['Action', 'Mecha', 'Sci-Fi']</td>\n",
              "      <td>Production I.G</td>\n",
              "      <td>https://img.flawlessfiles.com/_r/300x400/100/e...</td>\n",
              "    </tr>\n",
              "    <tr>\n",
              "      <th>4</th>\n",
              "      <td>Ghost in the Shell: Stand Alone Complex - The ...</td>\n",
              "      <td>Koukaku Kidoutai: Stand Alone Complex - The La...</td>\n",
              "      <td>R</td>\n",
              "      <td>HD</td>\n",
              "      <td>1.0</td>\n",
              "      <td>Special</td>\n",
              "      <td>2h 40m</td>\n",
              "      <td>In 2024, the terrorist incident known as \"The ...</td>\n",
              "      <td>['Winter', '2020']</td>\n",
              "      <td>8.1</td>\n",
              "      <td>['Action', 'Mystery', 'Mecha', 'Sci-Fi', 'Poli...</td>\n",
              "      <td>Production I.G</td>\n",
              "      <td>https://img.flawlessfiles.com/_r/300x400/100/4...</td>\n",
              "    </tr>\n",
              "  </tbody>\n",
              "</table>\n",
              "</div>\n",
              "    <div class=\"colab-df-buttons\">\n",
              "\n",
              "  <div class=\"colab-df-container\">\n",
              "    <button class=\"colab-df-convert\" onclick=\"convertToInteractive('df-c8a4ebbc-d9e3-4a70-85ce-59a3d9e458fa')\"\n",
              "            title=\"Convert this dataframe to an interactive table.\"\n",
              "            style=\"display:none;\">\n",
              "\n",
              "  <svg xmlns=\"http://www.w3.org/2000/svg\" height=\"24px\" viewBox=\"0 -960 960 960\">\n",
              "    <path d=\"M120-120v-720h720v720H120Zm60-500h600v-160H180v160Zm220 220h160v-160H400v160Zm0 220h160v-160H400v160ZM180-400h160v-160H180v160Zm440 0h160v-160H620v160ZM180-180h160v-160H180v160Zm440 0h160v-160H620v160Z\"/>\n",
              "  </svg>\n",
              "    </button>\n",
              "\n",
              "  <style>\n",
              "    .colab-df-container {\n",
              "      display:flex;\n",
              "      gap: 12px;\n",
              "    }\n",
              "\n",
              "    .colab-df-convert {\n",
              "      background-color: #E8F0FE;\n",
              "      border: none;\n",
              "      border-radius: 50%;\n",
              "      cursor: pointer;\n",
              "      display: none;\n",
              "      fill: #1967D2;\n",
              "      height: 32px;\n",
              "      padding: 0 0 0 0;\n",
              "      width: 32px;\n",
              "    }\n",
              "\n",
              "    .colab-df-convert:hover {\n",
              "      background-color: #E2EBFA;\n",
              "      box-shadow: 0px 1px 2px rgba(60, 64, 67, 0.3), 0px 1px 3px 1px rgba(60, 64, 67, 0.15);\n",
              "      fill: #174EA6;\n",
              "    }\n",
              "\n",
              "    .colab-df-buttons div {\n",
              "      margin-bottom: 4px;\n",
              "    }\n",
              "\n",
              "    [theme=dark] .colab-df-convert {\n",
              "      background-color: #3B4455;\n",
              "      fill: #D2E3FC;\n",
              "    }\n",
              "\n",
              "    [theme=dark] .colab-df-convert:hover {\n",
              "      background-color: #434B5C;\n",
              "      box-shadow: 0px 1px 3px 1px rgba(0, 0, 0, 0.15);\n",
              "      filter: drop-shadow(0px 1px 2px rgba(0, 0, 0, 0.3));\n",
              "      fill: #FFFFFF;\n",
              "    }\n",
              "  </style>\n",
              "\n",
              "    <script>\n",
              "      const buttonEl =\n",
              "        document.querySelector('#df-c8a4ebbc-d9e3-4a70-85ce-59a3d9e458fa button.colab-df-convert');\n",
              "      buttonEl.style.display =\n",
              "        google.colab.kernel.accessAllowed ? 'block' : 'none';\n",
              "\n",
              "      async function convertToInteractive(key) {\n",
              "        const element = document.querySelector('#df-c8a4ebbc-d9e3-4a70-85ce-59a3d9e458fa');\n",
              "        const dataTable =\n",
              "          await google.colab.kernel.invokeFunction('convertToInteractive',\n",
              "                                                    [key], {});\n",
              "        if (!dataTable) return;\n",
              "\n",
              "        const docLinkHtml = 'Like what you see? Visit the ' +\n",
              "          '<a target=\"_blank\" href=https://colab.research.google.com/notebooks/data_table.ipynb>data table notebook</a>'\n",
              "          + ' to learn more about interactive tables.';\n",
              "        element.innerHTML = '';\n",
              "        dataTable['output_type'] = 'display_data';\n",
              "        await google.colab.output.renderOutput(dataTable, element);\n",
              "        const docLink = document.createElement('div');\n",
              "        docLink.innerHTML = docLinkHtml;\n",
              "        element.appendChild(docLink);\n",
              "      }\n",
              "    </script>\n",
              "  </div>\n",
              "\n",
              "\n",
              "<div id=\"df-5ed779b2-af53-435c-b2ce-163302fafff0\">\n",
              "  <button class=\"colab-df-quickchart\" onclick=\"quickchart('df-5ed779b2-af53-435c-b2ce-163302fafff0')\"\n",
              "            title=\"Suggest charts\"\n",
              "            style=\"display:none;\">\n",
              "\n",
              "<svg xmlns=\"http://www.w3.org/2000/svg\" height=\"24px\"viewBox=\"0 0 24 24\"\n",
              "     width=\"24px\">\n",
              "    <g>\n",
              "        <path d=\"M19 3H5c-1.1 0-2 .9-2 2v14c0 1.1.9 2 2 2h14c1.1 0 2-.9 2-2V5c0-1.1-.9-2-2-2zM9 17H7v-7h2v7zm4 0h-2V7h2v10zm4 0h-2v-4h2v4z\"/>\n",
              "    </g>\n",
              "</svg>\n",
              "  </button>\n",
              "\n",
              "<style>\n",
              "  .colab-df-quickchart {\n",
              "      --bg-color: #E8F0FE;\n",
              "      --fill-color: #1967D2;\n",
              "      --hover-bg-color: #E2EBFA;\n",
              "      --hover-fill-color: #174EA6;\n",
              "      --disabled-fill-color: #AAA;\n",
              "      --disabled-bg-color: #DDD;\n",
              "  }\n",
              "\n",
              "  [theme=dark] .colab-df-quickchart {\n",
              "      --bg-color: #3B4455;\n",
              "      --fill-color: #D2E3FC;\n",
              "      --hover-bg-color: #434B5C;\n",
              "      --hover-fill-color: #FFFFFF;\n",
              "      --disabled-bg-color: #3B4455;\n",
              "      --disabled-fill-color: #666;\n",
              "  }\n",
              "\n",
              "  .colab-df-quickchart {\n",
              "    background-color: var(--bg-color);\n",
              "    border: none;\n",
              "    border-radius: 50%;\n",
              "    cursor: pointer;\n",
              "    display: none;\n",
              "    fill: var(--fill-color);\n",
              "    height: 32px;\n",
              "    padding: 0;\n",
              "    width: 32px;\n",
              "  }\n",
              "\n",
              "  .colab-df-quickchart:hover {\n",
              "    background-color: var(--hover-bg-color);\n",
              "    box-shadow: 0 1px 2px rgba(60, 64, 67, 0.3), 0 1px 3px 1px rgba(60, 64, 67, 0.15);\n",
              "    fill: var(--button-hover-fill-color);\n",
              "  }\n",
              "\n",
              "  .colab-df-quickchart-complete:disabled,\n",
              "  .colab-df-quickchart-complete:disabled:hover {\n",
              "    background-color: var(--disabled-bg-color);\n",
              "    fill: var(--disabled-fill-color);\n",
              "    box-shadow: none;\n",
              "  }\n",
              "\n",
              "  .colab-df-spinner {\n",
              "    border: 2px solid var(--fill-color);\n",
              "    border-color: transparent;\n",
              "    border-bottom-color: var(--fill-color);\n",
              "    animation:\n",
              "      spin 1s steps(1) infinite;\n",
              "  }\n",
              "\n",
              "  @keyframes spin {\n",
              "    0% {\n",
              "      border-color: transparent;\n",
              "      border-bottom-color: var(--fill-color);\n",
              "      border-left-color: var(--fill-color);\n",
              "    }\n",
              "    20% {\n",
              "      border-color: transparent;\n",
              "      border-left-color: var(--fill-color);\n",
              "      border-top-color: var(--fill-color);\n",
              "    }\n",
              "    30% {\n",
              "      border-color: transparent;\n",
              "      border-left-color: var(--fill-color);\n",
              "      border-top-color: var(--fill-color);\n",
              "      border-right-color: var(--fill-color);\n",
              "    }\n",
              "    40% {\n",
              "      border-color: transparent;\n",
              "      border-right-color: var(--fill-color);\n",
              "      border-top-color: var(--fill-color);\n",
              "    }\n",
              "    60% {\n",
              "      border-color: transparent;\n",
              "      border-right-color: var(--fill-color);\n",
              "    }\n",
              "    80% {\n",
              "      border-color: transparent;\n",
              "      border-right-color: var(--fill-color);\n",
              "      border-bottom-color: var(--fill-color);\n",
              "    }\n",
              "    90% {\n",
              "      border-color: transparent;\n",
              "      border-bottom-color: var(--fill-color);\n",
              "    }\n",
              "  }\n",
              "</style>\n",
              "\n",
              "  <script>\n",
              "    async function quickchart(key) {\n",
              "      const quickchartButtonEl =\n",
              "        document.querySelector('#' + key + ' button');\n",
              "      quickchartButtonEl.disabled = true;  // To prevent multiple clicks.\n",
              "      quickchartButtonEl.classList.add('colab-df-spinner');\n",
              "      try {\n",
              "        const charts = await google.colab.kernel.invokeFunction(\n",
              "            'suggestCharts', [key], {});\n",
              "      } catch (error) {\n",
              "        console.error('Error during call to suggestCharts:', error);\n",
              "      }\n",
              "      quickchartButtonEl.classList.remove('colab-df-spinner');\n",
              "      quickchartButtonEl.classList.add('colab-df-quickchart-complete');\n",
              "    }\n",
              "    (() => {\n",
              "      let quickchartButtonEl =\n",
              "        document.querySelector('#df-5ed779b2-af53-435c-b2ce-163302fafff0 button');\n",
              "      quickchartButtonEl.style.display =\n",
              "        google.colab.kernel.accessAllowed ? 'block' : 'none';\n",
              "    })();\n",
              "  </script>\n",
              "</div>\n",
              "\n",
              "    </div>\n",
              "  </div>\n"
            ],
            "application/vnd.google.colaboratory.intrinsic+json": {
              "type": "dataframe",
              "variable_name": "anime",
              "summary": "{\n  \"name\": \"anime\",\n  \"rows\": 6811,\n  \"fields\": [\n    {\n      \"column\": \"name\",\n      \"properties\": {\n        \"dtype\": \"string\",\n        \"num_unique_values\": 6731,\n        \"samples\": [\n          \"Crayon Shin-chan Movie 28: Crash! Rakuga Kingdom and Almost Four Heroes\",\n          \"InuYasha: The Final Act\",\n          \"Burn Up! W\"\n        ],\n        \"semantic_type\": \"\",\n        \"description\": \"\"\n      }\n    },\n    {\n      \"column\": \"jname\",\n      \"properties\": {\n        \"dtype\": \"string\",\n        \"num_unique_values\": 6804,\n        \"samples\": [\n          \"Kimi ga Nozomu Eien: Next Season\",\n          \"Mobile Suit Gundam: Hathaway's Flash\",\n          \"Re:Zero kara Hajimeru Isekai Seikatsu\"\n        ],\n        \"semantic_type\": \"\",\n        \"description\": \"\"\n      }\n    },\n    {\n      \"column\": \"pganime\",\n      \"properties\": {\n        \"dtype\": \"category\",\n        \"num_unique_values\": 6,\n        \"samples\": [\n          \"R+\",\n          \"PG-13\",\n          \"Rx\"\n        ],\n        \"semantic_type\": \"\",\n        \"description\": \"\"\n      }\n    },\n    {\n      \"column\": \"quality\",\n      \"properties\": {\n        \"dtype\": \"category\",\n        \"num_unique_values\": 3,\n        \"samples\": [\n          \"HD\",\n          \"SD\",\n          \"CAM\"\n        ],\n        \"semantic_type\": \"\",\n        \"description\": \"\"\n      }\n    },\n    {\n      \"column\": \"totalep\",\n      \"properties\": {\n        \"dtype\": \"number\",\n        \"std\": 37.38064005200432,\n        \"min\": 1.0,\n        \"max\": 1315.0,\n        \"num_unique_values\": 166,\n        \"samples\": [\n          1315.0,\n          1108.0,\n          331.0\n        ],\n        \"semantic_type\": \"\",\n        \"description\": \"\"\n      }\n    },\n    {\n      \"column\": \"formats\",\n      \"properties\": {\n        \"dtype\": \"category\",\n        \"num_unique_values\": 6,\n        \"samples\": [\n          \"TV\",\n          \"Special\",\n          \"Music\"\n        ],\n        \"semantic_type\": \"\",\n        \"description\": \"\"\n      }\n    },\n    {\n      \"column\": \"duration\",\n      \"properties\": {\n        \"dtype\": \"category\",\n        \"num_unique_values\": 149,\n        \"samples\": [\n          \"1h 41m\",\n          \"1h 15m\",\n          \"1h 57m\"\n        ],\n        \"semantic_type\": \"\",\n        \"description\": \"\"\n      }\n    },\n    {\n      \"column\": \"desc\",\n      \"properties\": {\n        \"dtype\": \"string\",\n        \"num_unique_values\": 6679,\n        \"samples\": [\n          \"Second season of the Starmyu.\\n                                \\n                                        Second season of the Starmyu.\",\n          \"When the sorcerer Zagan decides to participate in an auction selling the goods of the now dead Archdemon Marchosias, he expects to find items of untold power. What he finds instead is a rare white-haired slave elf named Nephilia, and he immediately spends all his money to purchase her, much to the bewilderment of those around him. However, the secret reason behind Zagan's investment was that he had actually fallen in love with her at first sight.  Unfortunately, Zagan has a problem: he is socially inept and has no idea how to express his true feelings, leading to many misunderstandings between him and his new companion. But slowly, the two begin to understand each other, and love begins to bloom.\\n                                \\n                                        When the sorcerer Zagan decides to participate in an auction selling the goods of the now dead Archdemon Marchosias, he expects to find items of untold power. What he finds instead is a rare white-haired slave elf named Nephilia, and he immediately spends all his money to purchase her, much to the bewilderment of those around him. However, the secret reason behind Zagan's investment was that he had actually fallen in love with her at first sight.  Unfortunately, Zagan has a problem: he is socially inept and has no idea how to express his true feelings, leading to many misunderstandings between him and his new companion. But slowly, the two begin to understand each other, and love begins to bloom.\",\n          \"Kou Kitamura and Aoba Tsukishima are often at odds\\u2014even though their families happen to be close friends and business partners. Although the only child of a sports shop owner, Kou has never been interested in playing baseball. Despite this, he possesses an impressive batting ability honed by frequent visits to the local baseball batting center run by the Tsukushima family. On the other hand, Aoba loves to play baseball and is a star player with exceptional pitching form.\"\n        ],\n        \"semantic_type\": \"\",\n        \"description\": \"\"\n      }\n    },\n    {\n      \"column\": \"aired\",\n      \"properties\": {\n        \"dtype\": \"category\",\n        \"num_unique_values\": 9,\n        \"samples\": [\n          \"['Spring', '2020']\",\n          \"['Fall', '2014']\",\n          \"['Fall', '2020']\"\n        ],\n        \"semantic_type\": \"\",\n        \"description\": \"\"\n      }\n    },\n    {\n      \"column\": \"statusAnime\",\n      \"properties\": {\n        \"dtype\": \"number\",\n        \"std\": 1.5973855111560131,\n        \"min\": 0.0,\n        \"max\": 10.0,\n        \"num_unique_values\": 376,\n        \"samples\": [\n          5.68,\n          8.32,\n          6.07\n        ],\n        \"semantic_type\": \"\",\n        \"description\": \"\"\n      }\n    },\n    {\n      \"column\": \"genre\",\n      \"properties\": {\n        \"dtype\": \"category\",\n        \"num_unique_values\": 2818,\n        \"samples\": [\n          \"['Comedy', 'Kids', 'Parody', 'Sci-Fi']\",\n          \"['Shoujo', 'SliceofLife']\",\n          \"['Drama', 'Historical', 'School', 'SliceofLife']\"\n        ],\n        \"semantic_type\": \"\",\n        \"description\": \"\"\n      }\n    },\n    {\n      \"column\": \"studio\",\n      \"properties\": {\n        \"dtype\": \"category\",\n        \"num_unique_values\": 752,\n        \"samples\": [\n          \"Shanghai Animation Film Studio\",\n          \"Tsuburaya Productions\",\n          \"Studio Mausu\"\n        ],\n        \"semantic_type\": \"\",\n        \"description\": \"\"\n      }\n    },\n    {\n      \"column\": \"image\",\n      \"properties\": {\n        \"dtype\": \"string\",\n        \"num_unique_values\": 6811,\n        \"samples\": [\n          \"https://img.flawlessfiles.com/_r/300x400/100/0e/ea/0eea1dae4acda57e8a8cfb4f7ec17e20/0eea1dae4acda57e8a8cfb4f7ec17e20.jpg\",\n          \"https://img.flawlessfiles.com/_r/300x400/100/4a/9b/4a9b63e3a77b29647276ec00945ed8a8/4a9b63e3a77b29647276ec00945ed8a8.jpg\",\n          \"https://img.flawlessfiles.com/_r/300x400/100/02/5a/025a273cfd3645091b122fef604e47e7/025a273cfd3645091b122fef604e47e7.jpg\"\n        ],\n        \"semantic_type\": \"\",\n        \"description\": \"\"\n      }\n    }\n  ]\n}"
            }
          },
          "metadata": {},
          "execution_count": 214
        }
      ]
    },
    {
      "cell_type": "markdown",
      "source": [
        "## Natural Language Processing"
      ],
      "metadata": {
        "id": "_MCaVhz4k6IX"
      }
    },
    {
      "cell_type": "markdown",
      "source": [
        "In this section we will remove the spaces and convert them into list for merging them later"
      ],
      "metadata": {
        "id": "V_juHRPIlXR_"
      }
    },
    {
      "cell_type": "code",
      "source": [
        "# removing spaces in studio column\n",
        "\n",
        "anime['studio'] = anime['studio'].apply(lambda x: x.replace(' ',''))"
      ],
      "metadata": {
        "id": "UHLOqXHQk4FE"
      },
      "execution_count": 215,
      "outputs": []
    },
    {
      "cell_type": "code",
      "source": [
        "anime.columns"
      ],
      "metadata": {
        "colab": {
          "base_uri": "https://localhost:8080/"
        },
        "id": "LuzzkVBGmLbN",
        "outputId": "5cbbae10-b17f-4e28-e946-37e5b27c6306"
      },
      "execution_count": 216,
      "outputs": [
        {
          "output_type": "execute_result",
          "data": {
            "text/plain": [
              "Index(['name', 'jname', 'pganime', 'quality', 'totalep', 'formats', 'duration',\n",
              "       'desc', 'aired', 'statusAnime', 'genre', 'studio', 'image'],\n",
              "      dtype='object')"
            ]
          },
          "metadata": {},
          "execution_count": 216
        }
      ]
    },
    {
      "cell_type": "code",
      "source": [
        "# converting the columns into list\n",
        "\n",
        "anime['desc'] = anime['desc'].apply(lambda x: x.split())\n",
        "anime['pganime'] = anime['pganime'].apply(lambda x: x.split())\n",
        "anime['quality'] = anime['quality'].apply(lambda x: x.split())\n",
        "anime['totalep'] = anime['totalep'].astype(str).apply(lambda x: x.split())\n",
        "anime['formats'] = anime['formats'].apply(lambda x: x.split())\n",
        "anime['duration'] = anime['duration'].apply(lambda x: x.split())\n",
        "anime['statusAnime'] = anime['statusAnime'].astype(str).apply(lambda x: x.split())\n",
        "anime['studio'] = anime['studio'].apply(lambda x: x.split())"
      ],
      "metadata": {
        "id": "esC0LAYemc7c"
      },
      "execution_count": 217,
      "outputs": []
    },
    {
      "cell_type": "code",
      "source": [
        "anime.head()"
      ],
      "metadata": {
        "colab": {
          "base_uri": "https://localhost:8080/",
          "height": 694
        },
        "id": "_jJfHbgErwvq",
        "outputId": "f69a5d1d-8db8-4ac0-a576-822120ad0cd6"
      },
      "execution_count": 218,
      "outputs": [
        {
          "output_type": "execute_result",
          "data": {
            "text/plain": [
              "                                                name  \\\n",
              "0                            Jungle no Ouja Taa-chan   \n",
              "1   Majestic Prince Episode 25 – Wings to the Future   \n",
              "2           My Hero Academia Season 2: Hero Notebook   \n",
              "3  Ghost in the Shell: Stand Alone Complex 2nd GI...   \n",
              "4  Ghost in the Shell: Stand Alone Complex - The ...   \n",
              "\n",
              "                                               jname  pganime quality totalep  \\\n",
              "0                            Jungle no Ouja Taa-chan     [R+]    [HD]  [50.0]   \n",
              "1  Ginga Kikoutai Majestic Prince: Mirai e no Tsu...  [PG-13]    [HD]   [1.0]   \n",
              "2        Boku no Hero Academia 2nd Season: Hero Note  [PG-13]    [HD]   [1.0]   \n",
              "3  Koukaku Kidoutai: Stand Alone Complex 2nd GIG ...      [R]    [HD]   [1.0]   \n",
              "4  Koukaku Kidoutai: Stand Alone Complex - The La...      [R]    [HD]   [1.0]   \n",
              "\n",
              "     formats   duration                                               desc  \\\n",
              "0       [TV]      [24m]  [Ta-chan, is, the, king, of, jungle., He, was,...   \n",
              "1  [Special]      [23m]  [Team, Fawn, from, Gurantseere, Academy, dream...   \n",
              "2  [Special]      [23m]  [Recap, of, Boku, no, Hero, Academia, that, ai...   \n",
              "3  [Special]  [2h, 41m]  [Compilation, movie, of, the, \"Individual, Ele...   \n",
              "4  [Special]  [2h, 40m]  [In, 2024,, the, terrorist, incident, known, a...   \n",
              "\n",
              "                aired statusAnime  \\\n",
              "0  ['Winter', '2014']      [10.0]   \n",
              "1    ['Fall', '2014']      [10.0]   \n",
              "2    ['Fall', '2015']      [10.0]   \n",
              "3  ['Winter', '2015']      [10.0]   \n",
              "4  ['Winter', '2020']       [8.1]   \n",
              "\n",
              "                                               genre           studio  \\\n",
              "0                     ['Action', 'Comedy', 'Parody']       [GroupTAC]   \n",
              "1  ['Action', 'Sci-Fi', 'Space', 'Mecha', 'School...         [Orange]   \n",
              "2                 ['Action', 'Comedy', 'SuperPower']          [Bones]   \n",
              "3                      ['Action', 'Mecha', 'Sci-Fi']  [ProductionI.G]   \n",
              "4  ['Action', 'Mystery', 'Mecha', 'Sci-Fi', 'Poli...  [ProductionI.G]   \n",
              "\n",
              "                                               image  \n",
              "0  https://img.flawlessfiles.com/_r/300x400/100/f...  \n",
              "1  https://img.flawlessfiles.com/_r/300x400/100/b...  \n",
              "2  https://img.flawlessfiles.com/_r/300x400/100/b...  \n",
              "3  https://img.flawlessfiles.com/_r/300x400/100/e...  \n",
              "4  https://img.flawlessfiles.com/_r/300x400/100/4...  "
            ],
            "text/html": [
              "\n",
              "  <div id=\"df-bb40f4c1-caee-4a82-8246-e271f66c77a1\" class=\"colab-df-container\">\n",
              "    <div>\n",
              "<style scoped>\n",
              "    .dataframe tbody tr th:only-of-type {\n",
              "        vertical-align: middle;\n",
              "    }\n",
              "\n",
              "    .dataframe tbody tr th {\n",
              "        vertical-align: top;\n",
              "    }\n",
              "\n",
              "    .dataframe thead th {\n",
              "        text-align: right;\n",
              "    }\n",
              "</style>\n",
              "<table border=\"1\" class=\"dataframe\">\n",
              "  <thead>\n",
              "    <tr style=\"text-align: right;\">\n",
              "      <th></th>\n",
              "      <th>name</th>\n",
              "      <th>jname</th>\n",
              "      <th>pganime</th>\n",
              "      <th>quality</th>\n",
              "      <th>totalep</th>\n",
              "      <th>formats</th>\n",
              "      <th>duration</th>\n",
              "      <th>desc</th>\n",
              "      <th>aired</th>\n",
              "      <th>statusAnime</th>\n",
              "      <th>genre</th>\n",
              "      <th>studio</th>\n",
              "      <th>image</th>\n",
              "    </tr>\n",
              "  </thead>\n",
              "  <tbody>\n",
              "    <tr>\n",
              "      <th>0</th>\n",
              "      <td>Jungle no Ouja Taa-chan</td>\n",
              "      <td>Jungle no Ouja Taa-chan</td>\n",
              "      <td>[R+]</td>\n",
              "      <td>[HD]</td>\n",
              "      <td>[50.0]</td>\n",
              "      <td>[TV]</td>\n",
              "      <td>[24m]</td>\n",
              "      <td>[Ta-chan, is, the, king, of, jungle., He, was,...</td>\n",
              "      <td>['Winter', '2014']</td>\n",
              "      <td>[10.0]</td>\n",
              "      <td>['Action', 'Comedy', 'Parody']</td>\n",
              "      <td>[GroupTAC]</td>\n",
              "      <td>https://img.flawlessfiles.com/_r/300x400/100/f...</td>\n",
              "    </tr>\n",
              "    <tr>\n",
              "      <th>1</th>\n",
              "      <td>Majestic Prince Episode 25 – Wings to the Future</td>\n",
              "      <td>Ginga Kikoutai Majestic Prince: Mirai e no Tsu...</td>\n",
              "      <td>[PG-13]</td>\n",
              "      <td>[HD]</td>\n",
              "      <td>[1.0]</td>\n",
              "      <td>[Special]</td>\n",
              "      <td>[23m]</td>\n",
              "      <td>[Team, Fawn, from, Gurantseere, Academy, dream...</td>\n",
              "      <td>['Fall', '2014']</td>\n",
              "      <td>[10.0]</td>\n",
              "      <td>['Action', 'Sci-Fi', 'Space', 'Mecha', 'School...</td>\n",
              "      <td>[Orange]</td>\n",
              "      <td>https://img.flawlessfiles.com/_r/300x400/100/b...</td>\n",
              "    </tr>\n",
              "    <tr>\n",
              "      <th>2</th>\n",
              "      <td>My Hero Academia Season 2: Hero Notebook</td>\n",
              "      <td>Boku no Hero Academia 2nd Season: Hero Note</td>\n",
              "      <td>[PG-13]</td>\n",
              "      <td>[HD]</td>\n",
              "      <td>[1.0]</td>\n",
              "      <td>[Special]</td>\n",
              "      <td>[23m]</td>\n",
              "      <td>[Recap, of, Boku, no, Hero, Academia, that, ai...</td>\n",
              "      <td>['Fall', '2015']</td>\n",
              "      <td>[10.0]</td>\n",
              "      <td>['Action', 'Comedy', 'SuperPower']</td>\n",
              "      <td>[Bones]</td>\n",
              "      <td>https://img.flawlessfiles.com/_r/300x400/100/b...</td>\n",
              "    </tr>\n",
              "    <tr>\n",
              "      <th>3</th>\n",
              "      <td>Ghost in the Shell: Stand Alone Complex 2nd GI...</td>\n",
              "      <td>Koukaku Kidoutai: Stand Alone Complex 2nd GIG ...</td>\n",
              "      <td>[R]</td>\n",
              "      <td>[HD]</td>\n",
              "      <td>[1.0]</td>\n",
              "      <td>[Special]</td>\n",
              "      <td>[2h, 41m]</td>\n",
              "      <td>[Compilation, movie, of, the, \"Individual, Ele...</td>\n",
              "      <td>['Winter', '2015']</td>\n",
              "      <td>[10.0]</td>\n",
              "      <td>['Action', 'Mecha', 'Sci-Fi']</td>\n",
              "      <td>[ProductionI.G]</td>\n",
              "      <td>https://img.flawlessfiles.com/_r/300x400/100/e...</td>\n",
              "    </tr>\n",
              "    <tr>\n",
              "      <th>4</th>\n",
              "      <td>Ghost in the Shell: Stand Alone Complex - The ...</td>\n",
              "      <td>Koukaku Kidoutai: Stand Alone Complex - The La...</td>\n",
              "      <td>[R]</td>\n",
              "      <td>[HD]</td>\n",
              "      <td>[1.0]</td>\n",
              "      <td>[Special]</td>\n",
              "      <td>[2h, 40m]</td>\n",
              "      <td>[In, 2024,, the, terrorist, incident, known, a...</td>\n",
              "      <td>['Winter', '2020']</td>\n",
              "      <td>[8.1]</td>\n",
              "      <td>['Action', 'Mystery', 'Mecha', 'Sci-Fi', 'Poli...</td>\n",
              "      <td>[ProductionI.G]</td>\n",
              "      <td>https://img.flawlessfiles.com/_r/300x400/100/4...</td>\n",
              "    </tr>\n",
              "  </tbody>\n",
              "</table>\n",
              "</div>\n",
              "    <div class=\"colab-df-buttons\">\n",
              "\n",
              "  <div class=\"colab-df-container\">\n",
              "    <button class=\"colab-df-convert\" onclick=\"convertToInteractive('df-bb40f4c1-caee-4a82-8246-e271f66c77a1')\"\n",
              "            title=\"Convert this dataframe to an interactive table.\"\n",
              "            style=\"display:none;\">\n",
              "\n",
              "  <svg xmlns=\"http://www.w3.org/2000/svg\" height=\"24px\" viewBox=\"0 -960 960 960\">\n",
              "    <path d=\"M120-120v-720h720v720H120Zm60-500h600v-160H180v160Zm220 220h160v-160H400v160Zm0 220h160v-160H400v160ZM180-400h160v-160H180v160Zm440 0h160v-160H620v160ZM180-180h160v-160H180v160Zm440 0h160v-160H620v160Z\"/>\n",
              "  </svg>\n",
              "    </button>\n",
              "\n",
              "  <style>\n",
              "    .colab-df-container {\n",
              "      display:flex;\n",
              "      gap: 12px;\n",
              "    }\n",
              "\n",
              "    .colab-df-convert {\n",
              "      background-color: #E8F0FE;\n",
              "      border: none;\n",
              "      border-radius: 50%;\n",
              "      cursor: pointer;\n",
              "      display: none;\n",
              "      fill: #1967D2;\n",
              "      height: 32px;\n",
              "      padding: 0 0 0 0;\n",
              "      width: 32px;\n",
              "    }\n",
              "\n",
              "    .colab-df-convert:hover {\n",
              "      background-color: #E2EBFA;\n",
              "      box-shadow: 0px 1px 2px rgba(60, 64, 67, 0.3), 0px 1px 3px 1px rgba(60, 64, 67, 0.15);\n",
              "      fill: #174EA6;\n",
              "    }\n",
              "\n",
              "    .colab-df-buttons div {\n",
              "      margin-bottom: 4px;\n",
              "    }\n",
              "\n",
              "    [theme=dark] .colab-df-convert {\n",
              "      background-color: #3B4455;\n",
              "      fill: #D2E3FC;\n",
              "    }\n",
              "\n",
              "    [theme=dark] .colab-df-convert:hover {\n",
              "      background-color: #434B5C;\n",
              "      box-shadow: 0px 1px 3px 1px rgba(0, 0, 0, 0.15);\n",
              "      filter: drop-shadow(0px 1px 2px rgba(0, 0, 0, 0.3));\n",
              "      fill: #FFFFFF;\n",
              "    }\n",
              "  </style>\n",
              "\n",
              "    <script>\n",
              "      const buttonEl =\n",
              "        document.querySelector('#df-bb40f4c1-caee-4a82-8246-e271f66c77a1 button.colab-df-convert');\n",
              "      buttonEl.style.display =\n",
              "        google.colab.kernel.accessAllowed ? 'block' : 'none';\n",
              "\n",
              "      async function convertToInteractive(key) {\n",
              "        const element = document.querySelector('#df-bb40f4c1-caee-4a82-8246-e271f66c77a1');\n",
              "        const dataTable =\n",
              "          await google.colab.kernel.invokeFunction('convertToInteractive',\n",
              "                                                    [key], {});\n",
              "        if (!dataTable) return;\n",
              "\n",
              "        const docLinkHtml = 'Like what you see? Visit the ' +\n",
              "          '<a target=\"_blank\" href=https://colab.research.google.com/notebooks/data_table.ipynb>data table notebook</a>'\n",
              "          + ' to learn more about interactive tables.';\n",
              "        element.innerHTML = '';\n",
              "        dataTable['output_type'] = 'display_data';\n",
              "        await google.colab.output.renderOutput(dataTable, element);\n",
              "        const docLink = document.createElement('div');\n",
              "        docLink.innerHTML = docLinkHtml;\n",
              "        element.appendChild(docLink);\n",
              "      }\n",
              "    </script>\n",
              "  </div>\n",
              "\n",
              "\n",
              "<div id=\"df-5bacecd6-ed99-4fd7-aa0f-f57a0f233342\">\n",
              "  <button class=\"colab-df-quickchart\" onclick=\"quickchart('df-5bacecd6-ed99-4fd7-aa0f-f57a0f233342')\"\n",
              "            title=\"Suggest charts\"\n",
              "            style=\"display:none;\">\n",
              "\n",
              "<svg xmlns=\"http://www.w3.org/2000/svg\" height=\"24px\"viewBox=\"0 0 24 24\"\n",
              "     width=\"24px\">\n",
              "    <g>\n",
              "        <path d=\"M19 3H5c-1.1 0-2 .9-2 2v14c0 1.1.9 2 2 2h14c1.1 0 2-.9 2-2V5c0-1.1-.9-2-2-2zM9 17H7v-7h2v7zm4 0h-2V7h2v10zm4 0h-2v-4h2v4z\"/>\n",
              "    </g>\n",
              "</svg>\n",
              "  </button>\n",
              "\n",
              "<style>\n",
              "  .colab-df-quickchart {\n",
              "      --bg-color: #E8F0FE;\n",
              "      --fill-color: #1967D2;\n",
              "      --hover-bg-color: #E2EBFA;\n",
              "      --hover-fill-color: #174EA6;\n",
              "      --disabled-fill-color: #AAA;\n",
              "      --disabled-bg-color: #DDD;\n",
              "  }\n",
              "\n",
              "  [theme=dark] .colab-df-quickchart {\n",
              "      --bg-color: #3B4455;\n",
              "      --fill-color: #D2E3FC;\n",
              "      --hover-bg-color: #434B5C;\n",
              "      --hover-fill-color: #FFFFFF;\n",
              "      --disabled-bg-color: #3B4455;\n",
              "      --disabled-fill-color: #666;\n",
              "  }\n",
              "\n",
              "  .colab-df-quickchart {\n",
              "    background-color: var(--bg-color);\n",
              "    border: none;\n",
              "    border-radius: 50%;\n",
              "    cursor: pointer;\n",
              "    display: none;\n",
              "    fill: var(--fill-color);\n",
              "    height: 32px;\n",
              "    padding: 0;\n",
              "    width: 32px;\n",
              "  }\n",
              "\n",
              "  .colab-df-quickchart:hover {\n",
              "    background-color: var(--hover-bg-color);\n",
              "    box-shadow: 0 1px 2px rgba(60, 64, 67, 0.3), 0 1px 3px 1px rgba(60, 64, 67, 0.15);\n",
              "    fill: var(--button-hover-fill-color);\n",
              "  }\n",
              "\n",
              "  .colab-df-quickchart-complete:disabled,\n",
              "  .colab-df-quickchart-complete:disabled:hover {\n",
              "    background-color: var(--disabled-bg-color);\n",
              "    fill: var(--disabled-fill-color);\n",
              "    box-shadow: none;\n",
              "  }\n",
              "\n",
              "  .colab-df-spinner {\n",
              "    border: 2px solid var(--fill-color);\n",
              "    border-color: transparent;\n",
              "    border-bottom-color: var(--fill-color);\n",
              "    animation:\n",
              "      spin 1s steps(1) infinite;\n",
              "  }\n",
              "\n",
              "  @keyframes spin {\n",
              "    0% {\n",
              "      border-color: transparent;\n",
              "      border-bottom-color: var(--fill-color);\n",
              "      border-left-color: var(--fill-color);\n",
              "    }\n",
              "    20% {\n",
              "      border-color: transparent;\n",
              "      border-left-color: var(--fill-color);\n",
              "      border-top-color: var(--fill-color);\n",
              "    }\n",
              "    30% {\n",
              "      border-color: transparent;\n",
              "      border-left-color: var(--fill-color);\n",
              "      border-top-color: var(--fill-color);\n",
              "      border-right-color: var(--fill-color);\n",
              "    }\n",
              "    40% {\n",
              "      border-color: transparent;\n",
              "      border-right-color: var(--fill-color);\n",
              "      border-top-color: var(--fill-color);\n",
              "    }\n",
              "    60% {\n",
              "      border-color: transparent;\n",
              "      border-right-color: var(--fill-color);\n",
              "    }\n",
              "    80% {\n",
              "      border-color: transparent;\n",
              "      border-right-color: var(--fill-color);\n",
              "      border-bottom-color: var(--fill-color);\n",
              "    }\n",
              "    90% {\n",
              "      border-color: transparent;\n",
              "      border-bottom-color: var(--fill-color);\n",
              "    }\n",
              "  }\n",
              "</style>\n",
              "\n",
              "  <script>\n",
              "    async function quickchart(key) {\n",
              "      const quickchartButtonEl =\n",
              "        document.querySelector('#' + key + ' button');\n",
              "      quickchartButtonEl.disabled = true;  // To prevent multiple clicks.\n",
              "      quickchartButtonEl.classList.add('colab-df-spinner');\n",
              "      try {\n",
              "        const charts = await google.colab.kernel.invokeFunction(\n",
              "            'suggestCharts', [key], {});\n",
              "      } catch (error) {\n",
              "        console.error('Error during call to suggestCharts:', error);\n",
              "      }\n",
              "      quickchartButtonEl.classList.remove('colab-df-spinner');\n",
              "      quickchartButtonEl.classList.add('colab-df-quickchart-complete');\n",
              "    }\n",
              "    (() => {\n",
              "      let quickchartButtonEl =\n",
              "        document.querySelector('#df-5bacecd6-ed99-4fd7-aa0f-f57a0f233342 button');\n",
              "      quickchartButtonEl.style.display =\n",
              "        google.colab.kernel.accessAllowed ? 'block' : 'none';\n",
              "    })();\n",
              "  </script>\n",
              "</div>\n",
              "\n",
              "    </div>\n",
              "  </div>\n"
            ],
            "application/vnd.google.colaboratory.intrinsic+json": {
              "type": "dataframe",
              "variable_name": "anime",
              "summary": "{\n  \"name\": \"anime\",\n  \"rows\": 6811,\n  \"fields\": [\n    {\n      \"column\": \"name\",\n      \"properties\": {\n        \"dtype\": \"string\",\n        \"num_unique_values\": 6731,\n        \"samples\": [\n          \"Crayon Shin-chan Movie 28: Crash! Rakuga Kingdom and Almost Four Heroes\",\n          \"InuYasha: The Final Act\",\n          \"Burn Up! W\"\n        ],\n        \"semantic_type\": \"\",\n        \"description\": \"\"\n      }\n    },\n    {\n      \"column\": \"jname\",\n      \"properties\": {\n        \"dtype\": \"string\",\n        \"num_unique_values\": 6804,\n        \"samples\": [\n          \"Kimi ga Nozomu Eien: Next Season\",\n          \"Mobile Suit Gundam: Hathaway's Flash\",\n          \"Re:Zero kara Hajimeru Isekai Seikatsu\"\n        ],\n        \"semantic_type\": \"\",\n        \"description\": \"\"\n      }\n    },\n    {\n      \"column\": \"pganime\",\n      \"properties\": {\n        \"dtype\": \"object\",\n        \"semantic_type\": \"\",\n        \"description\": \"\"\n      }\n    },\n    {\n      \"column\": \"quality\",\n      \"properties\": {\n        \"dtype\": \"object\",\n        \"semantic_type\": \"\",\n        \"description\": \"\"\n      }\n    },\n    {\n      \"column\": \"totalep\",\n      \"properties\": {\n        \"dtype\": \"object\",\n        \"semantic_type\": \"\",\n        \"description\": \"\"\n      }\n    },\n    {\n      \"column\": \"formats\",\n      \"properties\": {\n        \"dtype\": \"object\",\n        \"semantic_type\": \"\",\n        \"description\": \"\"\n      }\n    },\n    {\n      \"column\": \"duration\",\n      \"properties\": {\n        \"dtype\": \"object\",\n        \"semantic_type\": \"\",\n        \"description\": \"\"\n      }\n    },\n    {\n      \"column\": \"desc\",\n      \"properties\": {\n        \"dtype\": \"object\",\n        \"semantic_type\": \"\",\n        \"description\": \"\"\n      }\n    },\n    {\n      \"column\": \"aired\",\n      \"properties\": {\n        \"dtype\": \"category\",\n        \"num_unique_values\": 9,\n        \"samples\": [\n          \"['Spring', '2020']\",\n          \"['Fall', '2014']\",\n          \"['Fall', '2020']\"\n        ],\n        \"semantic_type\": \"\",\n        \"description\": \"\"\n      }\n    },\n    {\n      \"column\": \"statusAnime\",\n      \"properties\": {\n        \"dtype\": \"object\",\n        \"semantic_type\": \"\",\n        \"description\": \"\"\n      }\n    },\n    {\n      \"column\": \"genre\",\n      \"properties\": {\n        \"dtype\": \"category\",\n        \"num_unique_values\": 2818,\n        \"samples\": [\n          \"['Comedy', 'Kids', 'Parody', 'Sci-Fi']\",\n          \"['Shoujo', 'SliceofLife']\",\n          \"['Drama', 'Historical', 'School', 'SliceofLife']\"\n        ],\n        \"semantic_type\": \"\",\n        \"description\": \"\"\n      }\n    },\n    {\n      \"column\": \"studio\",\n      \"properties\": {\n        \"dtype\": \"object\",\n        \"semantic_type\": \"\",\n        \"description\": \"\"\n      }\n    },\n    {\n      \"column\": \"image\",\n      \"properties\": {\n        \"dtype\": \"string\",\n        \"num_unique_values\": 6811,\n        \"samples\": [\n          \"https://img.flawlessfiles.com/_r/300x400/100/0e/ea/0eea1dae4acda57e8a8cfb4f7ec17e20/0eea1dae4acda57e8a8cfb4f7ec17e20.jpg\",\n          \"https://img.flawlessfiles.com/_r/300x400/100/4a/9b/4a9b63e3a77b29647276ec00945ed8a8/4a9b63e3a77b29647276ec00945ed8a8.jpg\",\n          \"https://img.flawlessfiles.com/_r/300x400/100/02/5a/025a273cfd3645091b122fef604e47e7/025a273cfd3645091b122fef604e47e7.jpg\"\n        ],\n        \"semantic_type\": \"\",\n        \"description\": \"\"\n      }\n    }\n  ]\n}"
            }
          },
          "metadata": {},
          "execution_count": 218
        }
      ]
    },
    {
      "cell_type": "markdown",
      "source": [
        "Merging all the columns into a single column"
      ],
      "metadata": {
        "id": "_2fPVpt9sRXg"
      }
    },
    {
      "cell_type": "markdown",
      "source": [
        "the genre and aired columns are string instead of list,\n",
        " \\\\\n",
        "so we will convert it to list"
      ],
      "metadata": {
        "id": "N5QGeYqxw0cL"
      }
    },
    {
      "cell_type": "code",
      "source": [
        "# function to convert to list\n",
        "\n",
        "def to_list(ele):\n",
        "    ls = []\n",
        "    for i in ast.literal_eval(ele):\n",
        "        i = i.replace(' ','')\n",
        "        ls.append(i)\n",
        "    return ls"
      ],
      "metadata": {
        "id": "6OAsfHi7vAth"
      },
      "execution_count": 219,
      "outputs": []
    },
    {
      "cell_type": "code",
      "source": [
        "anime['aired'] = anime['aired'].apply(to_list)"
      ],
      "metadata": {
        "id": "7a8_egVQvuy-"
      },
      "execution_count": 220,
      "outputs": []
    },
    {
      "cell_type": "code",
      "source": [
        "anime['genre'] = anime['genre'].apply(to_list)"
      ],
      "metadata": {
        "id": "0Mm4wSkUviPF"
      },
      "execution_count": 221,
      "outputs": []
    },
    {
      "cell_type": "code",
      "source": [
        "anime['Tags'] = anime['genre'] + anime['desc'] + anime['studio'] + anime['statusAnime'] + anime['pganime'] + anime['quality'] + anime['formats'] + anime['totalep'] + anime['aired'] + anime['duration']"
      ],
      "metadata": {
        "id": "xvsOYvvlsuHm"
      },
      "execution_count": 224,
      "outputs": []
    },
    {
      "cell_type": "code",
      "source": [
        "anime['Tags'].head()"
      ],
      "metadata": {
        "colab": {
          "base_uri": "https://localhost:8080/",
          "height": 241
        },
        "id": "BNVLAETVvp8c",
        "outputId": "31605e97-0890-4169-e144-4e57e5fc1a59"
      },
      "execution_count": 225,
      "outputs": [
        {
          "output_type": "execute_result",
          "data": {
            "text/plain": [
              "0    [Action, Comedy, Parody, Ta-chan, is, the, kin...\n",
              "1    [Action, Mecha, School, Sci-Fi, Seinen, Space,...\n",
              "2    [Action, Comedy, SuperPower, Recap, of, Boku, ...\n",
              "3    [Action, Mecha, Sci-Fi, Compilation, movie, of...\n",
              "4    [Action, Mecha, Mystery, Police, Psychological...\n",
              "Name: Tags, dtype: object"
            ],
            "text/html": [
              "<div>\n",
              "<style scoped>\n",
              "    .dataframe tbody tr th:only-of-type {\n",
              "        vertical-align: middle;\n",
              "    }\n",
              "\n",
              "    .dataframe tbody tr th {\n",
              "        vertical-align: top;\n",
              "    }\n",
              "\n",
              "    .dataframe thead th {\n",
              "        text-align: right;\n",
              "    }\n",
              "</style>\n",
              "<table border=\"1\" class=\"dataframe\">\n",
              "  <thead>\n",
              "    <tr style=\"text-align: right;\">\n",
              "      <th></th>\n",
              "      <th>Tags</th>\n",
              "    </tr>\n",
              "  </thead>\n",
              "  <tbody>\n",
              "    <tr>\n",
              "      <th>0</th>\n",
              "      <td>[Action, Comedy, Parody, Ta-chan, is, the, kin...</td>\n",
              "    </tr>\n",
              "    <tr>\n",
              "      <th>1</th>\n",
              "      <td>[Action, Mecha, School, Sci-Fi, Seinen, Space,...</td>\n",
              "    </tr>\n",
              "    <tr>\n",
              "      <th>2</th>\n",
              "      <td>[Action, Comedy, SuperPower, Recap, of, Boku, ...</td>\n",
              "    </tr>\n",
              "    <tr>\n",
              "      <th>3</th>\n",
              "      <td>[Action, Mecha, Sci-Fi, Compilation, movie, of...</td>\n",
              "    </tr>\n",
              "    <tr>\n",
              "      <th>4</th>\n",
              "      <td>[Action, Mecha, Mystery, Police, Psychological...</td>\n",
              "    </tr>\n",
              "  </tbody>\n",
              "</table>\n",
              "</div><br><label><b>dtype:</b> object</label>"
            ]
          },
          "metadata": {},
          "execution_count": 225
        }
      ]
    },
    {
      "cell_type": "code",
      "source": [
        "anime_df = anime[['name','Tags']]"
      ],
      "metadata": {
        "id": "YNxNvHe7wm7z"
      },
      "execution_count": 226,
      "outputs": []
    },
    {
      "cell_type": "code",
      "source": [
        "anime_df.head()"
      ],
      "metadata": {
        "colab": {
          "base_uri": "https://localhost:8080/",
          "height": 206
        },
        "id": "gzuXYO4VxU-G",
        "outputId": "0a3b704e-03cc-465d-8b12-15af22a80c0b"
      },
      "execution_count": 227,
      "outputs": [
        {
          "output_type": "execute_result",
          "data": {
            "text/plain": [
              "                                                name  \\\n",
              "0                            Jungle no Ouja Taa-chan   \n",
              "1   Majestic Prince Episode 25 – Wings to the Future   \n",
              "2           My Hero Academia Season 2: Hero Notebook   \n",
              "3  Ghost in the Shell: Stand Alone Complex 2nd GI...   \n",
              "4  Ghost in the Shell: Stand Alone Complex - The ...   \n",
              "\n",
              "                                                Tags  \n",
              "0  [Action, Comedy, Parody, Ta-chan, is, the, kin...  \n",
              "1  [Action, Mecha, School, Sci-Fi, Seinen, Space,...  \n",
              "2  [Action, Comedy, SuperPower, Recap, of, Boku, ...  \n",
              "3  [Action, Mecha, Sci-Fi, Compilation, movie, of...  \n",
              "4  [Action, Mecha, Mystery, Police, Psychological...  "
            ],
            "text/html": [
              "\n",
              "  <div id=\"df-b22ee7c0-e296-4bbd-a5b3-f1c1c570e4e7\" class=\"colab-df-container\">\n",
              "    <div>\n",
              "<style scoped>\n",
              "    .dataframe tbody tr th:only-of-type {\n",
              "        vertical-align: middle;\n",
              "    }\n",
              "\n",
              "    .dataframe tbody tr th {\n",
              "        vertical-align: top;\n",
              "    }\n",
              "\n",
              "    .dataframe thead th {\n",
              "        text-align: right;\n",
              "    }\n",
              "</style>\n",
              "<table border=\"1\" class=\"dataframe\">\n",
              "  <thead>\n",
              "    <tr style=\"text-align: right;\">\n",
              "      <th></th>\n",
              "      <th>name</th>\n",
              "      <th>Tags</th>\n",
              "    </tr>\n",
              "  </thead>\n",
              "  <tbody>\n",
              "    <tr>\n",
              "      <th>0</th>\n",
              "      <td>Jungle no Ouja Taa-chan</td>\n",
              "      <td>[Action, Comedy, Parody, Ta-chan, is, the, kin...</td>\n",
              "    </tr>\n",
              "    <tr>\n",
              "      <th>1</th>\n",
              "      <td>Majestic Prince Episode 25 – Wings to the Future</td>\n",
              "      <td>[Action, Mecha, School, Sci-Fi, Seinen, Space,...</td>\n",
              "    </tr>\n",
              "    <tr>\n",
              "      <th>2</th>\n",
              "      <td>My Hero Academia Season 2: Hero Notebook</td>\n",
              "      <td>[Action, Comedy, SuperPower, Recap, of, Boku, ...</td>\n",
              "    </tr>\n",
              "    <tr>\n",
              "      <th>3</th>\n",
              "      <td>Ghost in the Shell: Stand Alone Complex 2nd GI...</td>\n",
              "      <td>[Action, Mecha, Sci-Fi, Compilation, movie, of...</td>\n",
              "    </tr>\n",
              "    <tr>\n",
              "      <th>4</th>\n",
              "      <td>Ghost in the Shell: Stand Alone Complex - The ...</td>\n",
              "      <td>[Action, Mecha, Mystery, Police, Psychological...</td>\n",
              "    </tr>\n",
              "  </tbody>\n",
              "</table>\n",
              "</div>\n",
              "    <div class=\"colab-df-buttons\">\n",
              "\n",
              "  <div class=\"colab-df-container\">\n",
              "    <button class=\"colab-df-convert\" onclick=\"convertToInteractive('df-b22ee7c0-e296-4bbd-a5b3-f1c1c570e4e7')\"\n",
              "            title=\"Convert this dataframe to an interactive table.\"\n",
              "            style=\"display:none;\">\n",
              "\n",
              "  <svg xmlns=\"http://www.w3.org/2000/svg\" height=\"24px\" viewBox=\"0 -960 960 960\">\n",
              "    <path d=\"M120-120v-720h720v720H120Zm60-500h600v-160H180v160Zm220 220h160v-160H400v160Zm0 220h160v-160H400v160ZM180-400h160v-160H180v160Zm440 0h160v-160H620v160ZM180-180h160v-160H180v160Zm440 0h160v-160H620v160Z\"/>\n",
              "  </svg>\n",
              "    </button>\n",
              "\n",
              "  <style>\n",
              "    .colab-df-container {\n",
              "      display:flex;\n",
              "      gap: 12px;\n",
              "    }\n",
              "\n",
              "    .colab-df-convert {\n",
              "      background-color: #E8F0FE;\n",
              "      border: none;\n",
              "      border-radius: 50%;\n",
              "      cursor: pointer;\n",
              "      display: none;\n",
              "      fill: #1967D2;\n",
              "      height: 32px;\n",
              "      padding: 0 0 0 0;\n",
              "      width: 32px;\n",
              "    }\n",
              "\n",
              "    .colab-df-convert:hover {\n",
              "      background-color: #E2EBFA;\n",
              "      box-shadow: 0px 1px 2px rgba(60, 64, 67, 0.3), 0px 1px 3px 1px rgba(60, 64, 67, 0.15);\n",
              "      fill: #174EA6;\n",
              "    }\n",
              "\n",
              "    .colab-df-buttons div {\n",
              "      margin-bottom: 4px;\n",
              "    }\n",
              "\n",
              "    [theme=dark] .colab-df-convert {\n",
              "      background-color: #3B4455;\n",
              "      fill: #D2E3FC;\n",
              "    }\n",
              "\n",
              "    [theme=dark] .colab-df-convert:hover {\n",
              "      background-color: #434B5C;\n",
              "      box-shadow: 0px 1px 3px 1px rgba(0, 0, 0, 0.15);\n",
              "      filter: drop-shadow(0px 1px 2px rgba(0, 0, 0, 0.3));\n",
              "      fill: #FFFFFF;\n",
              "    }\n",
              "  </style>\n",
              "\n",
              "    <script>\n",
              "      const buttonEl =\n",
              "        document.querySelector('#df-b22ee7c0-e296-4bbd-a5b3-f1c1c570e4e7 button.colab-df-convert');\n",
              "      buttonEl.style.display =\n",
              "        google.colab.kernel.accessAllowed ? 'block' : 'none';\n",
              "\n",
              "      async function convertToInteractive(key) {\n",
              "        const element = document.querySelector('#df-b22ee7c0-e296-4bbd-a5b3-f1c1c570e4e7');\n",
              "        const dataTable =\n",
              "          await google.colab.kernel.invokeFunction('convertToInteractive',\n",
              "                                                    [key], {});\n",
              "        if (!dataTable) return;\n",
              "\n",
              "        const docLinkHtml = 'Like what you see? Visit the ' +\n",
              "          '<a target=\"_blank\" href=https://colab.research.google.com/notebooks/data_table.ipynb>data table notebook</a>'\n",
              "          + ' to learn more about interactive tables.';\n",
              "        element.innerHTML = '';\n",
              "        dataTable['output_type'] = 'display_data';\n",
              "        await google.colab.output.renderOutput(dataTable, element);\n",
              "        const docLink = document.createElement('div');\n",
              "        docLink.innerHTML = docLinkHtml;\n",
              "        element.appendChild(docLink);\n",
              "      }\n",
              "    </script>\n",
              "  </div>\n",
              "\n",
              "\n",
              "<div id=\"df-4929277b-e60b-4648-a161-802c3cfdee19\">\n",
              "  <button class=\"colab-df-quickchart\" onclick=\"quickchart('df-4929277b-e60b-4648-a161-802c3cfdee19')\"\n",
              "            title=\"Suggest charts\"\n",
              "            style=\"display:none;\">\n",
              "\n",
              "<svg xmlns=\"http://www.w3.org/2000/svg\" height=\"24px\"viewBox=\"0 0 24 24\"\n",
              "     width=\"24px\">\n",
              "    <g>\n",
              "        <path d=\"M19 3H5c-1.1 0-2 .9-2 2v14c0 1.1.9 2 2 2h14c1.1 0 2-.9 2-2V5c0-1.1-.9-2-2-2zM9 17H7v-7h2v7zm4 0h-2V7h2v10zm4 0h-2v-4h2v4z\"/>\n",
              "    </g>\n",
              "</svg>\n",
              "  </button>\n",
              "\n",
              "<style>\n",
              "  .colab-df-quickchart {\n",
              "      --bg-color: #E8F0FE;\n",
              "      --fill-color: #1967D2;\n",
              "      --hover-bg-color: #E2EBFA;\n",
              "      --hover-fill-color: #174EA6;\n",
              "      --disabled-fill-color: #AAA;\n",
              "      --disabled-bg-color: #DDD;\n",
              "  }\n",
              "\n",
              "  [theme=dark] .colab-df-quickchart {\n",
              "      --bg-color: #3B4455;\n",
              "      --fill-color: #D2E3FC;\n",
              "      --hover-bg-color: #434B5C;\n",
              "      --hover-fill-color: #FFFFFF;\n",
              "      --disabled-bg-color: #3B4455;\n",
              "      --disabled-fill-color: #666;\n",
              "  }\n",
              "\n",
              "  .colab-df-quickchart {\n",
              "    background-color: var(--bg-color);\n",
              "    border: none;\n",
              "    border-radius: 50%;\n",
              "    cursor: pointer;\n",
              "    display: none;\n",
              "    fill: var(--fill-color);\n",
              "    height: 32px;\n",
              "    padding: 0;\n",
              "    width: 32px;\n",
              "  }\n",
              "\n",
              "  .colab-df-quickchart:hover {\n",
              "    background-color: var(--hover-bg-color);\n",
              "    box-shadow: 0 1px 2px rgba(60, 64, 67, 0.3), 0 1px 3px 1px rgba(60, 64, 67, 0.15);\n",
              "    fill: var(--button-hover-fill-color);\n",
              "  }\n",
              "\n",
              "  .colab-df-quickchart-complete:disabled,\n",
              "  .colab-df-quickchart-complete:disabled:hover {\n",
              "    background-color: var(--disabled-bg-color);\n",
              "    fill: var(--disabled-fill-color);\n",
              "    box-shadow: none;\n",
              "  }\n",
              "\n",
              "  .colab-df-spinner {\n",
              "    border: 2px solid var(--fill-color);\n",
              "    border-color: transparent;\n",
              "    border-bottom-color: var(--fill-color);\n",
              "    animation:\n",
              "      spin 1s steps(1) infinite;\n",
              "  }\n",
              "\n",
              "  @keyframes spin {\n",
              "    0% {\n",
              "      border-color: transparent;\n",
              "      border-bottom-color: var(--fill-color);\n",
              "      border-left-color: var(--fill-color);\n",
              "    }\n",
              "    20% {\n",
              "      border-color: transparent;\n",
              "      border-left-color: var(--fill-color);\n",
              "      border-top-color: var(--fill-color);\n",
              "    }\n",
              "    30% {\n",
              "      border-color: transparent;\n",
              "      border-left-color: var(--fill-color);\n",
              "      border-top-color: var(--fill-color);\n",
              "      border-right-color: var(--fill-color);\n",
              "    }\n",
              "    40% {\n",
              "      border-color: transparent;\n",
              "      border-right-color: var(--fill-color);\n",
              "      border-top-color: var(--fill-color);\n",
              "    }\n",
              "    60% {\n",
              "      border-color: transparent;\n",
              "      border-right-color: var(--fill-color);\n",
              "    }\n",
              "    80% {\n",
              "      border-color: transparent;\n",
              "      border-right-color: var(--fill-color);\n",
              "      border-bottom-color: var(--fill-color);\n",
              "    }\n",
              "    90% {\n",
              "      border-color: transparent;\n",
              "      border-bottom-color: var(--fill-color);\n",
              "    }\n",
              "  }\n",
              "</style>\n",
              "\n",
              "  <script>\n",
              "    async function quickchart(key) {\n",
              "      const quickchartButtonEl =\n",
              "        document.querySelector('#' + key + ' button');\n",
              "      quickchartButtonEl.disabled = true;  // To prevent multiple clicks.\n",
              "      quickchartButtonEl.classList.add('colab-df-spinner');\n",
              "      try {\n",
              "        const charts = await google.colab.kernel.invokeFunction(\n",
              "            'suggestCharts', [key], {});\n",
              "      } catch (error) {\n",
              "        console.error('Error during call to suggestCharts:', error);\n",
              "      }\n",
              "      quickchartButtonEl.classList.remove('colab-df-spinner');\n",
              "      quickchartButtonEl.classList.add('colab-df-quickchart-complete');\n",
              "    }\n",
              "    (() => {\n",
              "      let quickchartButtonEl =\n",
              "        document.querySelector('#df-4929277b-e60b-4648-a161-802c3cfdee19 button');\n",
              "      quickchartButtonEl.style.display =\n",
              "        google.colab.kernel.accessAllowed ? 'block' : 'none';\n",
              "    })();\n",
              "  </script>\n",
              "</div>\n",
              "\n",
              "    </div>\n",
              "  </div>\n"
            ],
            "application/vnd.google.colaboratory.intrinsic+json": {
              "type": "dataframe",
              "variable_name": "anime_df",
              "summary": "{\n  \"name\": \"anime_df\",\n  \"rows\": 6811,\n  \"fields\": [\n    {\n      \"column\": \"name\",\n      \"properties\": {\n        \"dtype\": \"string\",\n        \"num_unique_values\": 6731,\n        \"samples\": [\n          \"Crayon Shin-chan Movie 28: Crash! Rakuga Kingdom and Almost Four Heroes\",\n          \"InuYasha: The Final Act\",\n          \"Burn Up! W\"\n        ],\n        \"semantic_type\": \"\",\n        \"description\": \"\"\n      }\n    },\n    {\n      \"column\": \"Tags\",\n      \"properties\": {\n        \"dtype\": \"object\",\n        \"semantic_type\": \"\",\n        \"description\": \"\"\n      }\n    }\n  ]\n}"
            }
          },
          "metadata": {},
          "execution_count": 227
        }
      ]
    },
    {
      "cell_type": "markdown",
      "source": [
        "## Stemming the words"
      ],
      "metadata": {
        "id": "omKSEf3yzDSV"
      }
    },
    {
      "cell_type": "code",
      "source": [
        "ps = PorterStemmer()"
      ],
      "metadata": {
        "id": "1c8XGjt0ynSr"
      },
      "execution_count": 199,
      "outputs": []
    },
    {
      "cell_type": "markdown",
      "source": [
        "we will stem each word in the tags column"
      ],
      "metadata": {
        "id": "J8jJ-6QlzNCM"
      }
    },
    {
      "cell_type": "code",
      "source": [
        "# function to stem each word and converting it to lower case\n",
        "\n",
        "def stem(ele):\n",
        "    ls = []\n",
        "    for i in ele:\n",
        "        ls.append((ps.stem(i)).lower())\n",
        "    return ' '.join(ls)"
      ],
      "metadata": {
        "id": "eULmrlsWzJz-"
      },
      "execution_count": 228,
      "outputs": []
    },
    {
      "cell_type": "code",
      "source": [
        "anime_df['Tags'] = anime_df['Tags'].apply(stem)"
      ],
      "metadata": {
        "colab": {
          "base_uri": "https://localhost:8080/"
        },
        "id": "Ghy87HTh03z7",
        "outputId": "ab9893e2-6398-4ea0-868e-a28bf13bcc12"
      },
      "execution_count": 240,
      "outputs": [
        {
          "output_type": "stream",
          "name": "stderr",
          "text": [
            "<ipython-input-240-b173c8bd225f>:1: SettingWithCopyWarning: \n",
            "A value is trying to be set on a copy of a slice from a DataFrame.\n",
            "Try using .loc[row_indexer,col_indexer] = value instead\n",
            "\n",
            "See the caveats in the documentation: https://pandas.pydata.org/pandas-docs/stable/user_guide/indexing.html#returning-a-view-versus-a-copy\n",
            "  anime_df['Tags'] = anime_df['Tags'].apply(stem)\n"
          ]
        }
      ]
    },
    {
      "cell_type": "markdown",
      "source": [
        "## Model Training"
      ],
      "metadata": {
        "id": "GPtOhPvE1bzX"
      }
    },
    {
      "cell_type": "markdown",
      "source": [
        "using TfidfVectorizer to get vector"
      ],
      "metadata": {
        "id": "1DqA68SX1gWP"
      }
    },
    {
      "cell_type": "code",
      "source": [
        "tfv = TfidfVectorizer(stop_words='english')"
      ],
      "metadata": {
        "id": "qTDD6GY-07XS"
      },
      "execution_count": 233,
      "outputs": []
    },
    {
      "cell_type": "code",
      "source": [
        "vectors = tfv.fit_transform(anime_df['Tags']).toarray()"
      ],
      "metadata": {
        "id": "2Pe7dAQm1uvC"
      },
      "execution_count": 241,
      "outputs": []
    },
    {
      "cell_type": "code",
      "source": [
        "vectors"
      ],
      "metadata": {
        "colab": {
          "base_uri": "https://localhost:8080/"
        },
        "id": "bUU3srvA15Bo",
        "outputId": "90263dec-1dfe-4c7a-9630-295c57685859"
      },
      "execution_count": 235,
      "outputs": [
        {
          "output_type": "execute_result",
          "data": {
            "text/plain": [
              "array([[0., 0., 0., ..., 0., 0., 0.],\n",
              "       [0., 0., 0., ..., 0., 0., 0.],\n",
              "       [0., 0., 0., ..., 0., 0., 0.],\n",
              "       ...,\n",
              "       [0., 0., 0., ..., 0., 0., 0.],\n",
              "       [0., 0., 0., ..., 0., 0., 0.],\n",
              "       [0., 0., 0., ..., 0., 0., 0.]])"
            ]
          },
          "metadata": {},
          "execution_count": 235
        }
      ]
    },
    {
      "cell_type": "code",
      "source": [
        "vectors.shape"
      ],
      "metadata": {
        "colab": {
          "base_uri": "https://localhost:8080/"
        },
        "id": "OhmGoftm18Ih",
        "outputId": "cfcd06a1-9824-434b-9357-b53b862c169a"
      },
      "execution_count": 236,
      "outputs": [
        {
          "output_type": "execute_result",
          "data": {
            "text/plain": [
              "(6811, 27067)"
            ]
          },
          "metadata": {},
          "execution_count": 236
        }
      ]
    },
    {
      "cell_type": "markdown",
      "source": [
        "we need the distance of each anime(vector) with each other to know how similar they are , we will use cosine_similarity for that"
      ],
      "metadata": {
        "id": "qz_zqrns2HkO"
      }
    },
    {
      "cell_type": "code",
      "source": [
        "cos_simi = cosine_similarity(vectors)"
      ],
      "metadata": {
        "id": "EPRF13-21-2J"
      },
      "execution_count": 237,
      "outputs": []
    },
    {
      "cell_type": "code",
      "source": [
        "cos_simi[0]"
      ],
      "metadata": {
        "colab": {
          "base_uri": "https://localhost:8080/"
        },
        "id": "R_TyHfLG2cVv",
        "outputId": "cee477a1-3137-4daf-e6e7-281addd8cb4c"
      },
      "execution_count": 238,
      "outputs": [
        {
          "output_type": "execute_result",
          "data": {
            "text/plain": [
              "array([1.        , 0.02126423, 0.00668727, ..., 0.0218958 , 0.01492883,\n",
              "       0.01163381])"
            ]
          },
          "metadata": {},
          "execution_count": 238
        }
      ]
    },
    {
      "cell_type": "markdown",
      "source": [
        "the first anime is similar to itself i.e, 100% and to second 2% and to third 0.6% and so on"
      ],
      "metadata": {
        "id": "icp7Rx1N2-Im"
      }
    },
    {
      "cell_type": "code",
      "source": [
        "cos_simi.shape"
      ],
      "metadata": {
        "colab": {
          "base_uri": "https://localhost:8080/"
        },
        "id": "ZqXobyox20Cf",
        "outputId": "2bc7356f-79c0-4d00-b4ed-7f7e2ac93e4c"
      },
      "execution_count": 239,
      "outputs": [
        {
          "output_type": "execute_result",
          "data": {
            "text/plain": [
              "(6811, 6811)"
            ]
          },
          "metadata": {},
          "execution_count": 239
        }
      ]
    },
    {
      "cell_type": "markdown",
      "source": [
        "## Getting Recommandation"
      ],
      "metadata": {
        "id": "4AlZC0zG3QbH"
      }
    },
    {
      "cell_type": "code",
      "source": [
        "def get_anime(name):\n",
        "\n",
        "    # index of anime\n",
        "    anime_idx = anime_df[anime_df['name'] == name].index[0]\n",
        "\n",
        "    distance = cos_simi[anime_idx]\n",
        "\n",
        "    anime_ls = sorted(list(enumerate(distance)), reverse=True, key=lambda x: x[1])[1:6]\n",
        "\n",
        "    for i,s in anime_ls:\n",
        "        print(anime_df['name'][i])"
      ],
      "metadata": {
        "id": "6UQLND1Q26ZJ"
      },
      "execution_count": 247,
      "outputs": []
    },
    {
      "cell_type": "code",
      "source": [
        "get_anime(anime_df['name'][3363])"
      ],
      "metadata": {
        "colab": {
          "base_uri": "https://localhost:8080/"
        },
        "id": "Zbub3vHJ4Za_",
        "outputId": "7c50aa05-7d73-4751-b04a-10098dbb3afc"
      },
      "execution_count": 253,
      "outputs": [
        {
          "output_type": "stream",
          "name": "stdout",
          "text": [
            "Death Note: Relight\n",
            "Soul Eater\n",
            "Persona 3 the Movie 4: Winter of Rebirth\n",
            "Momo, Girl God of Death\n",
            "Bleach: Memories in the Rain\n"
          ]
        }
      ]
    },
    {
      "cell_type": "markdown",
      "source": [
        "# saving the similarity matrix"
      ],
      "metadata": {
        "id": "DZAPzIAb5-XR"
      }
    },
    {
      "cell_type": "code",
      "source": [
        "import pickle as pkl"
      ],
      "metadata": {
        "id": "vWZsMe995yyh"
      },
      "execution_count": 254,
      "outputs": []
    },
    {
      "cell_type": "code",
      "source": [
        "with open('anime_similarity.pkl','wb') as f:\n",
        "    pkl.dump(cos_simi,f)"
      ],
      "metadata": {
        "id": "CK6A9tJm6Fnx"
      },
      "execution_count": 257,
      "outputs": []
    }
  ]
}
